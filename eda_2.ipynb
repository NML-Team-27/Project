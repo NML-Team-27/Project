{
 "cells": [
  {
   "cell_type": "code",
   "execution_count": 22,
   "metadata": {},
   "outputs": [
    {
     "name": "stdout",
     "output_type": "stream",
     "text": [
      "The autoreload extension is already loaded. To reload it, use:\n",
      "  %reload_ext autoreload\n"
     ]
    }
   ],
   "source": [
    "from utils import *\n",
    "import pandas as pd\n",
    "import seaborn as sns\n",
    "import matplotlib.pyplot as plt\n",
    "import networkx as nx\n",
    "from functools import partial\n",
    "%load_ext autoreload\n",
    "%autoreload 2"
   ]
  },
  {
   "attachments": {},
   "cell_type": "markdown",
   "metadata": {},
   "source": [
    "# Exploration of the data\n",
    "\n",
    "## Checks\n",
    "First, we want to check if the nodes are not duplicated for each transport."
   ]
  },
  {
   "cell_type": "code",
   "execution_count": 17,
   "metadata": {},
   "outputs": [],
   "source": [
    "graphs,nodes,city_names = get_all_city_graph(\"data\")"
   ]
  },
  {
   "cell_type": "code",
   "execution_count": 18,
   "metadata": {},
   "outputs": [
    {
     "data": {
      "text/html": [
       "<div>\n",
       "<style scoped>\n",
       "    .dataframe tbody tr th:only-of-type {\n",
       "        vertical-align: middle;\n",
       "    }\n",
       "\n",
       "    .dataframe tbody tr th {\n",
       "        vertical-align: top;\n",
       "    }\n",
       "\n",
       "    .dataframe thead th {\n",
       "        text-align: right;\n",
       "    }\n",
       "</style>\n",
       "<table border=\"1\" class=\"dataframe\">\n",
       "  <thead>\n",
       "    <tr style=\"text-align: right;\">\n",
       "      <th></th>\n",
       "      <th>name</th>\n",
       "      <th>city_center</th>\n",
       "      <th>city</th>\n",
       "    </tr>\n",
       "    <tr>\n",
       "      <th>stop_I</th>\n",
       "      <th></th>\n",
       "      <th></th>\n",
       "      <th></th>\n",
       "    </tr>\n",
       "  </thead>\n",
       "  <tbody>\n",
       "    <tr>\n",
       "      <th>1</th>\n",
       "      <td>Gawler Central Railway Station</td>\n",
       "      <td>0</td>\n",
       "      <td>adelaide</td>\n",
       "    </tr>\n",
       "    <tr>\n",
       "      <th>2</th>\n",
       "      <td>Gawler Oval Railway Station</td>\n",
       "      <td>0</td>\n",
       "      <td>adelaide</td>\n",
       "    </tr>\n",
       "    <tr>\n",
       "      <th>3</th>\n",
       "      <td>Gawler Railway Station</td>\n",
       "      <td>0</td>\n",
       "      <td>adelaide</td>\n",
       "    </tr>\n",
       "    <tr>\n",
       "      <th>4</th>\n",
       "      <td>Evanston Railway Station</td>\n",
       "      <td>0</td>\n",
       "      <td>adelaide</td>\n",
       "    </tr>\n",
       "    <tr>\n",
       "      <th>5</th>\n",
       "      <td>Tambelin Railway Station</td>\n",
       "      <td>0</td>\n",
       "      <td>adelaide</td>\n",
       "    </tr>\n",
       "    <tr>\n",
       "      <th>6</th>\n",
       "      <td>Kudla Railway Station</td>\n",
       "      <td>0</td>\n",
       "      <td>adelaide</td>\n",
       "    </tr>\n",
       "    <tr>\n",
       "      <th>7</th>\n",
       "      <td>Munno Para Railway Station</td>\n",
       "      <td>0</td>\n",
       "      <td>adelaide</td>\n",
       "    </tr>\n",
       "    <tr>\n",
       "      <th>8</th>\n",
       "      <td>Smithfield Railway Station</td>\n",
       "      <td>0</td>\n",
       "      <td>adelaide</td>\n",
       "    </tr>\n",
       "    <tr>\n",
       "      <th>9</th>\n",
       "      <td>Broadmeadows Railway Station</td>\n",
       "      <td>0</td>\n",
       "      <td>adelaide</td>\n",
       "    </tr>\n",
       "    <tr>\n",
       "      <th>10</th>\n",
       "      <td>Womma Railway Station</td>\n",
       "      <td>0</td>\n",
       "      <td>adelaide</td>\n",
       "    </tr>\n",
       "  </tbody>\n",
       "</table>\n",
       "</div>"
      ],
      "text/plain": [
       "                                  name  city_center      city\n",
       "stop_I                                                       \n",
       "1       Gawler Central Railway Station            0  adelaide\n",
       "2          Gawler Oval Railway Station            0  adelaide\n",
       "3               Gawler Railway Station            0  adelaide\n",
       "4             Evanston Railway Station            0  adelaide\n",
       "5             Tambelin Railway Station            0  adelaide\n",
       "6                Kudla Railway Station            0  adelaide\n",
       "7           Munno Para Railway Station            0  adelaide\n",
       "8           Smithfield Railway Station            0  adelaide\n",
       "9         Broadmeadows Railway Station            0  adelaide\n",
       "10               Womma Railway Station            0  adelaide"
      ]
     },
     "execution_count": 18,
     "metadata": {},
     "output_type": "execute_result"
    }
   ],
   "source": [
    "nodes[0].head(10)"
   ]
  },
  {
   "cell_type": "code",
   "execution_count": 27,
   "metadata": {},
   "outputs": [
    {
     "name": "stdout",
     "output_type": "stream",
     "text": [
      "Computing clustering\n",
      "Computing betweeness_centrality\n",
      "Computing degree_distribution\n",
      "Computing eigenvector_centrality\n",
      "Computing clustering\n",
      "Computing betweeness_centrality\n",
      "Computing degree_distribution\n",
      "Computing eigenvector_centrality\n",
      "Computing clustering\n",
      "Computing betweeness_centrality\n",
      "Computing degree_distribution\n",
      "Computing eigenvector_centrality\n",
      "Computing clustering\n",
      "Computing betweeness_centrality\n",
      "Computing degree_distribution\n",
      "Computing eigenvector_centrality\n",
      "Computing clustering\n",
      "Computing betweeness_centrality\n"
     ]
    }
   ],
   "source": [
    "final  = []\n",
    "fcts = [(\"clustering\", nx.clustering),(\"betweeness_centrality\",partial(nx.betweenness_centrality,k=500)), (\"degree_distribution\",nx.degree),(\"eigenvector_centrality\",partial(nx.eigenvector_centrality,max_iter=500))]\n",
    "for g, node in zip(graphs, nodes):\n",
    "    for attr, fct in fcts:\n",
    "        node = add_attribute_to_name(node, attr, fct,g)\n",
    "        final.append(node)"
   ]
  },
  {
   "cell_type": "code",
   "execution_count": null,
   "metadata": {},
   "outputs": [],
   "source": [
    "for attr, _ in fcts:\n",
    "    plot_attributes(final,attr,names,city_by_city=False)\n",
    "\n"
   ]
  }
 ],
 "metadata": {
  "kernelspec": {
   "display_name": "ma4",
   "language": "python",
   "name": "python3"
  },
  "language_info": {
   "codemirror_mode": {
    "name": "ipython",
    "version": 3
   },
   "file_extension": ".py",
   "mimetype": "text/x-python",
   "name": "python",
   "nbconvert_exporter": "python",
   "pygments_lexer": "ipython3",
   "version": "3.9.13"
  },
  "orig_nbformat": 4
 },
 "nbformat": 4,
 "nbformat_minor": 2
}
