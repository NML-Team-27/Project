{
 "cells": [
  {
   "cell_type": "code",
   "execution_count": 1,
   "metadata": {},
   "outputs": [
    {
     "name": "stderr",
     "output_type": "stream",
     "text": [
      "/home/cpittet/anaconda3/envs/ma4/lib/python3.10/site-packages/tqdm/auto.py:22: TqdmWarning: IProgress not found. Please update jupyter and ipywidgets. See https://ipywidgets.readthedocs.io/en/stable/user_install.html\n",
      "  from .autonotebook import tqdm as notebook_tqdm\n"
     ]
    }
   ],
   "source": [
    "from pecanpy import pecanpy as pp\n",
    "import utils\n",
    "import networkx as nx\n",
    "import os\n",
    "from sklearn.model_selection import train_test_split\n",
    "import numpy as np\n",
    "from sklearn.preprocessing import StandardScaler\n",
    "from sklearn.metrics import classification_report\n",
    "from sklearn.svm import SVC\n",
    "import json\n",
    "from numpy.typing import NDArray\n",
    "from typing import Dict\n",
    "import pandas as pd\n",
    "from sklearn.feature_selection import SelectPercentile, f_classif\n",
    "from training import train_gnn\n",
    "from torch_geometric.data import Data\n",
    "import torch\n",
    "import torch_geometric as pyg\n",
    "\n",
    "%load_ext autoreload\n",
    "%autoreload 2"
   ]
  },
  {
   "cell_type": "code",
   "execution_count": 64,
   "metadata": {},
   "outputs": [],
   "source": [
    "def init_result_folder(path: str) -> nx.Graph:\n",
    "    if not os.path.exists(os.path.join(path, 'results')):\n",
    "        os.mkdir(os.path.join(path, 'results'))\n",
    "\n",
    "    with open(os.path.join(path, 'results', 'results.json'), 'w') as f:\n",
    "        json.dump(dict(), f)\n",
    "\n",
    "    path_split = path.split('/')\n",
    "    city_name = path_split[-1]\n",
    "    data_dir = os.path.join(*path_split[:-1])\n",
    "    graph, _ = utils.create_city_graph(city_name, data_dir)\n",
    "    graph = nx.DiGraph(graph)\n",
    "\n",
    "    mapping = {k: i for i, k in enumerate(sorted(graph.nodes()))}\n",
    "    graph = nx.relabel_nodes(graph, mapping)\n",
    "\n",
    "    path_edg_file = os.path.join(path, 'adj_mat.edg')\n",
    "    nx.write_edgelist(graph, path_edg_file, data=False, delimiter='\\t')\n",
    "\n",
    "    return graph\n",
    "\n",
    "\n",
    "def save_embeddings(path: str, p: float, q: float, num_walks: int, dim: int = 256) -> NDArray[np.float_]:\n",
    "    path_edg_file = os.path.join(path, 'adj_mat.edg')\n",
    "\n",
    "    g = pp.SparseOTF(p=p, q=q, verbose=False, workers=16)\n",
    "    g.read_edg(path_edg_file, weighted=False, directed=True)\n",
    "\n",
    "    embeddings = g.embed(dim=dim, num_walks=num_walks)\n",
    "\n",
    "    np.save(os.path.join(path, 'results', 'node2vec_embeddings.npy'), embeddings)\n",
    "\n",
    "    return embeddings\n",
    "\n",
    "\n",
    "def train_svm(features: NDArray[np.float_], targets: NDArray[np.float_], seed: int = 42,scale_features=False) -> Dict:\n",
    "    X_train, X_test, y_train, y_test = train_test_split(features, targets, test_size=0.2, stratify=targets, random_state=seed)\n",
    "\n",
    "    model = SVC(class_weight='balanced', C=1)\n",
    "    if scale_features:\n",
    "        standard_scaler = StandardScaler()\n",
    "        standard_scaler.fit(X_train)\n",
    "        X_train = standard_scaler.transform(X_train)\n",
    "        X_test = standard_scaler.transform(X_test)\n",
    "\n",
    "        score = f_classif(X_train,y_train)\n",
    "        #print(score[0])\n",
    "\n",
    "    model.fit(X_train, y_train)\n",
    "\n",
    "    train_preds = model.predict(X_train)\n",
    "    test_preds = model.predict(X_test)\n",
    "\n",
    "    results = {}\n",
    "    results['train'] = classification_report(y_train, train_preds, output_dict=True)\n",
    "    results['test'] = classification_report(y_test, test_preds, output_dict=True)\n",
    "\n",
    "    return results\n",
    "\n",
    "\n",
    "def cities_loop(data_path: str, p: float, q: float, num_walks: int, dim: int) -> None:\n",
    "\n",
    "    for entry in os.scandir(data_path):\n",
    "        if entry.is_dir():\n",
    "            city = entry.name\n",
    "            graph = init_result_folder(entry.path)\n",
    "            embeddings = save_embeddings(entry.path, p, q, num_walks=num_walks, dim=dim)\n",
    "            \n",
    "            targets = dict(graph.nodes(data='city_center'))\n",
    "            targets = np.array([targets[v] for v in range(len(targets))])\n",
    "            \n",
    "            results = train_svm(embeddings, targets)\n",
    "            df_features = pd.read_csv(os.path.join(data_path,\"handcrafted_features.csv\"))\n",
    "            df_features = df_features[df_features[\"city\"]==city]\n",
    "            targets_handcrafted = df_features[\"city_center\"].values\n",
    "            features_handcrafted = df_features.drop([\"stop_I\",\"name\",\"city_center\",\"city\",\"Unnamed: 0\"],axis=1)\n",
    "\n",
    "            results_handcrafted =  train_svm(features_handcrafted, targets_handcrafted,scale_features=True)\n",
    "\n",
    "            with open(os.path.join(entry.path, 'results', 'results.json'), 'r') as f:\n",
    "                res_dict = json.load(f)\n",
    "            print()\n",
    "            res_dict['baseline_svm'] = results\n",
    "            res_dict[\"handcrafted_svm\"] = results_handcrafted\n",
    "\n",
    "            with open(os.path.join(entry.path, 'results', 'results.json'), 'w') as f:\n",
    "                json.dump(res_dict, f)\n",
    "\n",
    "\n",
    "def cities_loop_gnn(data_path: str, seed: int = 42) -> None:\n",
    "\n",
    "    for entry in os.scandir(data_path):\n",
    "        if entry.is_dir():\n",
    "            city = entry.name\n",
    "            print(city)\n",
    "            if city != 'turku':\n",
    "                continue\n",
    "            \n",
    "            df_features = pd.read_csv(os.path.join(data_path,\"handcrafted_features.csv\"))\n",
    "            df_features = df_features[df_features[\"city\"]==city]\n",
    "            targets_handcrafted = df_features[\"city_center\"].values\n",
    "            features_handcrafted = df_features.drop([\"stop_I\", \"name\", \"city_center\", \"city\",\"Unnamed: 0\"],axis=1).values\n",
    "            graph = nx.read_edgelist(os.path.join(entry.path, 'adj_mat.edg'), create_using=nx.DiGraph)\n",
    "\n",
    "            print(targets_handcrafted.shape)\n",
    "            print(features_handcrafted.shape)\n",
    "            \n",
    "            print(f'number of edges in nx graph : {graph.number_of_edges()}')\n",
    "            adj_mat = nx.adjacency_matrix(graph, weight=None) # not weighted\n",
    "            print(f'adj mat shape : {adj_mat.shape}')\n",
    "            edge_index, _ = pyg.utils.from_scipy_sparse_matrix(adj_mat)\n",
    "            print(f'adj mat shape sparse tensor : {edge_index.shape}')\n",
    "\n",
    "            d = Data(\n",
    "                x=torch.from_numpy(features_handcrafted),\n",
    "                y=torch.tensor(targets_handcrafted, dtype=torch.float).clone(),\n",
    "                edge_index=edge_index.clone(),\n",
    "            )\n",
    "\n",
    "            train_ids, test_ids = train_test_split(\n",
    "                np.arange(features_handcrafted.shape[0]), test_size=0.2, stratify=targets_handcrafted, random_state=seed\n",
    "            )\n",
    "\n",
    "            train_ids, val_ids = train_test_split(\n",
    "                train_ids, test_size=0.2, stratify=targets_handcrafted[train_ids], random_state=seed\n",
    "            )\n",
    "\n",
    "            pos_weight = np.sum(targets_handcrafted[train_ids] == 0) / np.sum(targets_handcrafted[train_ids] == 1)\n",
    "            print(f'Pos weight : {pos_weight}')\n",
    "\n",
    "            print(f'Training GNN...')\n",
    "            # results_gnn = train_gnn(\n",
    "            #     [d],\n",
    "            #     train_ids,\n",
    "            #     val_ids,\n",
    "            #     test_ids,\n",
    "            #     pos_weight=pos_weight,\n",
    "            #     model_name='gnn',\n",
    "            #     lr=1e-3,\n",
    "            #     epochs=200,\n",
    "            #     out_channels_graph=128,\n",
    "            #     in_channels_graph=18,\n",
    "            #     nb_graph_conv=5,\n",
    "            #     dropout=0.0,\n",
    "\n",
    "            # )\n",
    "            print('*******************************')\n",
    "            print(f'Training GAT...')\n",
    "            results_gat = train_gnn(\n",
    "                [d],\n",
    "                train_ids,\n",
    "                val_ids,\n",
    "                test_ids,\n",
    "                pos_weight=pos_weight,\n",
    "                model_name='gat',\n",
    "                lr=1e-3,\n",
    "                epochs=200,\n",
    "                out_channels_graph=16,\n",
    "                in_channels_graph=18,\n",
    "                heads=8,\n",
    "                nb_graph_conv=3,\n",
    "                dropout=0.0\n",
    "            )\n",
    "            break\n",
    "\n",
    "            with open(os.path.join(entry.path, 'results', 'results.json'), 'r') as f:\n",
    "                res_dict = json.load(f)\n",
    "            print()\n",
    "            res_dict['gnn'] = results_gnn\n",
    "            res_dict[\"gat\"] = results_gat\n",
    "\n",
    "            with open(os.path.join(entry.path, 'results', 'results.json'), 'w') as f:\n",
    "                json.dump(res_dict, f)\n",
    "\n",
    "            print('***********************************************')\n",
    "            print('***********************************************')\n",
    "            break"
   ]
  },
  {
   "cell_type": "code",
   "execution_count": 65,
   "metadata": {},
   "outputs": [
    {
     "name": "stdout",
     "output_type": "stream",
     "text": [
      "bordeaux\n",
      "helsinki\n",
      "rome\n",
      "luxembourg\n",
      "brisbane\n",
      "canberra\n",
      "nantes\n",
      "kuopio\n",
      "palermo\n",
      "toulouse\n",
      "berlin\n",
      "rennes\n",
      "sydney\n",
      "turku\n",
      "(1850,)\n",
      "(1850, 18)\n",
      "number of edges in nx graph : 2341\n",
      "adj mat shape : (1850, 1850)\n",
      "adj mat shape sparse tensor : torch.Size([2, 2341])\n",
      "Pos weight : 4.5327102803738315\n",
      "Training GNN...\n",
      "*******************************\n",
      "Training GAT...\n",
      "Number of parameters in model : 80001\n"
     ]
    },
    {
     "name": "stderr",
     "output_type": "stream",
     "text": [
      "Epoch 1 / 200: 1it [00:00, 11.97it/s]\n"
     ]
    },
    {
     "name": "stdout",
     "output_type": "stream",
     "text": [
      "Avg. train loss of epoch 1 : 0.0021\n",
      "Validation loss : 0.016151412113292796\n",
      "Validation F1-score : 0.308139534883721\n",
      "Validation recall-score : 0.9814814814814815\n",
      "Validation precision-score : 0.18275862068965518\n"
     ]
    },
    {
     "name": "stderr",
     "output_type": "stream",
     "text": [
      "Epoch 2 / 200: 1it [00:00, 13.60it/s]\n"
     ]
    },
    {
     "name": "stdout",
     "output_type": "stream",
     "text": [
      "Avg. train loss of epoch 2 : 0.0040\n",
      "Validation loss : 0.01165605557931436\n",
      "Validation F1-score : 0.0625\n",
      "Validation recall-score : 0.037037037037037035\n",
      "Validation precision-score : 0.2\n"
     ]
    },
    {
     "name": "stderr",
     "output_type": "stream",
     "text": [
      "Epoch 3 / 200: 1it [00:00, 11.80it/s]\n"
     ]
    },
    {
     "name": "stdout",
     "output_type": "stream",
     "text": [
      "Avg. train loss of epoch 3 : 0.0022\n",
      "Validation loss : 0.010549330228083843\n",
      "Validation F1-score : 0.0625\n",
      "Validation recall-score : 0.037037037037037035\n",
      "Validation precision-score : 0.2\n"
     ]
    },
    {
     "name": "stderr",
     "output_type": "stream",
     "text": [
      "Epoch 4 / 200: 1it [00:00, 11.80it/s]\n"
     ]
    },
    {
     "name": "stdout",
     "output_type": "stream",
     "text": [
      "Avg. train loss of epoch 4 : 0.0021\n",
      "Validation loss : 0.0072043989155743575\n",
      "Validation F1-score : 0.23\n",
      "Validation recall-score : 0.42592592592592593\n",
      "Validation precision-score : 0.15753424657534246\n"
     ]
    },
    {
     "name": "stderr",
     "output_type": "stream",
     "text": [
      "Epoch 5 / 200: 1it [00:00, 10.47it/s]\n"
     ]
    },
    {
     "name": "stdout",
     "output_type": "stream",
     "text": [
      "Avg. train loss of epoch 5 : 0.0012\n",
      "Validation loss : 0.008440995538556898\n",
      "Validation F1-score : 0.29102167182662536\n",
      "Validation recall-score : 0.8703703703703703\n",
      "Validation precision-score : 0.17472118959107807\n"
     ]
    },
    {
     "name": "stderr",
     "output_type": "stream",
     "text": [
      "Epoch 6 / 200: 1it [00:00, 13.07it/s]\n"
     ]
    },
    {
     "name": "stdout",
     "output_type": "stream",
     "text": [
      "Avg. train loss of epoch 6 : 0.0017\n",
      "Validation loss : 0.007437167135444847\n",
      "Validation F1-score : 0.30769230769230765\n",
      "Validation recall-score : 0.8518518518518519\n",
      "Validation precision-score : 0.18775510204081633\n"
     ]
    },
    {
     "name": "stderr",
     "output_type": "stream",
     "text": [
      "Epoch 7 / 200: 1it [00:00, 10.60it/s]\n"
     ]
    },
    {
     "name": "stdout",
     "output_type": "stream",
     "text": [
      "Avg. train loss of epoch 7 : 0.0014\n",
      "Validation loss : 0.007067757683831292\n",
      "Validation F1-score : 0.20270270270270271\n",
      "Validation recall-score : 0.2777777777777778\n",
      "Validation precision-score : 0.1595744680851064\n"
     ]
    },
    {
     "name": "stderr",
     "output_type": "stream",
     "text": [
      "Epoch 8 / 200: 1it [00:00, 11.89it/s]\n"
     ]
    },
    {
     "name": "stdout",
     "output_type": "stream",
     "text": [
      "Avg. train loss of epoch 8 : 0.0010\n",
      "Validation loss : 0.008708218464980254\n",
      "Validation F1-score : 0.08333333333333333\n",
      "Validation recall-score : 0.05555555555555555\n",
      "Validation precision-score : 0.16666666666666666\n"
     ]
    },
    {
     "name": "stderr",
     "output_type": "stream",
     "text": [
      "Epoch 9 / 200: 1it [00:00, 10.83it/s]\n"
     ]
    },
    {
     "name": "stdout",
     "output_type": "stream",
     "text": [
      "Avg. train loss of epoch 9 : 0.0013\n",
      "Validation loss : 0.008216918320269198\n",
      "Validation F1-score : 0.10126582278481013\n",
      "Validation recall-score : 0.07407407407407407\n",
      "Validation precision-score : 0.16\n"
     ]
    },
    {
     "name": "stderr",
     "output_type": "stream",
     "text": [
      "Epoch 10 / 200: 1it [00:00,  9.19it/s]\n"
     ]
    },
    {
     "name": "stdout",
     "output_type": "stream",
     "text": [
      "Avg. train loss of epoch 10 : 0.0012\n",
      "Validation loss : 0.006753266663164706\n",
      "Validation F1-score : 0.2209302325581395\n",
      "Validation recall-score : 0.35185185185185186\n",
      "Validation precision-score : 0.16101694915254236\n"
     ]
    },
    {
     "name": "stderr",
     "output_type": "stream",
     "text": [
      "Epoch 11 / 200: 1it [00:00,  8.96it/s]\n"
     ]
    },
    {
     "name": "stdout",
     "output_type": "stream",
     "text": [
      "Avg. train loss of epoch 11 : 0.0009\n",
      "Validation loss : 0.006853913938676989\n",
      "Validation F1-score : 0.2756183745583039\n",
      "Validation recall-score : 0.7222222222222222\n",
      "Validation precision-score : 0.1703056768558952\n"
     ]
    },
    {
     "name": "stderr",
     "output_type": "stream",
     "text": [
      "Epoch 12 / 200: 1it [00:00,  6.84it/s]"
     ]
    },
    {
     "name": "stdout",
     "output_type": "stream",
     "text": [
      "Avg. train loss of epoch 12 : 0.0010\n"
     ]
    },
    {
     "name": "stderr",
     "output_type": "stream",
     "text": [
      "\n"
     ]
    },
    {
     "name": "stdout",
     "output_type": "stream",
     "text": [
      "Validation loss : 0.0069837997088561185\n",
      "Validation F1-score : 0.2724252491694352\n",
      "Validation recall-score : 0.7592592592592593\n",
      "Validation precision-score : 0.1659919028340081\n"
     ]
    },
    {
     "name": "stderr",
     "output_type": "stream",
     "text": [
      "Epoch 13 / 200: 1it [00:00,  6.77it/s]"
     ]
    },
    {
     "name": "stdout",
     "output_type": "stream",
     "text": [
      "Avg. train loss of epoch 13 : 0.0011\n"
     ]
    },
    {
     "name": "stderr",
     "output_type": "stream",
     "text": [
      "\n"
     ]
    },
    {
     "name": "stdout",
     "output_type": "stream",
     "text": [
      "Validation loss : 0.006547818312773833\n",
      "Validation F1-score : 0.29149797570850206\n",
      "Validation recall-score : 0.6666666666666666\n",
      "Validation precision-score : 0.18652849740932642\n"
     ]
    },
    {
     "name": "stderr",
     "output_type": "stream",
     "text": [
      "Epoch 14 / 200: 1it [00:00,  8.75it/s]\n"
     ]
    },
    {
     "name": "stdout",
     "output_type": "stream",
     "text": [
      "Avg. train loss of epoch 14 : 0.0009\n",
      "Validation loss : 0.006752451126639907\n",
      "Validation F1-score : 0.16793893129770993\n",
      "Validation recall-score : 0.2037037037037037\n",
      "Validation precision-score : 0.14285714285714285\n"
     ]
    },
    {
     "name": "stderr",
     "output_type": "stream",
     "text": [
      "Epoch 15 / 200: 1it [00:00,  9.44it/s]\n"
     ]
    },
    {
     "name": "stdout",
     "output_type": "stream",
     "text": [
      "Avg. train loss of epoch 15 : 0.0009\n",
      "Validation loss : 0.00746548900733123\n",
      "Validation F1-score : 0.13333333333333333\n",
      "Validation recall-score : 0.1111111111111111\n",
      "Validation precision-score : 0.16666666666666666\n"
     ]
    },
    {
     "name": "stderr",
     "output_type": "stream",
     "text": [
      "Epoch 16 / 200: 1it [00:00,  9.03it/s]\n"
     ]
    },
    {
     "name": "stdout",
     "output_type": "stream",
     "text": [
      "Avg. train loss of epoch 16 : 0.0009\n",
      "Validation loss : 0.007582881160684534\n",
      "Validation F1-score : 0.12631578947368421\n",
      "Validation recall-score : 0.1111111111111111\n",
      "Validation precision-score : 0.14634146341463414\n"
     ]
    },
    {
     "name": "stderr",
     "output_type": "stream",
     "text": [
      "Epoch 17 / 200: 1it [00:00,  8.99it/s]\n"
     ]
    },
    {
     "name": "stdout",
     "output_type": "stream",
     "text": [
      "Avg. train loss of epoch 17 : 0.0009\n",
      "Validation loss : 0.007017962835930489\n",
      "Validation F1-score : 0.19999999999999998\n",
      "Validation recall-score : 0.2777777777777778\n",
      "Validation precision-score : 0.15625\n"
     ]
    },
    {
     "name": "stderr",
     "output_type": "stream",
     "text": [
      "Epoch 18 / 200: 1it [00:00, 10.82it/s]\n"
     ]
    },
    {
     "name": "stdout",
     "output_type": "stream",
     "text": [
      "Avg. train loss of epoch 18 : 0.0008\n",
      "Validation loss : 0.006836021268689954\n",
      "Validation F1-score : 0.28695652173913044\n",
      "Validation recall-score : 0.6111111111111112\n",
      "Validation precision-score : 0.1875\n"
     ]
    },
    {
     "name": "stderr",
     "output_type": "stream",
     "text": [
      "Epoch 19 / 200: 1it [00:00,  7.83it/s]\n"
     ]
    },
    {
     "name": "stdout",
     "output_type": "stream",
     "text": [
      "Avg. train loss of epoch 19 : 0.0008\n",
      "Validation loss : 0.006906226680085466\n",
      "Validation F1-score : 0.28685258964143423\n",
      "Validation recall-score : 0.6666666666666666\n",
      "Validation precision-score : 0.18274111675126903\n"
     ]
    },
    {
     "name": "stderr",
     "output_type": "stream",
     "text": [
      "Epoch 20 / 200: 1it [00:00,  4.03it/s]\n"
     ]
    },
    {
     "name": "stdout",
     "output_type": "stream",
     "text": [
      "Avg. train loss of epoch 20 : 0.0008\n",
      "Validation loss : 0.006808253558906349\n",
      "Validation F1-score : 0.27555555555555555\n",
      "Validation recall-score : 0.5740740740740741\n",
      "Validation precision-score : 0.18128654970760233\n"
     ]
    },
    {
     "name": "stderr",
     "output_type": "stream",
     "text": [
      "Epoch 21 / 200: 1it [00:00,  8.60it/s]\n"
     ]
    },
    {
     "name": "stdout",
     "output_type": "stream",
     "text": [
      "Avg. train loss of epoch 21 : 0.0008\n",
      "Validation loss : 0.00669324236947137\n",
      "Validation F1-score : 0.22222222222222224\n",
      "Validation recall-score : 0.3148148148148148\n",
      "Validation precision-score : 0.1717171717171717\n"
     ]
    },
    {
     "name": "stderr",
     "output_type": "stream",
     "text": [
      "Epoch 22 / 200: 1it [00:00,  8.72it/s]\n"
     ]
    },
    {
     "name": "stdout",
     "output_type": "stream",
     "text": [
      "Avg. train loss of epoch 22 : 0.0007\n",
      "Validation loss : 0.0070263711181846825\n",
      "Validation F1-score : 0.16071428571428573\n",
      "Validation recall-score : 0.16666666666666666\n",
      "Validation precision-score : 0.15517241379310345\n"
     ]
    },
    {
     "name": "stderr",
     "output_type": "stream",
     "text": [
      "Epoch 23 / 200: 1it [00:00,  9.31it/s]\n"
     ]
    },
    {
     "name": "stdout",
     "output_type": "stream",
     "text": [
      "Avg. train loss of epoch 23 : 0.0007\n",
      "Validation loss : 0.006131848773440799\n",
      "Validation F1-score : 0.13333333333333333\n",
      "Validation recall-score : 0.12962962962962962\n",
      "Validation precision-score : 0.13725490196078433\n"
     ]
    },
    {
     "name": "stderr",
     "output_type": "stream",
     "text": [
      "Epoch 24 / 200: 1it [00:00,  8.13it/s]\n"
     ]
    },
    {
     "name": "stdout",
     "output_type": "stream",
     "text": [
      "Avg. train loss of epoch 24 : 0.0007\n",
      "Validation loss : 0.005658235904332754\n",
      "Validation F1-score : 0.24427480916030533\n",
      "Validation recall-score : 0.2962962962962963\n",
      "Validation precision-score : 0.2077922077922078\n"
     ]
    },
    {
     "name": "stderr",
     "output_type": "stream",
     "text": [
      "Epoch 25 / 200: 1it [00:00,  9.94it/s]\n"
     ]
    },
    {
     "name": "stdout",
     "output_type": "stream",
     "text": [
      "Avg. train loss of epoch 25 : 0.0007\n",
      "Validation loss : 0.00532975873431644\n",
      "Validation F1-score : 0.27118644067796616\n",
      "Validation recall-score : 0.4444444444444444\n",
      "Validation precision-score : 0.1951219512195122\n"
     ]
    },
    {
     "name": "stderr",
     "output_type": "stream",
     "text": [
      "Epoch 26 / 200: 1it [00:00,  7.13it/s]"
     ]
    },
    {
     "name": "stdout",
     "output_type": "stream",
     "text": [
      "Avg. train loss of epoch 26 : 0.0007\n"
     ]
    },
    {
     "name": "stderr",
     "output_type": "stream",
     "text": [
      "\n"
     ]
    },
    {
     "name": "stdout",
     "output_type": "stream",
     "text": [
      "Validation loss : 0.0053982029895524725\n",
      "Validation F1-score : 0.30414746543778803\n",
      "Validation recall-score : 0.6111111111111112\n",
      "Validation precision-score : 0.20245398773006135\n"
     ]
    },
    {
     "name": "stderr",
     "output_type": "stream",
     "text": [
      "Epoch 27 / 200: 1it [00:00,  6.27it/s]"
     ]
    },
    {
     "name": "stdout",
     "output_type": "stream",
     "text": [
      "Avg. train loss of epoch 27 : 0.0007\n"
     ]
    },
    {
     "name": "stderr",
     "output_type": "stream",
     "text": [
      "\n"
     ]
    },
    {
     "name": "stdout",
     "output_type": "stream",
     "text": [
      "Validation loss : 0.005346389638411032\n",
      "Validation F1-score : 0.29107981220657275\n",
      "Validation recall-score : 0.5740740740740741\n",
      "Validation precision-score : 0.1949685534591195\n"
     ]
    },
    {
     "name": "stderr",
     "output_type": "stream",
     "text": [
      "Epoch 28 / 200: 1it [00:00, 12.16it/s]\n"
     ]
    },
    {
     "name": "stdout",
     "output_type": "stream",
     "text": [
      "Avg. train loss of epoch 28 : 0.0007\n",
      "Validation loss : 0.006274855217418155\n",
      "Validation F1-score : 0.27380952380952384\n",
      "Validation recall-score : 0.42592592592592593\n",
      "Validation precision-score : 0.20175438596491227\n"
     ]
    },
    {
     "name": "stderr",
     "output_type": "stream",
     "text": [
      "Epoch 29 / 200: 1it [00:00,  6.82it/s]\n"
     ]
    },
    {
     "name": "stdout",
     "output_type": "stream",
     "text": [
      "Avg. train loss of epoch 29 : 0.0006\n",
      "Validation loss : 0.006686557386372541\n",
      "Validation F1-score : 0.24615384615384617\n",
      "Validation recall-score : 0.2962962962962963\n",
      "Validation precision-score : 0.21052631578947367\n"
     ]
    },
    {
     "name": "stderr",
     "output_type": "stream",
     "text": [
      "Epoch 30 / 200: 1it [00:00,  7.46it/s]"
     ]
    },
    {
     "name": "stdout",
     "output_type": "stream",
     "text": [
      "Avg. train loss of epoch 30 : 0.0006\n"
     ]
    },
    {
     "name": "stderr",
     "output_type": "stream",
     "text": [
      "\n"
     ]
    },
    {
     "name": "stdout",
     "output_type": "stream",
     "text": [
      "Validation loss : 0.0069288007310918855\n",
      "Validation F1-score : 0.18018018018018017\n",
      "Validation recall-score : 0.18518518518518517\n",
      "Validation precision-score : 0.17543859649122806\n"
     ]
    },
    {
     "name": "stderr",
     "output_type": "stream",
     "text": [
      "Epoch 31 / 200: 1it [00:00,  9.28it/s]\n"
     ]
    },
    {
     "name": "stdout",
     "output_type": "stream",
     "text": [
      "Avg. train loss of epoch 31 : 0.0006\n",
      "Validation loss : 0.006826845375267235\n",
      "Validation F1-score : 0.17241379310344826\n",
      "Validation recall-score : 0.18518518518518517\n",
      "Validation precision-score : 0.16129032258064516\n"
     ]
    },
    {
     "name": "stderr",
     "output_type": "stream",
     "text": [
      "Epoch 32 / 200: 1it [00:00,  7.45it/s]"
     ]
    },
    {
     "name": "stdout",
     "output_type": "stream",
     "text": [
      "Avg. train loss of epoch 32 : 0.0006\n"
     ]
    },
    {
     "name": "stderr",
     "output_type": "stream",
     "text": [
      "\n"
     ]
    },
    {
     "name": "stdout",
     "output_type": "stream",
     "text": [
      "Validation loss : 0.006566751244905833\n",
      "Validation F1-score : 0.22222222222222224\n",
      "Validation recall-score : 0.3148148148148148\n",
      "Validation precision-score : 0.1717171717171717\n"
     ]
    },
    {
     "name": "stderr",
     "output_type": "stream",
     "text": [
      "Epoch 33 / 200: 1it [00:00,  3.68it/s]\n"
     ]
    },
    {
     "name": "stdout",
     "output_type": "stream",
     "text": [
      "Avg. train loss of epoch 33 : 0.0006\n",
      "Validation loss : 0.00658297015203012\n",
      "Validation F1-score : 0.2513089005235602\n",
      "Validation recall-score : 0.4444444444444444\n",
      "Validation precision-score : 0.17518248175182483\n"
     ]
    },
    {
     "name": "stderr",
     "output_type": "stream",
     "text": [
      "Epoch 34 / 200: 1it [00:00,  8.54it/s]\n"
     ]
    },
    {
     "name": "stdout",
     "output_type": "stream",
     "text": [
      "Avg. train loss of epoch 34 : 0.0006\n",
      "Validation loss : 0.00645417015294771\n",
      "Validation F1-score : 0.26262626262626265\n",
      "Validation recall-score : 0.48148148148148145\n",
      "Validation precision-score : 0.18055555555555555\n"
     ]
    },
    {
     "name": "stderr",
     "output_type": "stream",
     "text": [
      "Epoch 35 / 200: 1it [00:00,  7.89it/s]\n"
     ]
    },
    {
     "name": "stdout",
     "output_type": "stream",
     "text": [
      "Avg. train loss of epoch 35 : 0.0006\n",
      "Validation loss : 0.00656767632510211\n",
      "Validation F1-score : 0.23529411764705885\n",
      "Validation recall-score : 0.37037037037037035\n",
      "Validation precision-score : 0.1724137931034483\n"
     ]
    },
    {
     "name": "stderr",
     "output_type": "stream",
     "text": [
      "Epoch 36 / 200: 1it [00:00,  7.40it/s]\n"
     ]
    },
    {
     "name": "stdout",
     "output_type": "stream",
     "text": [
      "Avg. train loss of epoch 36 : 0.0006\n",
      "Validation loss : 0.006811315948898728\n",
      "Validation F1-score : 0.21739130434782608\n",
      "Validation recall-score : 0.2777777777777778\n",
      "Validation precision-score : 0.17857142857142858\n"
     ]
    },
    {
     "name": "stderr",
     "output_type": "stream",
     "text": [
      "Epoch 37 / 200: 1it [00:00, 10.03it/s]\n"
     ]
    },
    {
     "name": "stdout",
     "output_type": "stream",
     "text": [
      "Avg. train loss of epoch 37 : 0.0006\n",
      "Validation loss : 0.006978361993222623\n",
      "Validation F1-score : 0.1788617886178862\n",
      "Validation recall-score : 0.2037037037037037\n",
      "Validation precision-score : 0.15942028985507245\n"
     ]
    },
    {
     "name": "stderr",
     "output_type": "stream",
     "text": [
      "Epoch 38 / 200: 1it [00:00,  6.94it/s]\n"
     ]
    },
    {
     "name": "stdout",
     "output_type": "stream",
     "text": [
      "Avg. train loss of epoch 38 : 0.0006\n",
      "Validation loss : 0.0069536566734313965\n",
      "Validation F1-score : 0.23076923076923078\n",
      "Validation recall-score : 0.2777777777777778\n",
      "Validation precision-score : 0.19736842105263158\n"
     ]
    },
    {
     "name": "stderr",
     "output_type": "stream",
     "text": [
      "Epoch 39 / 200: 1it [00:00, 12.11it/s]\n"
     ]
    },
    {
     "name": "stdout",
     "output_type": "stream",
     "text": [
      "Avg. train loss of epoch 39 : 0.0006\n",
      "Validation loss : 0.006805414283597791\n",
      "Validation F1-score : 0.27450980392156865\n",
      "Validation recall-score : 0.3888888888888889\n",
      "Validation precision-score : 0.21212121212121213\n"
     ]
    },
    {
     "name": "stderr",
     "output_type": "stream",
     "text": [
      "Epoch 40 / 200: 1it [00:00, 10.61it/s]\n"
     ]
    },
    {
     "name": "stdout",
     "output_type": "stream",
     "text": [
      "Avg. train loss of epoch 40 : 0.0005\n",
      "Validation loss : 0.006710630816382331\n",
      "Validation F1-score : 0.2696629213483146\n",
      "Validation recall-score : 0.4444444444444444\n",
      "Validation precision-score : 0.1935483870967742\n"
     ]
    },
    {
     "name": "stderr",
     "output_type": "stream",
     "text": [
      "Epoch 41 / 200: 1it [00:00,  8.22it/s]\n"
     ]
    },
    {
     "name": "stdout",
     "output_type": "stream",
     "text": [
      "Avg. train loss of epoch 41 : 0.0005\n",
      "Validation loss : 0.006682857871055603\n",
      "Validation F1-score : 0.26815642458100564\n",
      "Validation recall-score : 0.4444444444444444\n",
      "Validation precision-score : 0.192\n"
     ]
    },
    {
     "name": "stderr",
     "output_type": "stream",
     "text": [
      "Epoch 42 / 200: 1it [00:00, 10.57it/s]\n"
     ]
    },
    {
     "name": "stdout",
     "output_type": "stream",
     "text": [
      "Avg. train loss of epoch 42 : 0.0005\n",
      "Validation loss : 0.006868015269975405\n",
      "Validation F1-score : 0.29870129870129875\n",
      "Validation recall-score : 0.42592592592592593\n",
      "Validation precision-score : 0.23\n"
     ]
    },
    {
     "name": "stderr",
     "output_type": "stream",
     "text": [
      "Epoch 43 / 200: 1it [00:00,  8.59it/s]\n"
     ]
    },
    {
     "name": "stdout",
     "output_type": "stream",
     "text": [
      "Avg. train loss of epoch 43 : 0.0005\n",
      "Validation loss : 0.007129321227202544\n",
      "Validation F1-score : 0.2647058823529412\n",
      "Validation recall-score : 0.3333333333333333\n",
      "Validation precision-score : 0.21951219512195122\n"
     ]
    },
    {
     "name": "stderr",
     "output_type": "stream",
     "text": [
      "Epoch 44 / 200: 1it [00:00,  9.18it/s]\n"
     ]
    },
    {
     "name": "stdout",
     "output_type": "stream",
     "text": [
      "Avg. train loss of epoch 44 : 0.0005\n",
      "Validation loss : 0.007287584446571968\n",
      "Validation F1-score : 0.23333333333333334\n",
      "Validation recall-score : 0.25925925925925924\n",
      "Validation precision-score : 0.21212121212121213\n"
     ]
    },
    {
     "name": "stderr",
     "output_type": "stream",
     "text": [
      "Epoch 45 / 200: 1it [00:00,  9.27it/s]\n"
     ]
    },
    {
     "name": "stdout",
     "output_type": "stream",
     "text": [
      "Avg. train loss of epoch 45 : 0.0005\n",
      "Validation loss : 0.007233129965292441\n",
      "Validation F1-score : 0.24\n",
      "Validation recall-score : 0.2777777777777778\n",
      "Validation precision-score : 0.2112676056338028\n"
     ]
    },
    {
     "name": "stderr",
     "output_type": "stream",
     "text": [
      "Epoch 46 / 200: 1it [00:00,  7.61it/s]\n"
     ]
    },
    {
     "name": "stdout",
     "output_type": "stream",
     "text": [
      "Avg. train loss of epoch 46 : 0.0005\n",
      "Validation loss : 0.007094025611877441\n",
      "Validation F1-score : 0.23943661971830987\n",
      "Validation recall-score : 0.3148148148148148\n",
      "Validation precision-score : 0.19318181818181818\n"
     ]
    },
    {
     "name": "stderr",
     "output_type": "stream",
     "text": [
      "Epoch 47 / 200: 1it [00:00,  7.82it/s]\n"
     ]
    },
    {
     "name": "stdout",
     "output_type": "stream",
     "text": [
      "Avg. train loss of epoch 47 : 0.0005\n",
      "Validation loss : 0.007028556353337056\n",
      "Validation F1-score : 0.24691358024691354\n",
      "Validation recall-score : 0.37037037037037035\n",
      "Validation precision-score : 0.18518518518518517\n"
     ]
    },
    {
     "name": "stderr",
     "output_type": "stream",
     "text": [
      "Epoch 48 / 200: 1it [00:00, 10.59it/s]\n"
     ]
    },
    {
     "name": "stdout",
     "output_type": "stream",
     "text": [
      "Avg. train loss of epoch 48 : 0.0005\n",
      "Validation loss : 0.007090756216564694\n",
      "Validation F1-score : 0.22784810126582278\n",
      "Validation recall-score : 0.3333333333333333\n",
      "Validation precision-score : 0.17307692307692307\n"
     ]
    },
    {
     "name": "stderr",
     "output_type": "stream",
     "text": [
      "Epoch 49 / 200: 1it [00:00,  5.77it/s]\n"
     ]
    },
    {
     "name": "stdout",
     "output_type": "stream",
     "text": [
      "Avg. train loss of epoch 49 : 0.0005\n",
      "Validation loss : 0.0073399809566704\n",
      "Validation F1-score : 0.21276595744680854\n",
      "Validation recall-score : 0.2777777777777778\n",
      "Validation precision-score : 0.1724137931034483\n"
     ]
    },
    {
     "name": "stderr",
     "output_type": "stream",
     "text": [
      "Epoch 50 / 200: 1it [00:00,  7.29it/s]\n"
     ]
    },
    {
     "name": "stdout",
     "output_type": "stream",
     "text": [
      "Avg. train loss of epoch 50 : 0.0005\n",
      "Validation loss : 0.007499283229982531\n",
      "Validation F1-score : 0.20155038759689925\n",
      "Validation recall-score : 0.24074074074074073\n",
      "Validation precision-score : 0.17333333333333334\n"
     ]
    },
    {
     "name": "stderr",
     "output_type": "stream",
     "text": [
      "Epoch 51 / 200: 1it [00:00,  2.65it/s]\n"
     ]
    },
    {
     "name": "stdout",
     "output_type": "stream",
     "text": [
      "Avg. train loss of epoch 51 : 0.0005\n",
      "Validation loss : 0.007587465080055031\n",
      "Validation F1-score : 0.1904761904761905\n",
      "Validation recall-score : 0.2222222222222222\n",
      "Validation precision-score : 0.16666666666666666\n"
     ]
    },
    {
     "name": "stderr",
     "output_type": "stream",
     "text": [
      "Epoch 52 / 200: 1it [00:00,  7.15it/s]\n"
     ]
    },
    {
     "name": "stdout",
     "output_type": "stream",
     "text": [
      "Avg. train loss of epoch 52 : 0.0005\n",
      "Validation loss : 0.007518935042458611\n",
      "Validation F1-score : 0.20437956204379562\n",
      "Validation recall-score : 0.25925925925925924\n",
      "Validation precision-score : 0.1686746987951807\n"
     ]
    },
    {
     "name": "stderr",
     "output_type": "stream",
     "text": [
      "Epoch 53 / 200: 1it [00:00,  7.80it/s]\n"
     ]
    },
    {
     "name": "stdout",
     "output_type": "stream",
     "text": [
      "Avg. train loss of epoch 53 : 0.0005\n",
      "Validation loss : 0.007439900894422789\n",
      "Validation F1-score : 0.20512820512820515\n",
      "Validation recall-score : 0.2962962962962963\n",
      "Validation precision-score : 0.1568627450980392\n"
     ]
    },
    {
     "name": "stderr",
     "output_type": "stream",
     "text": [
      "Epoch 54 / 200: 1it [00:00, 10.24it/s]\n"
     ]
    },
    {
     "name": "stdout",
     "output_type": "stream",
     "text": [
      "Avg. train loss of epoch 54 : 0.0004\n",
      "Validation loss : 0.007459216021202706\n",
      "Validation F1-score : 0.20512820512820515\n",
      "Validation recall-score : 0.2962962962962963\n",
      "Validation precision-score : 0.1568627450980392\n"
     ]
    },
    {
     "name": "stderr",
     "output_type": "stream",
     "text": [
      "Epoch 55 / 200: 1it [00:00,  9.14it/s]\n"
     ]
    },
    {
     "name": "stdout",
     "output_type": "stream",
     "text": [
      "Avg. train loss of epoch 55 : 0.0004\n",
      "Validation loss : 0.0075920949111113675\n",
      "Validation F1-score : 0.19858156028368795\n",
      "Validation recall-score : 0.25925925925925924\n",
      "Validation precision-score : 0.16091954022988506\n"
     ]
    },
    {
     "name": "stderr",
     "output_type": "stream",
     "text": [
      "Epoch 56 / 200: 1it [00:00, 12.56it/s]\n"
     ]
    },
    {
     "name": "stdout",
     "output_type": "stream",
     "text": [
      "Avg. train loss of epoch 56 : 0.0004\n",
      "Validation loss : 0.007755849007013682\n",
      "Validation F1-score : 0.2153846153846154\n",
      "Validation recall-score : 0.25925925925925924\n",
      "Validation precision-score : 0.18421052631578946\n"
     ]
    },
    {
     "name": "stderr",
     "output_type": "stream",
     "text": [
      "Epoch 57 / 200: 1it [00:00,  8.72it/s]\n"
     ]
    },
    {
     "name": "stdout",
     "output_type": "stream",
     "text": [
      "Avg. train loss of epoch 57 : 0.0004\n",
      "Validation loss : 0.00781190798089311\n",
      "Validation F1-score : 0.208\n",
      "Validation recall-score : 0.24074074074074073\n",
      "Validation precision-score : 0.18309859154929578\n"
     ]
    },
    {
     "name": "stderr",
     "output_type": "stream",
     "text": [
      "Epoch 58 / 200: 1it [00:00,  8.06it/s]\n"
     ]
    },
    {
     "name": "stdout",
     "output_type": "stream",
     "text": [
      "Avg. train loss of epoch 58 : 0.0004\n",
      "Validation loss : 0.007727916176254685\n",
      "Validation F1-score : 0.2058823529411765\n",
      "Validation recall-score : 0.25925925925925924\n",
      "Validation precision-score : 0.17073170731707318\n"
     ]
    },
    {
     "name": "stderr",
     "output_type": "stream",
     "text": [
      "Epoch 59 / 200: 1it [00:00,  8.39it/s]\n"
     ]
    },
    {
     "name": "stdout",
     "output_type": "stream",
     "text": [
      "Avg. train loss of epoch 59 : 0.0004\n",
      "Validation loss : 0.00762744529827221\n",
      "Validation F1-score : 0.2162162162162162\n",
      "Validation recall-score : 0.2962962962962963\n",
      "Validation precision-score : 0.1702127659574468\n"
     ]
    },
    {
     "name": "stderr",
     "output_type": "stream",
     "text": [
      "Epoch 60 / 200: 1it [00:00,  8.83it/s]\n"
     ]
    },
    {
     "name": "stdout",
     "output_type": "stream",
     "text": [
      "Avg. train loss of epoch 60 : 0.0004\n",
      "Validation loss : 0.007630861288792378\n",
      "Validation F1-score : 0.20134228187919462\n",
      "Validation recall-score : 0.2777777777777778\n",
      "Validation precision-score : 0.15789473684210525\n"
     ]
    },
    {
     "name": "stderr",
     "output_type": "stream",
     "text": [
      "Epoch 61 / 200: 1it [00:00,  7.59it/s]\n"
     ]
    },
    {
     "name": "stdout",
     "output_type": "stream",
     "text": [
      "Avg. train loss of epoch 61 : 0.0004\n",
      "Validation loss : 0.007750678706813503\n",
      "Validation F1-score : 0.19858156028368795\n",
      "Validation recall-score : 0.25925925925925924\n",
      "Validation precision-score : 0.16091954022988506\n"
     ]
    },
    {
     "name": "stderr",
     "output_type": "stream",
     "text": [
      "Epoch 62 / 200: 1it [00:00, 11.77it/s]\n"
     ]
    },
    {
     "name": "stdout",
     "output_type": "stream",
     "text": [
      "Avg. train loss of epoch 62 : 0.0004\n",
      "Validation loss : 0.007950322853552329\n",
      "Validation F1-score : 0.203125\n",
      "Validation recall-score : 0.24074074074074073\n",
      "Validation precision-score : 0.17567567567567569\n"
     ]
    },
    {
     "name": "stderr",
     "output_type": "stream",
     "text": [
      "Epoch 63 / 200: 1it [00:00,  6.29it/s]"
     ]
    },
    {
     "name": "stdout",
     "output_type": "stream",
     "text": [
      "Avg. train loss of epoch 63 : 0.0004\n"
     ]
    },
    {
     "name": "stderr",
     "output_type": "stream",
     "text": [
      "\n"
     ]
    },
    {
     "name": "stdout",
     "output_type": "stream",
     "text": [
      "Validation loss : 0.008037592108185226\n",
      "Validation F1-score : 0.21311475409836064\n",
      "Validation recall-score : 0.24074074074074073\n",
      "Validation precision-score : 0.19117647058823528\n"
     ]
    },
    {
     "name": "stderr",
     "output_type": "stream",
     "text": [
      "Epoch 64 / 200: 1it [00:00,  7.47it/s]"
     ]
    },
    {
     "name": "stdout",
     "output_type": "stream",
     "text": [
      "Avg. train loss of epoch 64 : 0.0004\n"
     ]
    },
    {
     "name": "stderr",
     "output_type": "stream",
     "text": [
      "\n"
     ]
    },
    {
     "name": "stdout",
     "output_type": "stream",
     "text": [
      "Validation loss : 0.008021893533500465\n",
      "Validation F1-score : 0.22222222222222224\n",
      "Validation recall-score : 0.2777777777777778\n",
      "Validation precision-score : 0.18518518518518517\n"
     ]
    },
    {
     "name": "stderr",
     "output_type": "stream",
     "text": [
      "Epoch 65 / 200: 1it [00:00,  5.38it/s]\n"
     ]
    },
    {
     "name": "stdout",
     "output_type": "stream",
     "text": [
      "Avg. train loss of epoch 65 : 0.0004\n",
      "Validation loss : 0.008012376927040718\n",
      "Validation F1-score : 0.2318840579710145\n",
      "Validation recall-score : 0.2962962962962963\n",
      "Validation precision-score : 0.19047619047619047\n"
     ]
    },
    {
     "name": "stderr",
     "output_type": "stream",
     "text": [
      "Epoch 66 / 200: 1it [00:00,  8.91it/s]\n"
     ]
    },
    {
     "name": "stdout",
     "output_type": "stream",
     "text": [
      "Avg. train loss of epoch 66 : 0.0004\n",
      "Validation loss : 0.008092396968119853\n",
      "Validation F1-score : 0.2074074074074074\n",
      "Validation recall-score : 0.25925925925925924\n",
      "Validation precision-score : 0.1728395061728395\n"
     ]
    },
    {
     "name": "stderr",
     "output_type": "stream",
     "text": [
      "Epoch 67 / 200: 1it [00:00, 13.08it/s]\n"
     ]
    },
    {
     "name": "stdout",
     "output_type": "stream",
     "text": [
      "Avg. train loss of epoch 67 : 0.0004\n",
      "Validation loss : 0.008248187400199272\n",
      "Validation F1-score : 0.20155038759689925\n",
      "Validation recall-score : 0.24074074074074073\n",
      "Validation precision-score : 0.17333333333333334\n"
     ]
    },
    {
     "name": "stderr",
     "output_type": "stream",
     "text": [
      "Epoch 68 / 200: 1it [00:00,  5.00it/s]\n"
     ]
    },
    {
     "name": "stdout",
     "output_type": "stream",
     "text": [
      "Avg. train loss of epoch 68 : 0.0004\n",
      "Validation loss : 0.00838304532540811\n",
      "Validation F1-score : 0.2113821138211382\n",
      "Validation recall-score : 0.24074074074074073\n",
      "Validation precision-score : 0.18840579710144928\n"
     ]
    },
    {
     "name": "stderr",
     "output_type": "stream",
     "text": [
      "Epoch 69 / 200: 1it [00:00, 11.41it/s]\n"
     ]
    },
    {
     "name": "stdout",
     "output_type": "stream",
     "text": [
      "Avg. train loss of epoch 69 : 0.0003\n",
      "Validation loss : 0.008404132482167837\n",
      "Validation F1-score : 0.208\n",
      "Validation recall-score : 0.24074074074074073\n",
      "Validation precision-score : 0.18309859154929578\n"
     ]
    },
    {
     "name": "stderr",
     "output_type": "stream",
     "text": [
      "Epoch 70 / 200: 1it [00:00,  8.19it/s]\n"
     ]
    },
    {
     "name": "stdout",
     "output_type": "stream",
     "text": [
      "Avg. train loss of epoch 70 : 0.0003\n",
      "Validation loss : 0.008351880150872308\n",
      "Validation F1-score : 0.19402985074626866\n",
      "Validation recall-score : 0.24074074074074073\n",
      "Validation precision-score : 0.1625\n"
     ]
    },
    {
     "name": "stderr",
     "output_type": "stream",
     "text": [
      "Epoch 71 / 200: 1it [00:00,  9.27it/s]\n"
     ]
    },
    {
     "name": "stdout",
     "output_type": "stream",
     "text": [
      "Avg. train loss of epoch 71 : 0.0003\n",
      "Validation loss : 0.008316243822510177\n",
      "Validation F1-score : 0.19259259259259257\n",
      "Validation recall-score : 0.24074074074074073\n",
      "Validation precision-score : 0.16049382716049382\n"
     ]
    },
    {
     "name": "stderr",
     "output_type": "stream",
     "text": [
      "Epoch 72 / 200: 1it [00:00,  9.22it/s]\n"
     ]
    },
    {
     "name": "stdout",
     "output_type": "stream",
     "text": [
      "Avg. train loss of epoch 72 : 0.0003\n",
      "Validation loss : 0.008402204996830708\n",
      "Validation F1-score : 0.2047244094488189\n",
      "Validation recall-score : 0.24074074074074073\n",
      "Validation precision-score : 0.1780821917808219\n"
     ]
    },
    {
     "name": "stderr",
     "output_type": "stream",
     "text": [
      "Epoch 73 / 200: 1it [00:00, 10.13it/s]\n"
     ]
    },
    {
     "name": "stdout",
     "output_type": "stream",
     "text": [
      "Avg. train loss of epoch 73 : 0.0003\n",
      "Validation loss : 0.008507613394711469\n",
      "Validation F1-score : 0.21311475409836064\n",
      "Validation recall-score : 0.24074074074074073\n",
      "Validation precision-score : 0.19117647058823528\n"
     ]
    },
    {
     "name": "stderr",
     "output_type": "stream",
     "text": [
      "Epoch 74 / 200: 1it [00:00, 13.51it/s]\n"
     ]
    },
    {
     "name": "stdout",
     "output_type": "stream",
     "text": [
      "Avg. train loss of epoch 74 : 0.0003\n",
      "Validation loss : 0.008540115646413854\n",
      "Validation F1-score : 0.22950819672131148\n",
      "Validation recall-score : 0.25925925925925924\n",
      "Validation precision-score : 0.20588235294117646\n"
     ]
    },
    {
     "name": "stderr",
     "output_type": "stream",
     "text": [
      "Epoch 75 / 200: 1it [00:00, 10.10it/s]\n"
     ]
    },
    {
     "name": "stdout",
     "output_type": "stream",
     "text": [
      "Avg. train loss of epoch 75 : 0.0003\n",
      "Validation loss : 0.008520299518430556\n",
      "Validation F1-score : 0.265625\n",
      "Validation recall-score : 0.3148148148148148\n",
      "Validation precision-score : 0.22972972972972974\n"
     ]
    },
    {
     "name": "stderr",
     "output_type": "stream",
     "text": [
      "Epoch 76 / 200: 1it [00:00,  8.74it/s]\n"
     ]
    },
    {
     "name": "stdout",
     "output_type": "stream",
     "text": [
      "Avg. train loss of epoch 76 : 0.0003\n",
      "Validation loss : 0.008547957684542681\n",
      "Validation F1-score : 0.26153846153846155\n",
      "Validation recall-score : 0.3148148148148148\n",
      "Validation precision-score : 0.2236842105263158\n"
     ]
    },
    {
     "name": "stderr",
     "output_type": "stream",
     "text": [
      "Epoch 77 / 200: 1it [00:00,  6.04it/s]"
     ]
    },
    {
     "name": "stdout",
     "output_type": "stream",
     "text": [
      "Avg. train loss of epoch 77 : 0.0003\n"
     ]
    },
    {
     "name": "stderr",
     "output_type": "stream",
     "text": [
      "\n"
     ]
    },
    {
     "name": "stdout",
     "output_type": "stream",
     "text": [
      "Validation loss : 0.008664228626199671\n",
      "Validation F1-score : 0.25396825396825395\n",
      "Validation recall-score : 0.2962962962962963\n",
      "Validation precision-score : 0.2222222222222222\n"
     ]
    },
    {
     "name": "stderr",
     "output_type": "stream",
     "text": [
      "Epoch 78 / 200: 1it [00:00,  7.77it/s]"
     ]
    },
    {
     "name": "stdout",
     "output_type": "stream",
     "text": [
      "Avg. train loss of epoch 78 : 0.0003\n"
     ]
    },
    {
     "name": "stderr",
     "output_type": "stream",
     "text": [
      "\n"
     ]
    },
    {
     "name": "stdout",
     "output_type": "stream",
     "text": [
      "Validation loss : 0.008825807152567682\n",
      "Validation F1-score : 0.25\n",
      "Validation recall-score : 0.2777777777777778\n",
      "Validation precision-score : 0.22727272727272727\n"
     ]
    },
    {
     "name": "stderr",
     "output_type": "stream",
     "text": [
      "Epoch 79 / 200: 1it [00:00,  6.93it/s]"
     ]
    },
    {
     "name": "stdout",
     "output_type": "stream",
     "text": [
      "Avg. train loss of epoch 79 : 0.0003\n"
     ]
    },
    {
     "name": "stderr",
     "output_type": "stream",
     "text": [
      "\n"
     ]
    },
    {
     "name": "stdout",
     "output_type": "stream",
     "text": [
      "Validation loss : 0.00898949520007984\n",
      "Validation F1-score : 0.23333333333333334\n",
      "Validation recall-score : 0.25925925925925924\n",
      "Validation precision-score : 0.21212121212121213\n"
     ]
    },
    {
     "name": "stderr",
     "output_type": "stream",
     "text": [
      "Epoch 80 / 200: 1it [00:00,  6.27it/s]"
     ]
    },
    {
     "name": "stdout",
     "output_type": "stream",
     "text": [
      "Avg. train loss of epoch 80 : 0.0003\n"
     ]
    },
    {
     "name": "stderr",
     "output_type": "stream",
     "text": [
      "\n"
     ]
    },
    {
     "name": "stdout",
     "output_type": "stream",
     "text": [
      "Validation loss : 0.009051501750946045\n",
      "Validation F1-score : 0.2622950819672131\n",
      "Validation recall-score : 0.2962962962962963\n",
      "Validation precision-score : 0.23529411764705882\n"
     ]
    },
    {
     "name": "stderr",
     "output_type": "stream",
     "text": [
      "Epoch 81 / 200: 1it [00:00,  6.70it/s]"
     ]
    },
    {
     "name": "stdout",
     "output_type": "stream",
     "text": [
      "Avg. train loss of epoch 81 : 0.0003\n"
     ]
    },
    {
     "name": "stderr",
     "output_type": "stream",
     "text": [
      "\n"
     ]
    },
    {
     "name": "stdout",
     "output_type": "stream",
     "text": [
      "Validation loss : 0.009110835758415429\n",
      "Validation F1-score : 0.24590163934426232\n",
      "Validation recall-score : 0.2777777777777778\n",
      "Validation precision-score : 0.22058823529411764\n"
     ]
    },
    {
     "name": "stderr",
     "output_type": "stream",
     "text": [
      "Epoch 82 / 200: 1it [00:00,  2.89it/s]\n"
     ]
    },
    {
     "name": "stdout",
     "output_type": "stream",
     "text": [
      "Avg. train loss of epoch 82 : 0.0003\n",
      "Validation loss : 0.009156997944857623\n",
      "Validation F1-score : 0.23333333333333334\n",
      "Validation recall-score : 0.25925925925925924\n",
      "Validation precision-score : 0.21212121212121213\n"
     ]
    },
    {
     "name": "stderr",
     "output_type": "stream",
     "text": [
      "Epoch 83 / 200: 1it [00:00, 10.70it/s]\n"
     ]
    },
    {
     "name": "stdout",
     "output_type": "stream",
     "text": [
      "Avg. train loss of epoch 83 : 0.0003\n",
      "Validation loss : 0.009239948279148823\n",
      "Validation F1-score : 0.22608695652173913\n",
      "Validation recall-score : 0.24074074074074073\n",
      "Validation precision-score : 0.21311475409836064\n"
     ]
    },
    {
     "name": "stderr",
     "output_type": "stream",
     "text": [
      "Epoch 84 / 200: 1it [00:00,  8.68it/s]\n"
     ]
    },
    {
     "name": "stdout",
     "output_type": "stream",
     "text": [
      "Avg. train loss of epoch 84 : 0.0003\n",
      "Validation loss : 0.009295126876315556\n",
      "Validation F1-score : 0.22033898305084745\n",
      "Validation recall-score : 0.24074074074074073\n",
      "Validation precision-score : 0.203125\n"
     ]
    },
    {
     "name": "stderr",
     "output_type": "stream",
     "text": [
      "Epoch 85 / 200: 1it [00:00,  7.59it/s]\n"
     ]
    },
    {
     "name": "stdout",
     "output_type": "stream",
     "text": [
      "Avg. train loss of epoch 85 : 0.0003\n",
      "Validation loss : 0.009332636723647246\n",
      "Validation F1-score : 0.21666666666666662\n",
      "Validation recall-score : 0.24074074074074073\n",
      "Validation precision-score : 0.19696969696969696\n"
     ]
    },
    {
     "name": "stderr",
     "output_type": "stream",
     "text": [
      "Epoch 86 / 200: 1it [00:00, 10.01it/s]\n"
     ]
    },
    {
     "name": "stdout",
     "output_type": "stream",
     "text": [
      "Avg. train loss of epoch 86 : 0.0003\n",
      "Validation loss : 0.009423768198167955\n",
      "Validation F1-score : 0.21487603305785125\n",
      "Validation recall-score : 0.24074074074074073\n",
      "Validation precision-score : 0.19402985074626866\n"
     ]
    },
    {
     "name": "stderr",
     "output_type": "stream",
     "text": [
      "Epoch 87 / 200: 1it [00:00,  8.11it/s]\n"
     ]
    },
    {
     "name": "stdout",
     "output_type": "stream",
     "text": [
      "Avg. train loss of epoch 87 : 0.0003\n",
      "Validation loss : 0.00955036040898916\n",
      "Validation F1-score : 0.21666666666666662\n",
      "Validation recall-score : 0.24074074074074073\n",
      "Validation precision-score : 0.19696969696969696\n"
     ]
    },
    {
     "name": "stderr",
     "output_type": "stream",
     "text": [
      "Epoch 88 / 200: 1it [00:00, 11.32it/s]\n"
     ]
    },
    {
     "name": "stdout",
     "output_type": "stream",
     "text": [
      "Avg. train loss of epoch 88 : 0.0003\n",
      "Validation loss : 0.009640677555187329\n",
      "Validation F1-score : 0.20512820512820512\n",
      "Validation recall-score : 0.2222222222222222\n",
      "Validation precision-score : 0.19047619047619047\n"
     ]
    },
    {
     "name": "stderr",
     "output_type": "stream",
     "text": [
      "Epoch 89 / 200: 1it [00:00, 11.67it/s]\n"
     ]
    },
    {
     "name": "stdout",
     "output_type": "stream",
     "text": [
      "Avg. train loss of epoch 89 : 0.0002\n",
      "Validation loss : 0.00968176851401458\n",
      "Validation F1-score : 0.20689655172413793\n",
      "Validation recall-score : 0.2222222222222222\n",
      "Validation precision-score : 0.1935483870967742\n"
     ]
    },
    {
     "name": "stderr",
     "output_type": "stream",
     "text": [
      "Epoch 90 / 200: 1it [00:00, 10.36it/s]\n"
     ]
    },
    {
     "name": "stdout",
     "output_type": "stream",
     "text": [
      "Avg. train loss of epoch 90 : 0.0002\n",
      "Validation loss : 0.009729142124588424\n",
      "Validation F1-score : 0.20869565217391306\n",
      "Validation recall-score : 0.2222222222222222\n",
      "Validation precision-score : 0.19672131147540983\n"
     ]
    },
    {
     "name": "stderr",
     "output_type": "stream",
     "text": [
      "Epoch 91 / 200: 1it [00:00,  8.95it/s]\n"
     ]
    },
    {
     "name": "stdout",
     "output_type": "stream",
     "text": [
      "Avg. train loss of epoch 91 : 0.0002\n",
      "Validation loss : 0.009826631159395785\n",
      "Validation F1-score : 0.2280701754385965\n",
      "Validation recall-score : 0.24074074074074073\n",
      "Validation precision-score : 0.21666666666666667\n"
     ]
    },
    {
     "name": "stderr",
     "output_type": "stream",
     "text": [
      "Epoch 92 / 200: 1it [00:00,  7.94it/s]\n"
     ]
    },
    {
     "name": "stdout",
     "output_type": "stream",
     "text": [
      "Avg. train loss of epoch 92 : 0.0002\n",
      "Validation loss : 0.009890002173346442\n",
      "Validation F1-score : 0.24347826086956523\n",
      "Validation recall-score : 0.25925925925925924\n",
      "Validation precision-score : 0.22950819672131148\n"
     ]
    },
    {
     "name": "stderr",
     "output_type": "stream",
     "text": [
      "Epoch 93 / 200: 1it [00:00,  7.38it/s]"
     ]
    },
    {
     "name": "stdout",
     "output_type": "stream",
     "text": [
      "Avg. train loss of epoch 93 : 0.0002\n"
     ]
    },
    {
     "name": "stderr",
     "output_type": "stream",
     "text": [
      "\n"
     ]
    },
    {
     "name": "stdout",
     "output_type": "stream",
     "text": [
      "Validation loss : 0.009909415567243422\n",
      "Validation F1-score : 0.24137931034482757\n",
      "Validation recall-score : 0.25925925925925924\n",
      "Validation precision-score : 0.22580645161290322\n"
     ]
    },
    {
     "name": "stderr",
     "output_type": "stream",
     "text": [
      "Epoch 94 / 200: 1it [00:00,  9.13it/s]\n"
     ]
    },
    {
     "name": "stdout",
     "output_type": "stream",
     "text": [
      "Avg. train loss of epoch 94 : 0.0002\n",
      "Validation loss : 0.009964161628001445\n",
      "Validation F1-score : 0.2393162393162393\n",
      "Validation recall-score : 0.25925925925925924\n",
      "Validation precision-score : 0.2222222222222222\n"
     ]
    },
    {
     "name": "stderr",
     "output_type": "stream",
     "text": [
      "Epoch 95 / 200: 1it [00:00,  9.56it/s]\n"
     ]
    },
    {
     "name": "stdout",
     "output_type": "stream",
     "text": [
      "Avg. train loss of epoch 95 : 0.0002\n",
      "Validation loss : 0.010112378242853525\n",
      "Validation F1-score : 0.22413793103448276\n",
      "Validation recall-score : 0.24074074074074073\n",
      "Validation precision-score : 0.20967741935483872\n"
     ]
    },
    {
     "name": "stderr",
     "output_type": "stream",
     "text": [
      "Epoch 96 / 200: 1it [00:00, 11.21it/s]\n"
     ]
    },
    {
     "name": "stdout",
     "output_type": "stream",
     "text": [
      "Avg. train loss of epoch 96 : 0.0002\n",
      "Validation loss : 0.010229213012231363\n",
      "Validation F1-score : 0.22608695652173913\n",
      "Validation recall-score : 0.24074074074074073\n",
      "Validation precision-score : 0.21311475409836064\n"
     ]
    },
    {
     "name": "stderr",
     "output_type": "stream",
     "text": [
      "Epoch 97 / 200: 1it [00:00,  6.99it/s]"
     ]
    },
    {
     "name": "stdout",
     "output_type": "stream",
     "text": [
      "Avg. train loss of epoch 97 : 0.0002\n"
     ]
    },
    {
     "name": "stderr",
     "output_type": "stream",
     "text": [
      "\n"
     ]
    },
    {
     "name": "stdout",
     "output_type": "stream",
     "text": [
      "Validation loss : 0.01029333150064623\n",
      "Validation F1-score : 0.22413793103448276\n",
      "Validation recall-score : 0.24074074074074073\n",
      "Validation precision-score : 0.20967741935483872\n"
     ]
    },
    {
     "name": "stderr",
     "output_type": "stream",
     "text": [
      "Epoch 98 / 200: 1it [00:00, 11.60it/s]\n"
     ]
    },
    {
     "name": "stdout",
     "output_type": "stream",
     "text": [
      "Avg. train loss of epoch 98 : 0.0002\n",
      "Validation loss : 0.010346928963790069\n",
      "Validation F1-score : 0.20689655172413793\n",
      "Validation recall-score : 0.2222222222222222\n",
      "Validation precision-score : 0.1935483870967742\n"
     ]
    },
    {
     "name": "stderr",
     "output_type": "stream",
     "text": [
      "Epoch 99 / 200: 1it [00:00,  6.85it/s]\n"
     ]
    },
    {
     "name": "stdout",
     "output_type": "stream",
     "text": [
      "Avg. train loss of epoch 99 : 0.0002\n",
      "Validation loss : 0.010460724701752534\n",
      "Validation F1-score : 0.20689655172413793\n",
      "Validation recall-score : 0.2222222222222222\n",
      "Validation precision-score : 0.1935483870967742\n"
     ]
    },
    {
     "name": "stderr",
     "output_type": "stream",
     "text": [
      "Epoch 100 / 200: 1it [00:00, 12.66it/s]\n"
     ]
    },
    {
     "name": "stdout",
     "output_type": "stream",
     "text": [
      "Avg. train loss of epoch 100 : 0.0002\n",
      "Validation loss : 0.01063623621657088\n",
      "Validation F1-score : 0.1946902654867257\n",
      "Validation recall-score : 0.2037037037037037\n",
      "Validation precision-score : 0.1864406779661017\n"
     ]
    },
    {
     "name": "stderr",
     "output_type": "stream",
     "text": [
      "Epoch 101 / 200: 1it [00:00,  7.17it/s]\n"
     ]
    },
    {
     "name": "stdout",
     "output_type": "stream",
     "text": [
      "Avg. train loss of epoch 101 : 0.0002\n",
      "Validation loss : 0.010750058534983042\n",
      "Validation F1-score : 0.19642857142857142\n",
      "Validation recall-score : 0.2037037037037037\n",
      "Validation precision-score : 0.1896551724137931\n"
     ]
    },
    {
     "name": "stderr",
     "output_type": "stream",
     "text": [
      "Epoch 102 / 200: 1it [00:00, 10.38it/s]\n"
     ]
    },
    {
     "name": "stdout",
     "output_type": "stream",
     "text": [
      "Avg. train loss of epoch 102 : 0.0002\n",
      "Validation loss : 0.010789926793124224\n",
      "Validation F1-score : 0.1946902654867257\n",
      "Validation recall-score : 0.2037037037037037\n",
      "Validation precision-score : 0.1864406779661017\n"
     ]
    },
    {
     "name": "stderr",
     "output_type": "stream",
     "text": [
      "Epoch 103 / 200: 1it [00:00,  6.93it/s]"
     ]
    },
    {
     "name": "stdout",
     "output_type": "stream",
     "text": [
      "Avg. train loss of epoch 103 : 0.0002\n"
     ]
    },
    {
     "name": "stderr",
     "output_type": "stream",
     "text": [
      "\n"
     ]
    },
    {
     "name": "stdout",
     "output_type": "stream",
     "text": [
      "Validation loss : 0.010870308489412875\n",
      "Validation F1-score : 0.19642857142857142\n",
      "Validation recall-score : 0.2037037037037037\n",
      "Validation precision-score : 0.1896551724137931\n"
     ]
    },
    {
     "name": "stderr",
     "output_type": "stream",
     "text": [
      "Epoch 104 / 200: 1it [00:00,  7.41it/s]"
     ]
    },
    {
     "name": "stdout",
     "output_type": "stream",
     "text": [
      "Avg. train loss of epoch 104 : 0.0002\n"
     ]
    },
    {
     "name": "stderr",
     "output_type": "stream",
     "text": [
      "\n"
     ]
    },
    {
     "name": "stdout",
     "output_type": "stream",
     "text": [
      "Validation loss : 0.011049104703439248\n",
      "Validation F1-score : 0.19999999999999998\n",
      "Validation recall-score : 0.2037037037037037\n",
      "Validation precision-score : 0.19642857142857142\n"
     ]
    },
    {
     "name": "stderr",
     "output_type": "stream",
     "text": [
      "Epoch 105 / 200: 1it [00:00, 11.76it/s]\n"
     ]
    },
    {
     "name": "stdout",
     "output_type": "stream",
     "text": [
      "Avg. train loss of epoch 105 : 0.0002\n",
      "Validation loss : 0.011171822612350052\n",
      "Validation F1-score : 0.19999999999999998\n",
      "Validation recall-score : 0.2037037037037037\n",
      "Validation precision-score : 0.19642857142857142\n"
     ]
    },
    {
     "name": "stderr",
     "output_type": "stream",
     "text": [
      "Epoch 106 / 200: 1it [00:00,  7.86it/s]\n"
     ]
    },
    {
     "name": "stdout",
     "output_type": "stream",
     "text": [
      "Avg. train loss of epoch 106 : 0.0002\n",
      "Validation loss : 0.011185054843490189\n",
      "Validation F1-score : 0.19298245614035087\n",
      "Validation recall-score : 0.2037037037037037\n",
      "Validation precision-score : 0.18333333333333332\n"
     ]
    },
    {
     "name": "stderr",
     "output_type": "stream",
     "text": [
      "Epoch 107 / 200: 1it [00:00,  8.20it/s]\n"
     ]
    },
    {
     "name": "stdout",
     "output_type": "stream",
     "text": [
      "Avg. train loss of epoch 107 : 0.0002\n",
      "Validation loss : 0.011368314962129335\n",
      "Validation F1-score : 0.1981981981981982\n",
      "Validation recall-score : 0.2037037037037037\n",
      "Validation precision-score : 0.19298245614035087\n"
     ]
    },
    {
     "name": "stderr",
     "output_type": "stream",
     "text": [
      "Epoch 108 / 200: 1it [00:00,  4.11it/s]\n"
     ]
    },
    {
     "name": "stdout",
     "output_type": "stream",
     "text": [
      "Avg. train loss of epoch 108 : 0.0002\n",
      "Validation loss : 0.011657717260154517\n",
      "Validation F1-score : 0.20560747663551404\n",
      "Validation recall-score : 0.2037037037037037\n",
      "Validation precision-score : 0.20754716981132076\n"
     ]
    },
    {
     "name": "stderr",
     "output_type": "stream",
     "text": [
      "Epoch 109 / 200: 1it [00:00, 12.08it/s]\n"
     ]
    },
    {
     "name": "stdout",
     "output_type": "stream",
     "text": [
      "Avg. train loss of epoch 109 : 0.0002\n",
      "Validation loss : 0.011673796015816766\n",
      "Validation F1-score : 0.1981981981981982\n",
      "Validation recall-score : 0.2037037037037037\n",
      "Validation precision-score : 0.19298245614035087\n"
     ]
    },
    {
     "name": "stderr",
     "output_type": "stream",
     "text": [
      "Epoch 110 / 200: 1it [00:00,  9.12it/s]\n"
     ]
    },
    {
     "name": "stdout",
     "output_type": "stream",
     "text": [
      "Avg. train loss of epoch 110 : 0.0002\n",
      "Validation loss : 0.01174922166643916\n",
      "Validation F1-score : 0.1981981981981982\n",
      "Validation recall-score : 0.2037037037037037\n",
      "Validation precision-score : 0.19298245614035087\n"
     ]
    },
    {
     "name": "stderr",
     "output_type": "stream",
     "text": [
      "Epoch 111 / 200: 1it [00:00,  6.90it/s]"
     ]
    },
    {
     "name": "stdout",
     "output_type": "stream",
     "text": [
      "Avg. train loss of epoch 111 : 0.0002\n"
     ]
    },
    {
     "name": "stderr",
     "output_type": "stream",
     "text": [
      "\n"
     ]
    },
    {
     "name": "stdout",
     "output_type": "stream",
     "text": [
      "Validation loss : 0.012020473544662064\n",
      "Validation F1-score : 0.19999999999999998\n",
      "Validation recall-score : 0.2037037037037037\n",
      "Validation precision-score : 0.19642857142857142\n"
     ]
    },
    {
     "name": "stderr",
     "output_type": "stream",
     "text": [
      "Epoch 112 / 200: 1it [00:00,  7.79it/s]"
     ]
    },
    {
     "name": "stdout",
     "output_type": "stream",
     "text": [
      "Avg. train loss of epoch 112 : 0.0002\n"
     ]
    },
    {
     "name": "stderr",
     "output_type": "stream",
     "text": [
      "\n"
     ]
    },
    {
     "name": "stdout",
     "output_type": "stream",
     "text": [
      "Validation loss : 0.012046764025817046\n",
      "Validation F1-score : 0.2037037037037037\n",
      "Validation recall-score : 0.2037037037037037\n",
      "Validation precision-score : 0.2037037037037037\n"
     ]
    },
    {
     "name": "stderr",
     "output_type": "stream",
     "text": [
      "Epoch 113 / 200: 1it [00:00,  5.35it/s]\n"
     ]
    },
    {
     "name": "stdout",
     "output_type": "stream",
     "text": [
      "Avg. train loss of epoch 113 : 0.0002\n",
      "Validation loss : 0.0122302859216123\n",
      "Validation F1-score : 0.19999999999999998\n",
      "Validation recall-score : 0.2037037037037037\n",
      "Validation precision-score : 0.19642857142857142\n"
     ]
    },
    {
     "name": "stderr",
     "output_type": "stream",
     "text": [
      "Epoch 114 / 200: 1it [00:00,  6.86it/s]\n"
     ]
    },
    {
     "name": "stdout",
     "output_type": "stream",
     "text": [
      "Avg. train loss of epoch 114 : 0.0002\n",
      "Validation loss : 0.011372920629140493\n",
      "Validation F1-score : 0.21818181818181817\n",
      "Validation recall-score : 0.2222222222222222\n",
      "Validation precision-score : 0.21428571428571427\n"
     ]
    },
    {
     "name": "stderr",
     "output_type": "stream",
     "text": [
      "Epoch 115 / 200: 1it [00:00, 12.34it/s]\n"
     ]
    },
    {
     "name": "stdout",
     "output_type": "stream",
     "text": [
      "Avg. train loss of epoch 115 : 0.0002\n",
      "Validation loss : 0.011368506663554424\n",
      "Validation F1-score : 0.2201834862385321\n",
      "Validation recall-score : 0.2222222222222222\n",
      "Validation precision-score : 0.21818181818181817\n"
     ]
    },
    {
     "name": "stderr",
     "output_type": "stream",
     "text": [
      "Epoch 116 / 200: 1it [00:00,  7.95it/s]\n"
     ]
    },
    {
     "name": "stdout",
     "output_type": "stream",
     "text": [
      "Avg. train loss of epoch 116 : 0.0001\n",
      "Validation loss : 0.011368586404903515\n",
      "Validation F1-score : 0.21818181818181817\n",
      "Validation recall-score : 0.2222222222222222\n",
      "Validation precision-score : 0.21428571428571427\n"
     ]
    },
    {
     "name": "stderr",
     "output_type": "stream",
     "text": [
      "Epoch 117 / 200: 1it [00:00, 13.11it/s]\n"
     ]
    },
    {
     "name": "stdout",
     "output_type": "stream",
     "text": [
      "Avg. train loss of epoch 117 : 0.0001\n",
      "Validation loss : 0.01152985724242958\n",
      "Validation F1-score : 0.23636363636363636\n",
      "Validation recall-score : 0.24074074074074073\n",
      "Validation precision-score : 0.23214285714285715\n"
     ]
    },
    {
     "name": "stderr",
     "output_type": "stream",
     "text": [
      "Epoch 118 / 200: 1it [00:00, 10.23it/s]\n"
     ]
    },
    {
     "name": "stdout",
     "output_type": "stream",
     "text": [
      "Avg. train loss of epoch 118 : 0.0001\n",
      "Validation loss : 0.011839199710536647\n",
      "Validation F1-score : 0.2222222222222222\n",
      "Validation recall-score : 0.2222222222222222\n",
      "Validation precision-score : 0.2222222222222222\n"
     ]
    },
    {
     "name": "stderr",
     "output_type": "stream",
     "text": [
      "Epoch 119 / 200: 1it [00:00, 11.08it/s]\n"
     ]
    },
    {
     "name": "stdout",
     "output_type": "stream",
     "text": [
      "Avg. train loss of epoch 119 : 0.0001\n",
      "Validation loss : 0.013357859205555272\n",
      "Validation F1-score : 0.2385321100917431\n",
      "Validation recall-score : 0.24074074074074073\n",
      "Validation precision-score : 0.23636363636363636\n"
     ]
    },
    {
     "name": "stderr",
     "output_type": "stream",
     "text": [
      "Epoch 120 / 200: 1it [00:00, 10.86it/s]\n"
     ]
    },
    {
     "name": "stdout",
     "output_type": "stream",
     "text": [
      "Avg. train loss of epoch 120 : 0.0001\n",
      "Validation loss : 0.013344370030068062\n",
      "Validation F1-score : 0.23636363636363636\n",
      "Validation recall-score : 0.24074074074074073\n",
      "Validation precision-score : 0.23214285714285715\n"
     ]
    },
    {
     "name": "stderr",
     "output_type": "stream",
     "text": [
      "Epoch 121 / 200: 1it [00:00, 10.86it/s]\n"
     ]
    },
    {
     "name": "stdout",
     "output_type": "stream",
     "text": [
      "Avg. train loss of epoch 121 : 0.0001\n",
      "Validation loss : 0.013596333361960746\n",
      "Validation F1-score : 0.2201834862385321\n",
      "Validation recall-score : 0.2222222222222222\n",
      "Validation precision-score : 0.21818181818181817\n"
     ]
    },
    {
     "name": "stderr",
     "output_type": "stream",
     "text": [
      "Epoch 122 / 200: 1it [00:00,  7.71it/s]"
     ]
    },
    {
     "name": "stdout",
     "output_type": "stream",
     "text": [
      "Avg. train loss of epoch 122 : 0.0001\n",
      "Validation loss : 0.013772424813863393\n"
     ]
    },
    {
     "name": "stderr",
     "output_type": "stream",
     "text": [
      "\n"
     ]
    },
    {
     "name": "stdout",
     "output_type": "stream",
     "text": [
      "Validation F1-score : 0.2201834862385321\n",
      "Validation recall-score : 0.2222222222222222\n",
      "Validation precision-score : 0.21818181818181817\n"
     ]
    },
    {
     "name": "stderr",
     "output_type": "stream",
     "text": [
      "Epoch 123 / 200: 1it [00:00, 10.38it/s]\n"
     ]
    },
    {
     "name": "stdout",
     "output_type": "stream",
     "text": [
      "Avg. train loss of epoch 123 : 0.0001\n",
      "Validation loss : 0.01400533560160044\n",
      "Validation F1-score : 0.2037037037037037\n",
      "Validation recall-score : 0.2037037037037037\n",
      "Validation precision-score : 0.2037037037037037\n"
     ]
    },
    {
     "name": "stderr",
     "output_type": "stream",
     "text": [
      "Epoch 124 / 200: 1it [00:00, 15.48it/s]\n"
     ]
    },
    {
     "name": "stdout",
     "output_type": "stream",
     "text": [
      "Avg. train loss of epoch 124 : 0.0001\n",
      "Validation loss : 0.014274266926017968\n",
      "Validation F1-score : 0.2037037037037037\n",
      "Validation recall-score : 0.2037037037037037\n",
      "Validation precision-score : 0.2037037037037037\n"
     ]
    },
    {
     "name": "stderr",
     "output_type": "stream",
     "text": [
      "Epoch 125 / 200: 1it [00:00,  8.94it/s]\n"
     ]
    },
    {
     "name": "stdout",
     "output_type": "stream",
     "text": [
      "Avg. train loss of epoch 125 : 0.0001\n",
      "Validation loss : 0.014516111966725942\n",
      "Validation F1-score : 0.2037037037037037\n",
      "Validation recall-score : 0.2037037037037037\n",
      "Validation precision-score : 0.2037037037037037\n"
     ]
    },
    {
     "name": "stderr",
     "output_type": "stream",
     "text": [
      "Epoch 126 / 200: 1it [00:00,  9.20it/s]\n"
     ]
    },
    {
     "name": "stdout",
     "output_type": "stream",
     "text": [
      "Avg. train loss of epoch 126 : 0.0001\n",
      "Validation loss : 0.014761546173611202\n",
      "Validation F1-score : 0.2037037037037037\n",
      "Validation recall-score : 0.2037037037037037\n",
      "Validation precision-score : 0.2037037037037037\n"
     ]
    },
    {
     "name": "stderr",
     "output_type": "stream",
     "text": [
      "Epoch 127 / 200: 1it [00:00,  9.70it/s]\n"
     ]
    },
    {
     "name": "stdout",
     "output_type": "stream",
     "text": [
      "Avg. train loss of epoch 127 : 0.0001\n",
      "Validation loss : 0.014941977488028037\n",
      "Validation F1-score : 0.20183486238532114\n",
      "Validation recall-score : 0.2037037037037037\n",
      "Validation precision-score : 0.2\n"
     ]
    },
    {
     "name": "stderr",
     "output_type": "stream",
     "text": [
      "Epoch 128 / 200: 1it [00:00, 11.71it/s]\n"
     ]
    },
    {
     "name": "stdout",
     "output_type": "stream",
     "text": [
      "Avg. train loss of epoch 128 : 0.0001\n",
      "Validation loss : 0.015375668938095504\n",
      "Validation F1-score : 0.17142857142857143\n",
      "Validation recall-score : 0.16666666666666666\n",
      "Validation precision-score : 0.17647058823529413\n"
     ]
    },
    {
     "name": "stderr",
     "output_type": "stream",
     "text": [
      "Epoch 129 / 200: 1it [00:00,  8.19it/s]\n"
     ]
    },
    {
     "name": "stdout",
     "output_type": "stream",
     "text": [
      "Avg. train loss of epoch 129 : 0.0001\n",
      "Validation loss : 0.015536008654413996\n",
      "Validation F1-score : 0.16822429906542055\n",
      "Validation recall-score : 0.16666666666666666\n",
      "Validation precision-score : 0.16981132075471697\n"
     ]
    },
    {
     "name": "stderr",
     "output_type": "stream",
     "text": [
      "Epoch 130 / 200: 1it [00:00, 10.27it/s]\n"
     ]
    },
    {
     "name": "stdout",
     "output_type": "stream",
     "text": [
      "Avg. train loss of epoch 130 : 0.0001\n",
      "Validation loss : 0.015832780180750666\n",
      "Validation F1-score : 0.17142857142857143\n",
      "Validation recall-score : 0.16666666666666666\n",
      "Validation precision-score : 0.17647058823529413\n"
     ]
    },
    {
     "name": "stderr",
     "output_type": "stream",
     "text": [
      "Epoch 131 / 200: 1it [00:00, 12.36it/s]\n"
     ]
    },
    {
     "name": "stdout",
     "output_type": "stream",
     "text": [
      "Avg. train loss of epoch 131 : 0.0001\n",
      "Validation loss : 0.016160906972111883\n",
      "Validation F1-score : 0.17142857142857143\n",
      "Validation recall-score : 0.16666666666666666\n",
      "Validation precision-score : 0.17647058823529413\n"
     ]
    },
    {
     "name": "stderr",
     "output_type": "stream",
     "text": [
      "Epoch 132 / 200: 1it [00:00, 11.02it/s]\n"
     ]
    },
    {
     "name": "stdout",
     "output_type": "stream",
     "text": [
      "Avg. train loss of epoch 132 : 0.0001\n",
      "Validation loss : 0.01641152356121991\n",
      "Validation F1-score : 0.17142857142857143\n",
      "Validation recall-score : 0.16666666666666666\n",
      "Validation precision-score : 0.17647058823529413\n"
     ]
    },
    {
     "name": "stderr",
     "output_type": "stream",
     "text": [
      "Epoch 133 / 200: 1it [00:00,  5.69it/s]"
     ]
    },
    {
     "name": "stdout",
     "output_type": "stream",
     "text": [
      "Avg. train loss of epoch 133 : 0.0001\n"
     ]
    },
    {
     "name": "stderr",
     "output_type": "stream",
     "text": [
      "\n"
     ]
    },
    {
     "name": "stdout",
     "output_type": "stream",
     "text": [
      "Validation loss : 0.016963971627725137\n",
      "Validation F1-score : 0.1584158415841584\n",
      "Validation recall-score : 0.14814814814814814\n",
      "Validation precision-score : 0.1702127659574468\n"
     ]
    },
    {
     "name": "stderr",
     "output_type": "stream",
     "text": [
      "Epoch 134 / 200: 1it [00:00,  8.08it/s]\n"
     ]
    },
    {
     "name": "stdout",
     "output_type": "stream",
     "text": [
      "Avg. train loss of epoch 134 : 0.0001\n",
      "Validation loss : 0.01693749105608141\n",
      "Validation F1-score : 0.17142857142857143\n",
      "Validation recall-score : 0.16666666666666666\n",
      "Validation precision-score : 0.17647058823529413\n"
     ]
    },
    {
     "name": "stderr",
     "output_type": "stream",
     "text": [
      "Epoch 135 / 200: 1it [00:00,  9.04it/s]\n"
     ]
    },
    {
     "name": "stdout",
     "output_type": "stream",
     "text": [
      "Avg. train loss of epoch 135 : 0.0001\n",
      "Validation loss : 0.01739087620296994\n",
      "Validation F1-score : 0.15999999999999998\n",
      "Validation recall-score : 0.14814814814814814\n",
      "Validation precision-score : 0.17391304347826086\n"
     ]
    },
    {
     "name": "stderr",
     "output_type": "stream",
     "text": [
      "Epoch 136 / 200: 1it [00:00,  7.56it/s]\n"
     ]
    },
    {
     "name": "stdout",
     "output_type": "stream",
     "text": [
      "Avg. train loss of epoch 136 : 0.0001\n",
      "Validation loss : 0.01733006174499924\n",
      "Validation F1-score : 0.17307692307692307\n",
      "Validation recall-score : 0.16666666666666666\n",
      "Validation precision-score : 0.18\n"
     ]
    },
    {
     "name": "stderr",
     "output_type": "stream",
     "text": [
      "Epoch 137 / 200: 1it [00:00, 10.50it/s]\n"
     ]
    },
    {
     "name": "stdout",
     "output_type": "stream",
     "text": [
      "Avg. train loss of epoch 137 : 0.0001\n",
      "Validation loss : 0.01779194297017278\n",
      "Validation F1-score : 0.1616161616161616\n",
      "Validation recall-score : 0.14814814814814814\n",
      "Validation precision-score : 0.17777777777777778\n"
     ]
    },
    {
     "name": "stderr",
     "output_type": "stream",
     "text": [
      "Epoch 138 / 200: 1it [00:00, 13.60it/s]\n"
     ]
    },
    {
     "name": "stdout",
     "output_type": "stream",
     "text": [
      "Avg. train loss of epoch 138 : 0.0001\n",
      "Validation loss : 0.017999231815338135\n",
      "Validation F1-score : 0.17647058823529413\n",
      "Validation recall-score : 0.16666666666666666\n",
      "Validation precision-score : 0.1875\n"
     ]
    },
    {
     "name": "stderr",
     "output_type": "stream",
     "text": [
      "Epoch 139 / 200: 1it [00:00, 12.56it/s]\n"
     ]
    },
    {
     "name": "stdout",
     "output_type": "stream",
     "text": [
      "Avg. train loss of epoch 139 : 0.0001\n",
      "Validation loss : 0.018263866772522796\n",
      "Validation F1-score : 0.17647058823529413\n",
      "Validation recall-score : 0.16666666666666666\n",
      "Validation precision-score : 0.1875\n"
     ]
    },
    {
     "name": "stderr",
     "output_type": "stream",
     "text": [
      "Epoch 140 / 200: 1it [00:00, 13.84it/s]\n"
     ]
    },
    {
     "name": "stdout",
     "output_type": "stream",
     "text": [
      "Avg. train loss of epoch 140 : 0.0001\n",
      "Validation loss : 0.01877220901283058\n",
      "Validation F1-score : 0.1443298969072165\n",
      "Validation recall-score : 0.12962962962962962\n",
      "Validation precision-score : 0.16279069767441862\n"
     ]
    },
    {
     "name": "stderr",
     "output_type": "stream",
     "text": [
      "Epoch 141 / 200: 1it [00:00,  9.80it/s]\n"
     ]
    },
    {
     "name": "stdout",
     "output_type": "stream",
     "text": [
      "Avg. train loss of epoch 141 : 0.0001\n",
      "Validation loss : 0.018828586952106374\n",
      "Validation F1-score : 0.1923076923076923\n",
      "Validation recall-score : 0.18518518518518517\n",
      "Validation precision-score : 0.2\n"
     ]
    },
    {
     "name": "stderr",
     "output_type": "stream",
     "text": [
      "Epoch 142 / 200: 1it [00:00, 10.34it/s]\n"
     ]
    },
    {
     "name": "stdout",
     "output_type": "stream",
     "text": [
      "Avg. train loss of epoch 142 : 0.0001\n",
      "Validation loss : 0.019264209914851834\n",
      "Validation F1-score : 0.18\n",
      "Validation recall-score : 0.16666666666666666\n",
      "Validation precision-score : 0.1956521739130435\n"
     ]
    },
    {
     "name": "stderr",
     "output_type": "stream",
     "text": [
      "Epoch 143 / 200: 1it [00:00,  8.59it/s]\n"
     ]
    },
    {
     "name": "stdout",
     "output_type": "stream",
     "text": [
      "Avg. train loss of epoch 143 : 0.0001\n",
      "Validation loss : 0.019446795051162306\n",
      "Validation F1-score : 0.19417475728155342\n",
      "Validation recall-score : 0.18518518518518517\n",
      "Validation precision-score : 0.20408163265306123\n"
     ]
    },
    {
     "name": "stderr",
     "output_type": "stream",
     "text": [
      "Epoch 144 / 200: 1it [00:00, 11.23it/s]\n"
     ]
    },
    {
     "name": "stdout",
     "output_type": "stream",
     "text": [
      "Avg. train loss of epoch 144 : 0.0001\n",
      "Validation loss : 0.019692292084565032\n",
      "Validation F1-score : 0.17647058823529413\n",
      "Validation recall-score : 0.16666666666666666\n",
      "Validation precision-score : 0.1875\n"
     ]
    },
    {
     "name": "stderr",
     "output_type": "stream",
     "text": [
      "Epoch 145 / 200: 1it [00:00, 10.57it/s]\n"
     ]
    },
    {
     "name": "stdout",
     "output_type": "stream",
     "text": [
      "Avg. train loss of epoch 145 : 0.0001\n",
      "Validation loss : 0.02020067782015414\n",
      "Validation F1-score : 0.125\n",
      "Validation recall-score : 0.1111111111111111\n",
      "Validation precision-score : 0.14285714285714285\n"
     ]
    },
    {
     "name": "stderr",
     "output_type": "stream",
     "text": [
      "Epoch 146 / 200: 1it [00:00,  8.58it/s]\n"
     ]
    },
    {
     "name": "stdout",
     "output_type": "stream",
     "text": [
      "Avg. train loss of epoch 146 : 0.0001\n",
      "Validation loss : 0.02019257642127372\n",
      "Validation F1-score : 0.19417475728155342\n",
      "Validation recall-score : 0.18518518518518517\n",
      "Validation precision-score : 0.20408163265306123\n"
     ]
    },
    {
     "name": "stderr",
     "output_type": "stream",
     "text": [
      "Epoch 147 / 200: 1it [00:00,  7.10it/s]\n"
     ]
    },
    {
     "name": "stdout",
     "output_type": "stream",
     "text": [
      "Avg. train loss of epoch 147 : 0.0001\n",
      "Validation loss : 0.02098207699285971\n",
      "Validation F1-score : 0.125\n",
      "Validation recall-score : 0.1111111111111111\n",
      "Validation precision-score : 0.14285714285714285\n"
     ]
    },
    {
     "name": "stderr",
     "output_type": "stream",
     "text": [
      "Epoch 148 / 200: 1it [00:00,  7.03it/s]"
     ]
    },
    {
     "name": "stdout",
     "output_type": "stream",
     "text": [
      "Avg. train loss of epoch 148 : 0.0001\n",
      "Validation loss : 0.020887700287071435\n"
     ]
    },
    {
     "name": "stderr",
     "output_type": "stream",
     "text": [
      "\n"
     ]
    },
    {
     "name": "stdout",
     "output_type": "stream",
     "text": [
      "Validation F1-score : 0.17821782178217818\n",
      "Validation recall-score : 0.16666666666666666\n",
      "Validation precision-score : 0.19148936170212766\n"
     ]
    },
    {
     "name": "stderr",
     "output_type": "stream",
     "text": [
      "Epoch 149 / 200: 1it [00:00,  6.68it/s]"
     ]
    },
    {
     "name": "stdout",
     "output_type": "stream",
     "text": [
      "Avg. train loss of epoch 149 : 0.0001\n",
      "Validation loss : 0.021474422635258856\n"
     ]
    },
    {
     "name": "stderr",
     "output_type": "stream",
     "text": [
      "\n"
     ]
    },
    {
     "name": "stdout",
     "output_type": "stream",
     "text": [
      "Validation F1-score : 0.1414141414141414\n",
      "Validation recall-score : 0.12962962962962962\n",
      "Validation precision-score : 0.15555555555555556\n"
     ]
    },
    {
     "name": "stderr",
     "output_type": "stream",
     "text": [
      "Epoch 150 / 200: 1it [00:00,  5.48it/s]"
     ]
    },
    {
     "name": "stdout",
     "output_type": "stream",
     "text": [
      "Avg. train loss of epoch 150 : 0.0000\n"
     ]
    },
    {
     "name": "stderr",
     "output_type": "stream",
     "text": [
      "\n"
     ]
    },
    {
     "name": "stdout",
     "output_type": "stream",
     "text": [
      "Validation loss : 0.02173399764138299\n",
      "Validation F1-score : 0.1414141414141414\n",
      "Validation recall-score : 0.12962962962962962\n",
      "Validation precision-score : 0.15555555555555556\n"
     ]
    },
    {
     "name": "stderr",
     "output_type": "stream",
     "text": [
      "Epoch 151 / 200: 1it [00:00,  7.71it/s]\n"
     ]
    },
    {
     "name": "stdout",
     "output_type": "stream",
     "text": [
      "Avg. train loss of epoch 151 : 0.0000\n",
      "Validation loss : 0.021838640844499744\n",
      "Validation F1-score : 0.1414141414141414\n",
      "Validation recall-score : 0.12962962962962962\n",
      "Validation precision-score : 0.15555555555555556\n"
     ]
    },
    {
     "name": "stderr",
     "output_type": "stream",
     "text": [
      "Epoch 152 / 200: 1it [00:00,  4.20it/s]\n"
     ]
    },
    {
     "name": "stdout",
     "output_type": "stream",
     "text": [
      "Avg. train loss of epoch 152 : 0.0000\n",
      "Validation loss : 0.02253683193309887\n",
      "Validation F1-score : 0.1414141414141414\n",
      "Validation recall-score : 0.12962962962962962\n",
      "Validation precision-score : 0.15555555555555556\n"
     ]
    },
    {
     "name": "stderr",
     "output_type": "stream",
     "text": [
      "Epoch 153 / 200: 1it [00:00,  7.69it/s]\n"
     ]
    },
    {
     "name": "stdout",
     "output_type": "stream",
     "text": [
      "Avg. train loss of epoch 153 : 0.0000\n",
      "Validation loss : 0.022380279528128134\n",
      "Validation F1-score : 0.15686274509803924\n",
      "Validation recall-score : 0.14814814814814814\n",
      "Validation precision-score : 0.16666666666666666\n"
     ]
    },
    {
     "name": "stderr",
     "output_type": "stream",
     "text": [
      "Epoch 154 / 200: 1it [00:00,  9.46it/s]\n"
     ]
    },
    {
     "name": "stdout",
     "output_type": "stream",
     "text": [
      "Avg. train loss of epoch 154 : 0.0000\n",
      "Validation loss : 0.023111720342893858\n",
      "Validation F1-score : 0.12244897959183673\n",
      "Validation recall-score : 0.1111111111111111\n",
      "Validation precision-score : 0.13636363636363635\n"
     ]
    },
    {
     "name": "stderr",
     "output_type": "stream",
     "text": [
      "Epoch 155 / 200: 1it [00:00, 14.63it/s]\n"
     ]
    },
    {
     "name": "stdout",
     "output_type": "stream",
     "text": [
      "Avg. train loss of epoch 155 : 0.0000\n",
      "Validation loss : 0.02319290831282332\n",
      "Validation F1-score : 0.13999999999999999\n",
      "Validation recall-score : 0.12962962962962962\n",
      "Validation precision-score : 0.15217391304347827\n"
     ]
    },
    {
     "name": "stderr",
     "output_type": "stream",
     "text": [
      "Epoch 156 / 200: 1it [00:00,  7.06it/s]\n"
     ]
    },
    {
     "name": "stdout",
     "output_type": "stream",
     "text": [
      "Avg. train loss of epoch 156 : 0.0000\n",
      "Validation loss : 0.02350567965894132\n",
      "Validation F1-score : 0.13999999999999999\n",
      "Validation recall-score : 0.12962962962962962\n",
      "Validation precision-score : 0.15217391304347827\n"
     ]
    },
    {
     "name": "stderr",
     "output_type": "stream",
     "text": [
      "Epoch 157 / 200: 1it [00:00, 10.97it/s]\n"
     ]
    },
    {
     "name": "stdout",
     "output_type": "stream",
     "text": [
      "Avg. train loss of epoch 157 : 0.0000\n",
      "Validation loss : 0.023977827381443332\n",
      "Validation F1-score : 0.12371134020618559\n",
      "Validation recall-score : 0.1111111111111111\n",
      "Validation precision-score : 0.13953488372093023\n"
     ]
    },
    {
     "name": "stderr",
     "output_type": "stream",
     "text": [
      "Epoch 158 / 200: 1it [00:00, 11.34it/s]\n"
     ]
    },
    {
     "name": "stdout",
     "output_type": "stream",
     "text": [
      "Avg. train loss of epoch 158 : 0.0000\n",
      "Validation loss : 0.023810194956289756\n",
      "Validation F1-score : 0.1359223300970874\n",
      "Validation recall-score : 0.12962962962962962\n",
      "Validation precision-score : 0.14285714285714285\n"
     ]
    },
    {
     "name": "stderr",
     "output_type": "stream",
     "text": [
      "Epoch 159 / 200: 1it [00:00,  8.45it/s]\n"
     ]
    },
    {
     "name": "stdout",
     "output_type": "stream",
     "text": [
      "Avg. train loss of epoch 159 : 0.0000\n",
      "Validation loss : 0.024724526985271555\n",
      "Validation F1-score : 0.12371134020618559\n",
      "Validation recall-score : 0.1111111111111111\n",
      "Validation precision-score : 0.13953488372093023\n"
     ]
    },
    {
     "name": "stderr",
     "output_type": "stream",
     "text": [
      "Epoch 160 / 200: 1it [00:00, 10.76it/s]\n"
     ]
    },
    {
     "name": "stdout",
     "output_type": "stream",
     "text": [
      "Avg. train loss of epoch 160 : 0.0000\n",
      "Validation loss : 0.024382873161419016\n",
      "Validation F1-score : 0.1359223300970874\n",
      "Validation recall-score : 0.12962962962962962\n",
      "Validation precision-score : 0.14285714285714285\n"
     ]
    },
    {
     "name": "stderr",
     "output_type": "stream",
     "text": [
      "Epoch 161 / 200: 1it [00:00, 10.01it/s]\n"
     ]
    },
    {
     "name": "stdout",
     "output_type": "stream",
     "text": [
      "Avg. train loss of epoch 161 : 0.0000\n",
      "Validation loss : 0.025073401025823644\n",
      "Validation F1-score : 0.1212121212121212\n",
      "Validation recall-score : 0.1111111111111111\n",
      "Validation precision-score : 0.13333333333333333\n"
     ]
    },
    {
     "name": "stderr",
     "output_type": "stream",
     "text": [
      "Epoch 162 / 200: 1it [00:00,  9.06it/s]\n"
     ]
    },
    {
     "name": "stdout",
     "output_type": "stream",
     "text": [
      "Avg. train loss of epoch 162 : 0.0000\n",
      "Validation loss : 0.02535758791743098\n",
      "Validation F1-score : 0.1212121212121212\n",
      "Validation recall-score : 0.1111111111111111\n",
      "Validation precision-score : 0.13333333333333333\n"
     ]
    },
    {
     "name": "stderr",
     "output_type": "stream",
     "text": [
      "Epoch 163 / 200: 1it [00:00, 10.68it/s]\n"
     ]
    },
    {
     "name": "stdout",
     "output_type": "stream",
     "text": [
      "Avg. train loss of epoch 163 : 0.0000\n",
      "Validation loss : 0.025333117794346164\n",
      "Validation F1-score : 0.12\n",
      "Validation recall-score : 0.1111111111111111\n",
      "Validation precision-score : 0.13043478260869565\n"
     ]
    },
    {
     "name": "stderr",
     "output_type": "stream",
     "text": [
      "Epoch 164 / 200: 1it [00:00, 12.29it/s]\n"
     ]
    },
    {
     "name": "stdout",
     "output_type": "stream",
     "text": [
      "Avg. train loss of epoch 164 : 0.0000\n",
      "Validation loss : 0.02604292212305842\n",
      "Validation F1-score : 0.12371134020618559\n",
      "Validation recall-score : 0.1111111111111111\n",
      "Validation precision-score : 0.13953488372093023\n"
     ]
    },
    {
     "name": "stderr",
     "output_type": "stream",
     "text": [
      "Epoch 165 / 200: 1it [00:00,  8.40it/s]\n"
     ]
    },
    {
     "name": "stdout",
     "output_type": "stream",
     "text": [
      "Avg. train loss of epoch 165 : 0.0000\n",
      "Validation loss : 0.026095480532259553\n",
      "Validation F1-score : 0.12244897959183673\n",
      "Validation recall-score : 0.1111111111111111\n",
      "Validation precision-score : 0.13636363636363635\n"
     ]
    },
    {
     "name": "stderr",
     "output_type": "stream",
     "text": [
      "Epoch 166 / 200: 1it [00:00,  8.62it/s]\n"
     ]
    },
    {
     "name": "stdout",
     "output_type": "stream",
     "text": [
      "Avg. train loss of epoch 166 : 0.0000\n",
      "Validation loss : 0.02635015023721231\n",
      "Validation F1-score : 0.12244897959183673\n",
      "Validation recall-score : 0.1111111111111111\n",
      "Validation precision-score : 0.13636363636363635\n"
     ]
    },
    {
     "name": "stderr",
     "output_type": "stream",
     "text": [
      "Epoch 167 / 200: 1it [00:00, 13.71it/s]\n"
     ]
    },
    {
     "name": "stdout",
     "output_type": "stream",
     "text": [
      "Avg. train loss of epoch 167 : 0.0000\n",
      "Validation loss : 0.0269813279847841\n",
      "Validation F1-score : 0.12371134020618559\n",
      "Validation recall-score : 0.1111111111111111\n",
      "Validation precision-score : 0.13953488372093023\n"
     ]
    },
    {
     "name": "stderr",
     "output_type": "stream",
     "text": [
      "Epoch 168 / 200: 1it [00:00,  8.42it/s]\n"
     ]
    },
    {
     "name": "stdout",
     "output_type": "stream",
     "text": [
      "Avg. train loss of epoch 168 : 0.0000\n",
      "Validation loss : 0.02677125866348679\n",
      "Validation F1-score : 0.1212121212121212\n",
      "Validation recall-score : 0.1111111111111111\n",
      "Validation precision-score : 0.13333333333333333\n"
     ]
    },
    {
     "name": "stderr",
     "output_type": "stream",
     "text": [
      "Epoch 169 / 200: 1it [00:00, 10.08it/s]\n"
     ]
    },
    {
     "name": "stdout",
     "output_type": "stream",
     "text": [
      "Avg. train loss of epoch 169 : 0.0000\n",
      "Validation loss : 0.027376603435825656\n",
      "Validation F1-score : 0.12371134020618559\n",
      "Validation recall-score : 0.1111111111111111\n",
      "Validation precision-score : 0.13953488372093023\n"
     ]
    },
    {
     "name": "stderr",
     "output_type": "stream",
     "text": [
      "Epoch 170 / 200: 1it [00:00, 12.47it/s]\n"
     ]
    },
    {
     "name": "stdout",
     "output_type": "stream",
     "text": [
      "Avg. train loss of epoch 170 : 0.0000\n",
      "Validation loss : 0.027650327295870393\n",
      "Validation F1-score : 0.12371134020618559\n",
      "Validation recall-score : 0.1111111111111111\n",
      "Validation precision-score : 0.13953488372093023\n"
     ]
    },
    {
     "name": "stderr",
     "output_type": "stream",
     "text": [
      "Epoch 171 / 200: 1it [00:00,  6.22it/s]\n"
     ]
    },
    {
     "name": "stdout",
     "output_type": "stream",
     "text": [
      "Avg. train loss of epoch 171 : 0.0000\n",
      "Validation loss : 0.026046201989457413\n",
      "Validation F1-score : 0.12\n",
      "Validation recall-score : 0.1111111111111111\n",
      "Validation precision-score : 0.13043478260869565\n"
     ]
    },
    {
     "name": "stderr",
     "output_type": "stream",
     "text": [
      "Epoch 172 / 200: 1it [00:00,  7.41it/s]\n"
     ]
    },
    {
     "name": "stdout",
     "output_type": "stream",
     "text": [
      "Avg. train loss of epoch 172 : 0.0000\n",
      "Validation loss : 0.025434804929269327\n",
      "Validation F1-score : 0.1212121212121212\n",
      "Validation recall-score : 0.1111111111111111\n",
      "Validation precision-score : 0.13333333333333333\n"
     ]
    },
    {
     "name": "stderr",
     "output_type": "stream",
     "text": [
      "Epoch 173 / 200: 1it [00:00,  7.78it/s]\n"
     ]
    },
    {
     "name": "stdout",
     "output_type": "stream",
     "text": [
      "Avg. train loss of epoch 173 : 0.0000\n",
      "Validation loss : 0.025564147008431924\n",
      "Validation F1-score : 0.1212121212121212\n",
      "Validation recall-score : 0.1111111111111111\n",
      "Validation precision-score : 0.13333333333333333\n"
     ]
    },
    {
     "name": "stderr",
     "output_type": "stream",
     "text": [
      "Epoch 174 / 200: 1it [00:00, 11.36it/s]\n"
     ]
    },
    {
     "name": "stdout",
     "output_type": "stream",
     "text": [
      "Avg. train loss of epoch 174 : 0.0000\n",
      "Validation loss : 0.025534578271814296\n",
      "Validation F1-score : 0.12\n",
      "Validation recall-score : 0.1111111111111111\n",
      "Validation precision-score : 0.13043478260869565\n"
     ]
    },
    {
     "name": "stderr",
     "output_type": "stream",
     "text": [
      "Epoch 175 / 200: 1it [00:00,  4.61it/s]\n"
     ]
    },
    {
     "name": "stdout",
     "output_type": "stream",
     "text": [
      "Avg. train loss of epoch 175 : 0.0000\n",
      "Validation loss : 0.025944909533938847\n",
      "Validation F1-score : 0.1212121212121212\n",
      "Validation recall-score : 0.1111111111111111\n",
      "Validation precision-score : 0.13333333333333333\n"
     ]
    },
    {
     "name": "stderr",
     "output_type": "stream",
     "text": [
      "Epoch 176 / 200: 1it [00:00, 11.85it/s]\n"
     ]
    },
    {
     "name": "stdout",
     "output_type": "stream",
     "text": [
      "Avg. train loss of epoch 176 : 0.0000\n",
      "Validation loss : 0.025972250345590954\n",
      "Validation F1-score : 0.12\n",
      "Validation recall-score : 0.1111111111111111\n",
      "Validation precision-score : 0.13043478260869565\n"
     ]
    },
    {
     "name": "stderr",
     "output_type": "stream",
     "text": [
      "Epoch 177 / 200: 1it [00:00, 11.40it/s]\n"
     ]
    },
    {
     "name": "stdout",
     "output_type": "stream",
     "text": [
      "Avg. train loss of epoch 177 : 0.0000\n",
      "Validation loss : 0.026058322674519307\n",
      "Validation F1-score : 0.12\n",
      "Validation recall-score : 0.1111111111111111\n",
      "Validation precision-score : 0.13043478260869565\n"
     ]
    },
    {
     "name": "stderr",
     "output_type": "stream",
     "text": [
      "Epoch 178 / 200: 1it [00:00, 10.41it/s]\n"
     ]
    },
    {
     "name": "stdout",
     "output_type": "stream",
     "text": [
      "Avg. train loss of epoch 178 : 0.0000\n",
      "Validation loss : 0.026448449573001347\n",
      "Validation F1-score : 0.1212121212121212\n",
      "Validation recall-score : 0.1111111111111111\n",
      "Validation precision-score : 0.13333333333333333\n"
     ]
    },
    {
     "name": "stderr",
     "output_type": "stream",
     "text": [
      "Epoch 179 / 200: 1it [00:00, 10.64it/s]\n"
     ]
    },
    {
     "name": "stdout",
     "output_type": "stream",
     "text": [
      "Avg. train loss of epoch 179 : 0.0000\n",
      "Validation loss : 0.026532276256664378\n",
      "Validation F1-score : 0.1188118811881188\n",
      "Validation recall-score : 0.1111111111111111\n",
      "Validation precision-score : 0.1276595744680851\n"
     ]
    },
    {
     "name": "stderr",
     "output_type": "stream",
     "text": [
      "Epoch 180 / 200: 1it [00:00, 10.04it/s]\n"
     ]
    },
    {
     "name": "stdout",
     "output_type": "stream",
     "text": [
      "Avg. train loss of epoch 180 : 0.0000\n",
      "Validation loss : 0.026798129081726074\n",
      "Validation F1-score : 0.1212121212121212\n",
      "Validation recall-score : 0.1111111111111111\n",
      "Validation precision-score : 0.13333333333333333\n"
     ]
    },
    {
     "name": "stderr",
     "output_type": "stream",
     "text": [
      "Epoch 181 / 200: 1it [00:00,  6.71it/s]"
     ]
    },
    {
     "name": "stdout",
     "output_type": "stream",
     "text": [
      "Avg. train loss of epoch 181 : 0.0000\n"
     ]
    },
    {
     "name": "stderr",
     "output_type": "stream",
     "text": [
      "\n"
     ]
    },
    {
     "name": "stdout",
     "output_type": "stream",
     "text": [
      "Validation loss : 0.027191377974845266\n",
      "Validation F1-score : 0.12244897959183673\n",
      "Validation recall-score : 0.1111111111111111\n",
      "Validation precision-score : 0.13636363636363635\n"
     ]
    },
    {
     "name": "stderr",
     "output_type": "stream",
     "text": [
      "Epoch 182 / 200: 1it [00:00,  7.57it/s]"
     ]
    },
    {
     "name": "stdout",
     "output_type": "stream",
     "text": [
      "Avg. train loss of epoch 182 : 0.0000\n",
      "Validation loss : 0.02730170778326086\n"
     ]
    },
    {
     "name": "stderr",
     "output_type": "stream",
     "text": [
      "\n"
     ]
    },
    {
     "name": "stdout",
     "output_type": "stream",
     "text": [
      "Validation F1-score : 0.1212121212121212\n",
      "Validation recall-score : 0.1111111111111111\n",
      "Validation precision-score : 0.13333333333333333\n"
     ]
    },
    {
     "name": "stderr",
     "output_type": "stream",
     "text": [
      "Epoch 183 / 200: 1it [00:00, 10.61it/s]\n"
     ]
    },
    {
     "name": "stdout",
     "output_type": "stream",
     "text": [
      "Avg. train loss of epoch 183 : 0.0000\n",
      "Validation loss : 0.027499418000917177\n",
      "Validation F1-score : 0.12\n",
      "Validation recall-score : 0.1111111111111111\n",
      "Validation precision-score : 0.13043478260869565\n"
     ]
    },
    {
     "name": "stderr",
     "output_type": "stream",
     "text": [
      "Epoch 184 / 200: 1it [00:00,  9.43it/s]\n"
     ]
    },
    {
     "name": "stdout",
     "output_type": "stream",
     "text": [
      "Avg. train loss of epoch 184 : 0.0000\n",
      "Validation loss : 0.02783936423224372\n",
      "Validation F1-score : 0.1212121212121212\n",
      "Validation recall-score : 0.1111111111111111\n",
      "Validation precision-score : 0.13333333333333333\n"
     ]
    },
    {
     "name": "stderr",
     "output_type": "stream",
     "text": [
      "Epoch 185 / 200: 1it [00:00,  8.89it/s]\n"
     ]
    },
    {
     "name": "stdout",
     "output_type": "stream",
     "text": [
      "Avg. train loss of epoch 185 : 0.0000\n",
      "Validation loss : 0.028042058686952333\n",
      "Validation F1-score : 0.1212121212121212\n",
      "Validation recall-score : 0.1111111111111111\n",
      "Validation precision-score : 0.13333333333333333\n"
     ]
    },
    {
     "name": "stderr",
     "output_type": "stream",
     "text": [
      "Epoch 186 / 200: 1it [00:00,  8.83it/s]\n"
     ]
    },
    {
     "name": "stdout",
     "output_type": "stream",
     "text": [
      "Avg. train loss of epoch 186 : 0.0000\n",
      "Validation loss : 0.02807703211500838\n",
      "Validation F1-score : 0.1188118811881188\n",
      "Validation recall-score : 0.1111111111111111\n",
      "Validation precision-score : 0.1276595744680851\n"
     ]
    },
    {
     "name": "stderr",
     "output_type": "stream",
     "text": [
      "Epoch 187 / 200: 1it [00:00, 10.98it/s]\n"
     ]
    },
    {
     "name": "stdout",
     "output_type": "stream",
     "text": [
      "Avg. train loss of epoch 187 : 0.0000\n",
      "Validation loss : 0.02875009420755747\n",
      "Validation F1-score : 0.12\n",
      "Validation recall-score : 0.1111111111111111\n",
      "Validation precision-score : 0.13043478260869565\n"
     ]
    },
    {
     "name": "stderr",
     "output_type": "stream",
     "text": [
      "Epoch 188 / 200: 1it [00:00,  9.41it/s]\n"
     ]
    },
    {
     "name": "stdout",
     "output_type": "stream",
     "text": [
      "Avg. train loss of epoch 188 : 0.0000\n",
      "Validation loss : 0.029448354566419446\n",
      "Validation F1-score : 0.12\n",
      "Validation recall-score : 0.1111111111111111\n",
      "Validation precision-score : 0.13043478260869565\n"
     ]
    },
    {
     "name": "stderr",
     "output_type": "stream",
     "text": [
      "Epoch 189 / 200: 1it [00:00, 12.38it/s]\n"
     ]
    },
    {
     "name": "stdout",
     "output_type": "stream",
     "text": [
      "Avg. train loss of epoch 189 : 0.0000\n",
      "Validation loss : 0.030009417920499236\n",
      "Validation F1-score : 0.1188118811881188\n",
      "Validation recall-score : 0.1111111111111111\n",
      "Validation precision-score : 0.1276595744680851\n"
     ]
    },
    {
     "name": "stderr",
     "output_type": "stream",
     "text": [
      "Epoch 190 / 200: 1it [00:00, 11.75it/s]\n"
     ]
    },
    {
     "name": "stdout",
     "output_type": "stream",
     "text": [
      "Avg. train loss of epoch 190 : 0.0000\n",
      "Validation loss : 0.03060661779867636\n",
      "Validation F1-score : 0.1188118811881188\n",
      "Validation recall-score : 0.1111111111111111\n",
      "Validation precision-score : 0.1276595744680851\n"
     ]
    },
    {
     "name": "stderr",
     "output_type": "stream",
     "text": [
      "Epoch 191 / 200: 1it [00:00, 11.69it/s]\n"
     ]
    },
    {
     "name": "stdout",
     "output_type": "stream",
     "text": [
      "Avg. train loss of epoch 191 : 0.0000\n",
      "Validation loss : 0.03125666927646946\n",
      "Validation F1-score : 0.12244897959183673\n",
      "Validation recall-score : 0.1111111111111111\n",
      "Validation precision-score : 0.13636363636363635\n"
     ]
    },
    {
     "name": "stderr",
     "output_type": "stream",
     "text": [
      "Epoch 192 / 200: 1it [00:00, 11.55it/s]\n"
     ]
    },
    {
     "name": "stdout",
     "output_type": "stream",
     "text": [
      "Avg. train loss of epoch 192 : 0.0000\n",
      "Validation loss : 0.031703755662247944\n",
      "Validation F1-score : 0.1212121212121212\n",
      "Validation recall-score : 0.1111111111111111\n",
      "Validation precision-score : 0.13333333333333333\n"
     ]
    },
    {
     "name": "stderr",
     "output_type": "stream",
     "text": [
      "Epoch 193 / 200: 1it [00:00, 12.17it/s]\n"
     ]
    },
    {
     "name": "stdout",
     "output_type": "stream",
     "text": [
      "Avg. train loss of epoch 193 : 0.0000\n",
      "Validation loss : 0.03204971068614238\n",
      "Validation F1-score : 0.13861386138613857\n",
      "Validation recall-score : 0.12962962962962962\n",
      "Validation precision-score : 0.14893617021276595\n"
     ]
    },
    {
     "name": "stderr",
     "output_type": "stream",
     "text": [
      "Epoch 194 / 200: 1it [00:00, 10.37it/s]\n"
     ]
    },
    {
     "name": "stdout",
     "output_type": "stream",
     "text": [
      "Avg. train loss of epoch 194 : 0.0000\n",
      "Validation loss : 0.03240230921152476\n",
      "Validation F1-score : 0.13861386138613857\n",
      "Validation recall-score : 0.12962962962962962\n",
      "Validation precision-score : 0.14893617021276595\n"
     ]
    },
    {
     "name": "stderr",
     "output_type": "stream",
     "text": [
      "Epoch 195 / 200: 1it [00:00, 14.01it/s]\n"
     ]
    },
    {
     "name": "stdout",
     "output_type": "stream",
     "text": [
      "Avg. train loss of epoch 195 : 0.0000\n",
      "Validation loss : 0.03266672508136646\n",
      "Validation F1-score : 0.13861386138613857\n",
      "Validation recall-score : 0.12962962962962962\n",
      "Validation precision-score : 0.14893617021276595\n"
     ]
    },
    {
     "name": "stderr",
     "output_type": "stream",
     "text": [
      "Epoch 196 / 200: 1it [00:00,  4.12it/s]\n"
     ]
    },
    {
     "name": "stdout",
     "output_type": "stream",
     "text": [
      "Avg. train loss of epoch 196 : 0.0000\n",
      "Validation loss : 0.03285819453162116\n",
      "Validation F1-score : 0.13861386138613857\n",
      "Validation recall-score : 0.12962962962962962\n",
      "Validation precision-score : 0.14893617021276595\n"
     ]
    },
    {
     "name": "stderr",
     "output_type": "stream",
     "text": [
      "Epoch 197 / 200: 1it [00:00,  8.37it/s]\n"
     ]
    },
    {
     "name": "stdout",
     "output_type": "stream",
     "text": [
      "Avg. train loss of epoch 197 : 0.0000\n",
      "Validation loss : 0.03302262280438397\n",
      "Validation F1-score : 0.13999999999999999\n",
      "Validation recall-score : 0.12962962962962962\n",
      "Validation precision-score : 0.15217391304347827\n"
     ]
    },
    {
     "name": "stderr",
     "output_type": "stream",
     "text": [
      "Epoch 198 / 200: 1it [00:00, 12.86it/s]\n"
     ]
    },
    {
     "name": "stdout",
     "output_type": "stream",
     "text": [
      "Avg. train loss of epoch 198 : 0.0000\n",
      "Validation loss : 0.03319665547963735\n",
      "Validation F1-score : 0.13999999999999999\n",
      "Validation recall-score : 0.12962962962962962\n",
      "Validation precision-score : 0.15217391304347827\n"
     ]
    },
    {
     "name": "stderr",
     "output_type": "stream",
     "text": [
      "Epoch 199 / 200: 1it [00:00, 12.85it/s]\n"
     ]
    },
    {
     "name": "stdout",
     "output_type": "stream",
     "text": [
      "Avg. train loss of epoch 199 : 0.0000\n",
      "Validation loss : 0.033314505138912716\n",
      "Validation F1-score : 0.13861386138613857\n",
      "Validation recall-score : 0.12962962962962962\n",
      "Validation precision-score : 0.14893617021276595\n"
     ]
    },
    {
     "name": "stderr",
     "output_type": "stream",
     "text": [
      "Epoch 200 / 200: 1it [00:00,  9.58it/s]\n"
     ]
    },
    {
     "name": "stdout",
     "output_type": "stream",
     "text": [
      "Avg. train loss of epoch 200 : 0.0000\n",
      "Validation loss : 0.03343478086832408\n",
      "Validation F1-score : 0.13725490196078433\n",
      "Validation recall-score : 0.12962962962962962\n",
      "Validation precision-score : 0.14583333333333334\n",
      "=============================\n",
      "Best validation F1-score : 0.308139534883721\n",
      "=============================\n"
     ]
    }
   ],
   "source": [
    "cities_loop_gnn('data')"
   ]
  },
  {
   "cell_type": "code",
   "execution_count": 9,
   "metadata": {},
   "outputs": [
    {
     "name": "stderr",
     "output_type": "stream",
     "text": [
      "/opt/anaconda3/envs/ma4/lib/python3.10/site-packages/sklearn/feature_selection/_univariate_selection.py:112: UserWarning: Features [11] are constant.\n",
      "  warnings.warn(\"Features %s are constant.\" % constant_features_idx, UserWarning)\n",
      "/opt/anaconda3/envs/ma4/lib/python3.10/site-packages/sklearn/feature_selection/_univariate_selection.py:113: RuntimeWarning: invalid value encountered in divide\n",
      "  f = msb / msw\n"
     ]
    },
    {
     "name": "stdout",
     "output_type": "stream",
     "text": [
      "\n"
     ]
    },
    {
     "name": "stderr",
     "output_type": "stream",
     "text": [
      "/opt/anaconda3/envs/ma4/lib/python3.10/site-packages/sklearn/feature_selection/_univariate_selection.py:112: UserWarning: Features [ 7  8  9 10 11] are constant.\n",
      "  warnings.warn(\"Features %s are constant.\" % constant_features_idx, UserWarning)\n",
      "/opt/anaconda3/envs/ma4/lib/python3.10/site-packages/sklearn/feature_selection/_univariate_selection.py:113: RuntimeWarning: invalid value encountered in divide\n",
      "  f = msb / msw\n"
     ]
    },
    {
     "name": "stdout",
     "output_type": "stream",
     "text": [
      "\n"
     ]
    },
    {
     "name": "stderr",
     "output_type": "stream",
     "text": [
      "/opt/anaconda3/envs/ma4/lib/python3.10/site-packages/sklearn/feature_selection/_univariate_selection.py:112: UserWarning: Features [ 8 11] are constant.\n",
      "  warnings.warn(\"Features %s are constant.\" % constant_features_idx, UserWarning)\n",
      "/opt/anaconda3/envs/ma4/lib/python3.10/site-packages/sklearn/feature_selection/_univariate_selection.py:113: RuntimeWarning: invalid value encountered in divide\n",
      "  f = msb / msw\n"
     ]
    },
    {
     "name": "stdout",
     "output_type": "stream",
     "text": [
      "\n"
     ]
    },
    {
     "name": "stderr",
     "output_type": "stream",
     "text": [
      "/opt/anaconda3/envs/ma4/lib/python3.10/site-packages/sklearn/feature_selection/_univariate_selection.py:112: UserWarning: Features [ 7  8 11] are constant.\n",
      "  warnings.warn(\"Features %s are constant.\" % constant_features_idx, UserWarning)\n",
      "/opt/anaconda3/envs/ma4/lib/python3.10/site-packages/sklearn/feature_selection/_univariate_selection.py:113: RuntimeWarning: invalid value encountered in divide\n",
      "  f = msb / msw\n"
     ]
    },
    {
     "name": "stdout",
     "output_type": "stream",
     "text": [
      "\n",
      "\n"
     ]
    },
    {
     "name": "stderr",
     "output_type": "stream",
     "text": [
      "/opt/anaconda3/envs/ma4/lib/python3.10/site-packages/sklearn/feature_selection/_univariate_selection.py:112: UserWarning: Features [ 8 11] are constant.\n",
      "  warnings.warn(\"Features %s are constant.\" % constant_features_idx, UserWarning)\n",
      "/opt/anaconda3/envs/ma4/lib/python3.10/site-packages/sklearn/feature_selection/_univariate_selection.py:113: RuntimeWarning: invalid value encountered in divide\n",
      "  f = msb / msw\n"
     ]
    },
    {
     "name": "stdout",
     "output_type": "stream",
     "text": [
      "\n"
     ]
    },
    {
     "name": "stderr",
     "output_type": "stream",
     "text": [
      "/opt/anaconda3/envs/ma4/lib/python3.10/site-packages/sklearn/feature_selection/_univariate_selection.py:112: UserWarning: Features [ 8 11] are constant.\n",
      "  warnings.warn(\"Features %s are constant.\" % constant_features_idx, UserWarning)\n",
      "/opt/anaconda3/envs/ma4/lib/python3.10/site-packages/sklearn/feature_selection/_univariate_selection.py:113: RuntimeWarning: invalid value encountered in divide\n",
      "  f = msb / msw\n"
     ]
    },
    {
     "name": "stdout",
     "output_type": "stream",
     "text": [
      "\n"
     ]
    },
    {
     "name": "stderr",
     "output_type": "stream",
     "text": [
      "/opt/anaconda3/envs/ma4/lib/python3.10/site-packages/sklearn/feature_selection/_univariate_selection.py:112: UserWarning: Features [ 7  8  9 10 11] are constant.\n",
      "  warnings.warn(\"Features %s are constant.\" % constant_features_idx, UserWarning)\n",
      "/opt/anaconda3/envs/ma4/lib/python3.10/site-packages/sklearn/feature_selection/_univariate_selection.py:113: RuntimeWarning: invalid value encountered in divide\n",
      "  f = msb / msw\n"
     ]
    },
    {
     "name": "stdout",
     "output_type": "stream",
     "text": [
      "\n"
     ]
    },
    {
     "name": "stderr",
     "output_type": "stream",
     "text": [
      "/opt/anaconda3/envs/ma4/lib/python3.10/site-packages/sklearn/feature_selection/_univariate_selection.py:112: UserWarning: Features [ 7  8  9 10 11] are constant.\n",
      "  warnings.warn(\"Features %s are constant.\" % constant_features_idx, UserWarning)\n",
      "/opt/anaconda3/envs/ma4/lib/python3.10/site-packages/sklearn/feature_selection/_univariate_selection.py:113: RuntimeWarning: invalid value encountered in divide\n",
      "  f = msb / msw\n"
     ]
    },
    {
     "name": "stdout",
     "output_type": "stream",
     "text": [
      "\n"
     ]
    },
    {
     "name": "stderr",
     "output_type": "stream",
     "text": [
      "/opt/anaconda3/envs/ma4/lib/python3.10/site-packages/sklearn/feature_selection/_univariate_selection.py:112: UserWarning: Features [ 9 11] are constant.\n",
      "  warnings.warn(\"Features %s are constant.\" % constant_features_idx, UserWarning)\n",
      "/opt/anaconda3/envs/ma4/lib/python3.10/site-packages/sklearn/feature_selection/_univariate_selection.py:113: RuntimeWarning: invalid value encountered in divide\n",
      "  f = msb / msw\n"
     ]
    },
    {
     "name": "stdout",
     "output_type": "stream",
     "text": [
      "\n"
     ]
    },
    {
     "name": "stderr",
     "output_type": "stream",
     "text": [
      "/opt/anaconda3/envs/ma4/lib/python3.10/site-packages/sklearn/feature_selection/_univariate_selection.py:112: UserWarning: Features [ 7  8 11] are constant.\n",
      "  warnings.warn(\"Features %s are constant.\" % constant_features_idx, UserWarning)\n",
      "/opt/anaconda3/envs/ma4/lib/python3.10/site-packages/sklearn/feature_selection/_univariate_selection.py:113: RuntimeWarning: invalid value encountered in divide\n",
      "  f = msb / msw\n"
     ]
    },
    {
     "name": "stdout",
     "output_type": "stream",
     "text": [
      "\n"
     ]
    },
    {
     "name": "stderr",
     "output_type": "stream",
     "text": [
      "/opt/anaconda3/envs/ma4/lib/python3.10/site-packages/sklearn/feature_selection/_univariate_selection.py:112: UserWarning: Features [ 8  9 11] are constant.\n",
      "  warnings.warn(\"Features %s are constant.\" % constant_features_idx, UserWarning)\n",
      "/opt/anaconda3/envs/ma4/lib/python3.10/site-packages/sklearn/feature_selection/_univariate_selection.py:113: RuntimeWarning: invalid value encountered in divide\n",
      "  f = msb / msw\n"
     ]
    },
    {
     "name": "stdout",
     "output_type": "stream",
     "text": [
      "\n"
     ]
    },
    {
     "name": "stderr",
     "output_type": "stream",
     "text": [
      "/opt/anaconda3/envs/ma4/lib/python3.10/site-packages/sklearn/feature_selection/_univariate_selection.py:112: UserWarning: Features [ 7  8  9 10 11] are constant.\n",
      "  warnings.warn(\"Features %s are constant.\" % constant_features_idx, UserWarning)\n",
      "/opt/anaconda3/envs/ma4/lib/python3.10/site-packages/sklearn/feature_selection/_univariate_selection.py:113: RuntimeWarning: invalid value encountered in divide\n",
      "  f = msb / msw\n"
     ]
    },
    {
     "name": "stdout",
     "output_type": "stream",
     "text": [
      "\n"
     ]
    },
    {
     "name": "stderr",
     "output_type": "stream",
     "text": [
      "/opt/anaconda3/envs/ma4/lib/python3.10/site-packages/sklearn/feature_selection/_univariate_selection.py:112: UserWarning: Features [8] are constant.\n",
      "  warnings.warn(\"Features %s are constant.\" % constant_features_idx, UserWarning)\n",
      "/opt/anaconda3/envs/ma4/lib/python3.10/site-packages/sklearn/feature_selection/_univariate_selection.py:113: RuntimeWarning: invalid value encountered in divide\n",
      "  f = msb / msw\n"
     ]
    },
    {
     "name": "stdout",
     "output_type": "stream",
     "text": [
      "\n"
     ]
    },
    {
     "name": "stderr",
     "output_type": "stream",
     "text": [
      "/opt/anaconda3/envs/ma4/lib/python3.10/site-packages/sklearn/feature_selection/_univariate_selection.py:112: UserWarning: Features [7] are constant.\n",
      "  warnings.warn(\"Features %s are constant.\" % constant_features_idx, UserWarning)\n",
      "/opt/anaconda3/envs/ma4/lib/python3.10/site-packages/sklearn/feature_selection/_univariate_selection.py:113: RuntimeWarning: invalid value encountered in divide\n",
      "  f = msb / msw\n"
     ]
    },
    {
     "name": "stdout",
     "output_type": "stream",
     "text": [
      "\n"
     ]
    },
    {
     "name": "stderr",
     "output_type": "stream",
     "text": [
      "/opt/anaconda3/envs/ma4/lib/python3.10/site-packages/sklearn/feature_selection/_univariate_selection.py:112: UserWarning: Features [ 7  9 11] are constant.\n",
      "  warnings.warn(\"Features %s are constant.\" % constant_features_idx, UserWarning)\n",
      "/opt/anaconda3/envs/ma4/lib/python3.10/site-packages/sklearn/feature_selection/_univariate_selection.py:113: RuntimeWarning: invalid value encountered in divide\n",
      "  f = msb / msw\n"
     ]
    },
    {
     "name": "stdout",
     "output_type": "stream",
     "text": [
      "\n"
     ]
    },
    {
     "name": "stderr",
     "output_type": "stream",
     "text": [
      "/opt/anaconda3/envs/ma4/lib/python3.10/site-packages/sklearn/feature_selection/_univariate_selection.py:112: UserWarning: Features [ 7  8  9 10 11] are constant.\n",
      "  warnings.warn(\"Features %s are constant.\" % constant_features_idx, UserWarning)\n",
      "/opt/anaconda3/envs/ma4/lib/python3.10/site-packages/sklearn/feature_selection/_univariate_selection.py:113: RuntimeWarning: invalid value encountered in divide\n",
      "  f = msb / msw\n"
     ]
    },
    {
     "name": "stdout",
     "output_type": "stream",
     "text": [
      "\n"
     ]
    },
    {
     "name": "stderr",
     "output_type": "stream",
     "text": [
      "/opt/anaconda3/envs/ma4/lib/python3.10/site-packages/sklearn/feature_selection/_univariate_selection.py:112: UserWarning: Features [7 8] are constant.\n",
      "  warnings.warn(\"Features %s are constant.\" % constant_features_idx, UserWarning)\n",
      "/opt/anaconda3/envs/ma4/lib/python3.10/site-packages/sklearn/feature_selection/_univariate_selection.py:113: RuntimeWarning: invalid value encountered in divide\n",
      "  f = msb / msw\n"
     ]
    },
    {
     "name": "stdout",
     "output_type": "stream",
     "text": [
      "\n"
     ]
    },
    {
     "name": "stderr",
     "output_type": "stream",
     "text": [
      "/opt/anaconda3/envs/ma4/lib/python3.10/site-packages/sklearn/feature_selection/_univariate_selection.py:112: UserWarning: Features [8 9] are constant.\n",
      "  warnings.warn(\"Features %s are constant.\" % constant_features_idx, UserWarning)\n",
      "/opt/anaconda3/envs/ma4/lib/python3.10/site-packages/sklearn/feature_selection/_univariate_selection.py:113: RuntimeWarning: invalid value encountered in divide\n",
      "  f = msb / msw\n"
     ]
    },
    {
     "name": "stdout",
     "output_type": "stream",
     "text": [
      "\n"
     ]
    },
    {
     "name": "stderr",
     "output_type": "stream",
     "text": [
      "/opt/anaconda3/envs/ma4/lib/python3.10/site-packages/sklearn/feature_selection/_univariate_selection.py:112: UserWarning: Features [8 9] are constant.\n",
      "  warnings.warn(\"Features %s are constant.\" % constant_features_idx, UserWarning)\n",
      "/opt/anaconda3/envs/ma4/lib/python3.10/site-packages/sklearn/feature_selection/_univariate_selection.py:113: RuntimeWarning: invalid value encountered in divide\n",
      "  f = msb / msw\n"
     ]
    },
    {
     "name": "stdout",
     "output_type": "stream",
     "text": [
      "\n"
     ]
    },
    {
     "name": "stderr",
     "output_type": "stream",
     "text": [
      "/opt/anaconda3/envs/ma4/lib/python3.10/site-packages/sklearn/feature_selection/_univariate_selection.py:112: UserWarning: Features [ 8  9 11] are constant.\n",
      "  warnings.warn(\"Features %s are constant.\" % constant_features_idx, UserWarning)\n",
      "/opt/anaconda3/envs/ma4/lib/python3.10/site-packages/sklearn/feature_selection/_univariate_selection.py:113: RuntimeWarning: invalid value encountered in divide\n",
      "  f = msb / msw\n"
     ]
    },
    {
     "name": "stdout",
     "output_type": "stream",
     "text": [
      "\n"
     ]
    },
    {
     "name": "stderr",
     "output_type": "stream",
     "text": [
      "/opt/anaconda3/envs/ma4/lib/python3.10/site-packages/sklearn/feature_selection/_univariate_selection.py:112: UserWarning: Features [ 7  8  9 10 11] are constant.\n",
      "  warnings.warn(\"Features %s are constant.\" % constant_features_idx, UserWarning)\n",
      "/opt/anaconda3/envs/ma4/lib/python3.10/site-packages/sklearn/feature_selection/_univariate_selection.py:113: RuntimeWarning: invalid value encountered in divide\n",
      "  f = msb / msw\n"
     ]
    },
    {
     "name": "stdout",
     "output_type": "stream",
     "text": [
      "\n"
     ]
    },
    {
     "name": "stderr",
     "output_type": "stream",
     "text": [
      "/opt/anaconda3/envs/ma4/lib/python3.10/site-packages/sklearn/feature_selection/_univariate_selection.py:112: UserWarning: Features [9] are constant.\n",
      "  warnings.warn(\"Features %s are constant.\" % constant_features_idx, UserWarning)\n",
      "/opt/anaconda3/envs/ma4/lib/python3.10/site-packages/sklearn/feature_selection/_univariate_selection.py:113: RuntimeWarning: invalid value encountered in divide\n",
      "  f = msb / msw\n"
     ]
    },
    {
     "name": "stdout",
     "output_type": "stream",
     "text": [
      "\n",
      "\n"
     ]
    },
    {
     "name": "stderr",
     "output_type": "stream",
     "text": [
      "/opt/anaconda3/envs/ma4/lib/python3.10/site-packages/sklearn/feature_selection/_univariate_selection.py:112: UserWarning: Features [11] are constant.\n",
      "  warnings.warn(\"Features %s are constant.\" % constant_features_idx, UserWarning)\n",
      "/opt/anaconda3/envs/ma4/lib/python3.10/site-packages/sklearn/feature_selection/_univariate_selection.py:113: RuntimeWarning: invalid value encountered in divide\n",
      "  f = msb / msw\n"
     ]
    },
    {
     "name": "stdout",
     "output_type": "stream",
     "text": [
      "\n"
     ]
    }
   ],
   "source": [
    "cities_loop(\"data\",p=5.0, q=0.1, num_walks=100,dim=256)"
   ]
  },
  {
   "cell_type": "code",
   "execution_count": 7,
   "metadata": {},
   "outputs": [
    {
     "name": "stdout",
     "output_type": "stream",
     "text": [
      "starting training for turku with p=0.1 and q=0.1\n",
      "starting training for detroit with p=0.1 and q=0.1\n",
      "starting training for paris with p=0.1 and q=0.1\n",
      "starting training for adelaide with p=0.1 and q=0.1\n",
      "starting training for turku with p=0.1 and q=0.5\n",
      "starting training for detroit with p=0.1 and q=0.5\n",
      "starting training for paris with p=0.1 and q=0.5\n",
      "starting training for adelaide with p=0.1 and q=0.5\n",
      "starting training for turku with p=0.1 and q=1.0\n",
      "starting training for detroit with p=0.1 and q=1.0\n",
      "starting training for paris with p=0.1 and q=1.0\n",
      "starting training for adelaide with p=0.1 and q=1.0\n",
      "starting training for turku with p=0.1 and q=2.0\n",
      "starting training for detroit with p=0.1 and q=2.0\n",
      "starting training for paris with p=0.1 and q=2.0\n",
      "starting training for adelaide with p=0.1 and q=2.0\n",
      "starting training for turku with p=0.1 and q=5.0\n",
      "starting training for detroit with p=0.1 and q=5.0\n",
      "starting training for paris with p=0.1 and q=5.0\n",
      "starting training for adelaide with p=0.1 and q=5.0\n",
      "starting training for turku with p=1.0 and q=0.1\n",
      "starting training for detroit with p=1.0 and q=0.1\n",
      "starting training for paris with p=1.0 and q=0.1\n",
      "starting training for adelaide with p=1.0 and q=0.1\n",
      "starting training for turku with p=1.0 and q=0.5\n",
      "starting training for detroit with p=1.0 and q=0.5\n",
      "starting training for paris with p=1.0 and q=0.5\n",
      "starting training for adelaide with p=1.0 and q=0.5\n",
      "starting training for turku with p=1.0 and q=1.0\n",
      "starting training for detroit with p=1.0 and q=1.0\n",
      "starting training for paris with p=1.0 and q=1.0\n",
      "starting training for adelaide with p=1.0 and q=1.0\n",
      "starting training for turku with p=1.0 and q=2.0\n",
      "starting training for detroit with p=1.0 and q=2.0\n",
      "starting training for paris with p=1.0 and q=2.0\n",
      "starting training for adelaide with p=1.0 and q=2.0\n",
      "starting training for turku with p=1.0 and q=5.0\n",
      "starting training for detroit with p=1.0 and q=5.0\n",
      "starting training for paris with p=1.0 and q=5.0\n",
      "starting training for adelaide with p=1.0 and q=5.0\n",
      "starting training for turku with p=5.0 and q=0.1\n",
      "starting training for detroit with p=5.0 and q=0.1\n",
      "starting training for paris with p=5.0 and q=0.1\n",
      "starting training for adelaide with p=5.0 and q=0.1\n",
      "starting training for turku with p=5.0 and q=0.5\n",
      "starting training for detroit with p=5.0 and q=0.5\n",
      "starting training for paris with p=5.0 and q=0.5\n",
      "starting training for adelaide with p=5.0 and q=0.5\n",
      "starting training for turku with p=5.0 and q=1.0\n",
      "starting training for detroit with p=5.0 and q=1.0\n",
      "starting training for paris with p=5.0 and q=1.0\n",
      "starting training for adelaide with p=5.0 and q=1.0\n",
      "starting training for turku with p=5.0 and q=2.0\n",
      "starting training for detroit with p=5.0 and q=2.0\n",
      "starting training for paris with p=5.0 and q=2.0\n",
      "starting training for adelaide with p=5.0 and q=2.0\n",
      "starting training for turku with p=5.0 and q=5.0\n",
      "starting training for detroit with p=5.0 and q=5.0\n",
      "starting training for paris with p=5.0 and q=5.0\n",
      "starting training for adelaide with p=5.0 and q=5.0\n",
      "best parameters with p=5.0 and q=0.1 and f1 0.4916539654532579\n"
     ]
    }
   ],
   "source": [
    "\n",
    "best_p = -1\n",
    "best_q = -1\n",
    "best_score = -1\n",
    "attempts = []\n",
    "for p in [0.1, 1.0, 5.0]:\n",
    "    for q in [0.1, 0.5, 1.0, 2.0, 5.0]:\n",
    "        f1_train = []\n",
    "        f1_val = []\n",
    "        for city in [\"turku\",\"detroit\",\"paris\",\"adelaide\"]:\n",
    "            print(f\"starting training for {city} with p={p} and q={q}\")\n",
    "            city_name = city\n",
    "            data_dir = 'data'\n",
    "            graph, _ = utils.create_city_graph(city_name, data_dir)\n",
    "            graph = nx.DiGraph(graph)\n",
    "\n",
    "            mapping = {k: i for i, k in enumerate(sorted(graph.nodes()))}\n",
    "            graph = nx.relabel_nodes(graph, mapping)\n",
    "\n",
    "            path_edg_file = os.path.join(data_dir, city_name, 'adj_mat.edg')\n",
    "            nx.write_edgelist(graph, path_edg_file, data=False, delimiter='\\t')\n",
    "            g = pp.SparseOTF(p=p, q=q, verbose=False, workers=16)\n",
    "            g.read_edg(path_edg_file, weighted=False, directed=True)\n",
    "\n",
    "            embeddings = g.embed(dim=256, num_walks=100)\n",
    "\n",
    "            targets = dict(graph.nodes(data='city_center'))\n",
    "            targets = np.array([targets[v] for v in range(len(targets))])\n",
    "            X_train, X_test, y_train, y_test = train_test_split(embeddings, targets, test_size=0.2, stratify=targets,random_state=42)\n",
    "            X_train, X_val, y_train, y_val = train_test_split(X_train,y_train,test_size=0.15,stratify=y_train,random_state=42)\n",
    "            model = SVC(class_weight='balanced', C=1)\n",
    "            model.fit(X_train, y_train)\n",
    "\n",
    "            train_preds = model.predict(X_train)\n",
    "            train_rep = classification_report(y_train, train_preds,output_dict=True)\n",
    "            val_preds = model.predict(X_val)\n",
    "            val_rep = classification_report(y_val, val_preds,output_dict=True)\n",
    "\n",
    "            f1_train.append(train_rep[\"1\"][\"f1-score\"])\n",
    "            f1_val.append(val_rep[\"1\"][\"f1-score\"])\n",
    "           \n",
    "        avg_f1_train = np.mean(f1_train)\n",
    "        avg_f1_val = np.mean(f1_val)\n",
    "        attempts.append({\"p\":p,\"q\":q,\"score_train\":avg_f1_train,\"score_val\":avg_f1_val})\n",
    "\n",
    "        if avg_f1_val  > best_score:\n",
    "            best_score = avg_f1_val\n",
    "            best_p = p\n",
    "            best_q = q\n",
    "print(f\"best parameters with p={best_p} and q={best_q} and f1 {best_score}\")\n"
   ]
  },
  {
   "cell_type": "code",
   "execution_count": 72,
   "metadata": {},
   "outputs": [
    {
     "name": "stdout",
     "output_type": "stream",
     "text": [
      "starting training for turku with model_name=gat, head=2, nb_conv=3, out_channels=8\n",
      "starting training for detroit with model_name=gat, head=2, nb_conv=3, out_channels=8\n",
      "starting training for paris with model_name=gat, head=2, nb_conv=3, out_channels=8\n",
      "starting training for adelaide with model_name=gat, head=2, nb_conv=3, out_channels=8\n",
      "starting training for turku with model_name=gat, head=2, nb_conv=3, out_channels=16\n",
      "starting training for detroit with model_name=gat, head=2, nb_conv=3, out_channels=16\n",
      "starting training for paris with model_name=gat, head=2, nb_conv=3, out_channels=16\n",
      "starting training for adelaide with model_name=gat, head=2, nb_conv=3, out_channels=16\n",
      "starting training for turku with model_name=gat, head=2, nb_conv=3, out_channels=32\n",
      "starting training for detroit with model_name=gat, head=2, nb_conv=3, out_channels=32\n",
      "starting training for paris with model_name=gat, head=2, nb_conv=3, out_channels=32\n",
      "starting training for adelaide with model_name=gat, head=2, nb_conv=3, out_channels=32\n",
      "starting training for turku with model_name=gat, head=2, nb_conv=5, out_channels=8\n",
      "starting training for detroit with model_name=gat, head=2, nb_conv=5, out_channels=8\n",
      "starting training for paris with model_name=gat, head=2, nb_conv=5, out_channels=8\n",
      "starting training for adelaide with model_name=gat, head=2, nb_conv=5, out_channels=8\n",
      "starting training for turku with model_name=gat, head=2, nb_conv=5, out_channels=16\n",
      "starting training for detroit with model_name=gat, head=2, nb_conv=5, out_channels=16\n",
      "starting training for paris with model_name=gat, head=2, nb_conv=5, out_channels=16\n",
      "starting training for adelaide with model_name=gat, head=2, nb_conv=5, out_channels=16\n",
      "starting training for turku with model_name=gat, head=2, nb_conv=5, out_channels=32\n",
      "starting training for detroit with model_name=gat, head=2, nb_conv=5, out_channels=32\n",
      "starting training for paris with model_name=gat, head=2, nb_conv=5, out_channels=32\n",
      "starting training for adelaide with model_name=gat, head=2, nb_conv=5, out_channels=32\n",
      "starting training for turku with model_name=gat, head=4, nb_conv=3, out_channels=8\n",
      "starting training for detroit with model_name=gat, head=4, nb_conv=3, out_channels=8\n",
      "starting training for paris with model_name=gat, head=4, nb_conv=3, out_channels=8\n",
      "starting training for adelaide with model_name=gat, head=4, nb_conv=3, out_channels=8\n",
      "starting training for turku with model_name=gat, head=4, nb_conv=3, out_channels=16\n",
      "starting training for detroit with model_name=gat, head=4, nb_conv=3, out_channels=16\n",
      "starting training for paris with model_name=gat, head=4, nb_conv=3, out_channels=16\n",
      "starting training for adelaide with model_name=gat, head=4, nb_conv=3, out_channels=16\n",
      "starting training for turku with model_name=gat, head=4, nb_conv=3, out_channels=32\n",
      "starting training for detroit with model_name=gat, head=4, nb_conv=3, out_channels=32\n",
      "starting training for paris with model_name=gat, head=4, nb_conv=3, out_channels=32\n",
      "starting training for adelaide with model_name=gat, head=4, nb_conv=3, out_channels=32\n",
      "starting training for turku with model_name=gat, head=4, nb_conv=5, out_channels=8\n",
      "starting training for detroit with model_name=gat, head=4, nb_conv=5, out_channels=8\n",
      "starting training for paris with model_name=gat, head=4, nb_conv=5, out_channels=8\n",
      "starting training for adelaide with model_name=gat, head=4, nb_conv=5, out_channels=8\n"
     ]
    },
    {
     "name": "stderr",
     "output_type": "stream",
     "text": [
      "/home/cpittet/anaconda3/envs/ma4/lib/python3.10/site-packages/sklearn/metrics/_classification.py:1344: UndefinedMetricWarning: Precision and F-score are ill-defined and being set to 0.0 in labels with no predicted samples. Use `zero_division` parameter to control this behavior.\n",
      "  _warn_prf(average, modifier, msg_start, len(result))\n",
      "/home/cpittet/anaconda3/envs/ma4/lib/python3.10/site-packages/sklearn/metrics/_classification.py:1344: UndefinedMetricWarning: Precision and F-score are ill-defined and being set to 0.0 in labels with no predicted samples. Use `zero_division` parameter to control this behavior.\n",
      "  _warn_prf(average, modifier, msg_start, len(result))\n",
      "/home/cpittet/anaconda3/envs/ma4/lib/python3.10/site-packages/sklearn/metrics/_classification.py:1344: UndefinedMetricWarning: Precision and F-score are ill-defined and being set to 0.0 in labels with no predicted samples. Use `zero_division` parameter to control this behavior.\n",
      "  _warn_prf(average, modifier, msg_start, len(result))\n"
     ]
    },
    {
     "name": "stdout",
     "output_type": "stream",
     "text": [
      "starting training for turku with model_name=gat, head=4, nb_conv=5, out_channels=16\n",
      "starting training for detroit with model_name=gat, head=4, nb_conv=5, out_channels=16\n",
      "starting training for paris with model_name=gat, head=4, nb_conv=5, out_channels=16\n",
      "starting training for adelaide with model_name=gat, head=4, nb_conv=5, out_channels=16\n",
      "starting training for turku with model_name=gat, head=4, nb_conv=5, out_channels=32\n"
     ]
    },
    {
     "name": "stderr",
     "output_type": "stream",
     "text": [
      "/home/cpittet/anaconda3/envs/ma4/lib/python3.10/site-packages/sklearn/metrics/_classification.py:1344: UndefinedMetricWarning: Precision is ill-defined and being set to 0.0 due to no predicted samples. Use `zero_division` parameter to control this behavior.\n",
      "  _warn_prf(average, modifier, msg_start, len(result))\n",
      "/home/cpittet/anaconda3/envs/ma4/lib/python3.10/site-packages/sklearn/metrics/_classification.py:1344: UndefinedMetricWarning: Precision is ill-defined and being set to 0.0 due to no predicted samples. Use `zero_division` parameter to control this behavior.\n",
      "  _warn_prf(average, modifier, msg_start, len(result))\n"
     ]
    },
    {
     "name": "stdout",
     "output_type": "stream",
     "text": [
      "starting training for detroit with model_name=gat, head=4, nb_conv=5, out_channels=32\n",
      "starting training for paris with model_name=gat, head=4, nb_conv=5, out_channels=32\n",
      "starting training for adelaide with model_name=gat, head=4, nb_conv=5, out_channels=32\n",
      "starting training for turku with model_name=gat, head=8, nb_conv=3, out_channels=8\n",
      "starting training for detroit with model_name=gat, head=8, nb_conv=3, out_channels=8\n",
      "starting training for paris with model_name=gat, head=8, nb_conv=3, out_channels=8\n",
      "starting training for adelaide with model_name=gat, head=8, nb_conv=3, out_channels=8\n",
      "starting training for turku with model_name=gat, head=8, nb_conv=3, out_channels=16\n",
      "starting training for detroit with model_name=gat, head=8, nb_conv=3, out_channels=16\n",
      "starting training for paris with model_name=gat, head=8, nb_conv=3, out_channels=16\n",
      "starting training for adelaide with model_name=gat, head=8, nb_conv=3, out_channels=16\n",
      "starting training for turku with model_name=gat, head=8, nb_conv=3, out_channels=32\n"
     ]
    },
    {
     "name": "stderr",
     "output_type": "stream",
     "text": [
      "/home/cpittet/anaconda3/envs/ma4/lib/python3.10/site-packages/sklearn/metrics/_classification.py:1344: UndefinedMetricWarning: Precision is ill-defined and being set to 0.0 due to no predicted samples. Use `zero_division` parameter to control this behavior.\n",
      "  _warn_prf(average, modifier, msg_start, len(result))\n",
      "/home/cpittet/anaconda3/envs/ma4/lib/python3.10/site-packages/sklearn/metrics/_classification.py:1344: UndefinedMetricWarning: Precision is ill-defined and being set to 0.0 due to no predicted samples. Use `zero_division` parameter to control this behavior.\n",
      "  _warn_prf(average, modifier, msg_start, len(result))\n",
      "/home/cpittet/anaconda3/envs/ma4/lib/python3.10/site-packages/sklearn/metrics/_classification.py:1344: UndefinedMetricWarning: Precision is ill-defined and being set to 0.0 due to no predicted samples. Use `zero_division` parameter to control this behavior.\n",
      "  _warn_prf(average, modifier, msg_start, len(result))\n",
      "/home/cpittet/anaconda3/envs/ma4/lib/python3.10/site-packages/sklearn/metrics/_classification.py:1344: UndefinedMetricWarning: Precision is ill-defined and being set to 0.0 due to no predicted samples. Use `zero_division` parameter to control this behavior.\n",
      "  _warn_prf(average, modifier, msg_start, len(result))\n",
      "/home/cpittet/anaconda3/envs/ma4/lib/python3.10/site-packages/sklearn/metrics/_classification.py:1344: UndefinedMetricWarning: Precision is ill-defined and being set to 0.0 due to no predicted samples. Use `zero_division` parameter to control this behavior.\n",
      "  _warn_prf(average, modifier, msg_start, len(result))\n"
     ]
    },
    {
     "name": "stdout",
     "output_type": "stream",
     "text": [
      "starting training for detroit with model_name=gat, head=8, nb_conv=3, out_channels=32\n"
     ]
    },
    {
     "name": "stderr",
     "output_type": "stream",
     "text": [
      "/home/cpittet/anaconda3/envs/ma4/lib/python3.10/site-packages/sklearn/metrics/_classification.py:1344: UndefinedMetricWarning: Precision is ill-defined and being set to 0.0 due to no predicted samples. Use `zero_division` parameter to control this behavior.\n",
      "  _warn_prf(average, modifier, msg_start, len(result))\n",
      "/home/cpittet/anaconda3/envs/ma4/lib/python3.10/site-packages/sklearn/metrics/_classification.py:1344: UndefinedMetricWarning: Precision is ill-defined and being set to 0.0 due to no predicted samples. Use `zero_division` parameter to control this behavior.\n",
      "  _warn_prf(average, modifier, msg_start, len(result))\n",
      "/home/cpittet/anaconda3/envs/ma4/lib/python3.10/site-packages/sklearn/metrics/_classification.py:1344: UndefinedMetricWarning: Precision is ill-defined and being set to 0.0 due to no predicted samples. Use `zero_division` parameter to control this behavior.\n",
      "  _warn_prf(average, modifier, msg_start, len(result))\n"
     ]
    },
    {
     "name": "stdout",
     "output_type": "stream",
     "text": [
      "starting training for paris with model_name=gat, head=8, nb_conv=3, out_channels=32\n"
     ]
    },
    {
     "name": "stderr",
     "output_type": "stream",
     "text": [
      "/home/cpittet/anaconda3/envs/ma4/lib/python3.10/site-packages/sklearn/metrics/_classification.py:1344: UndefinedMetricWarning: Precision is ill-defined and being set to 0.0 due to no predicted samples. Use `zero_division` parameter to control this behavior.\n",
      "  _warn_prf(average, modifier, msg_start, len(result))\n",
      "/home/cpittet/anaconda3/envs/ma4/lib/python3.10/site-packages/sklearn/metrics/_classification.py:1344: UndefinedMetricWarning: Precision is ill-defined and being set to 0.0 due to no predicted samples. Use `zero_division` parameter to control this behavior.\n",
      "  _warn_prf(average, modifier, msg_start, len(result))\n",
      "/home/cpittet/anaconda3/envs/ma4/lib/python3.10/site-packages/sklearn/metrics/_classification.py:1344: UndefinedMetricWarning: Precision is ill-defined and being set to 0.0 due to no predicted samples. Use `zero_division` parameter to control this behavior.\n",
      "  _warn_prf(average, modifier, msg_start, len(result))\n"
     ]
    },
    {
     "name": "stdout",
     "output_type": "stream",
     "text": [
      "starting training for adelaide with model_name=gat, head=8, nb_conv=3, out_channels=32\n"
     ]
    },
    {
     "name": "stderr",
     "output_type": "stream",
     "text": [
      "/home/cpittet/anaconda3/envs/ma4/lib/python3.10/site-packages/sklearn/metrics/_classification.py:1344: UndefinedMetricWarning: Precision is ill-defined and being set to 0.0 due to no predicted samples. Use `zero_division` parameter to control this behavior.\n",
      "  _warn_prf(average, modifier, msg_start, len(result))\n",
      "/home/cpittet/anaconda3/envs/ma4/lib/python3.10/site-packages/sklearn/metrics/_classification.py:1344: UndefinedMetricWarning: Precision is ill-defined and being set to 0.0 due to no predicted samples. Use `zero_division` parameter to control this behavior.\n",
      "  _warn_prf(average, modifier, msg_start, len(result))\n"
     ]
    },
    {
     "name": "stdout",
     "output_type": "stream",
     "text": [
      "starting training for turku with model_name=gat, head=8, nb_conv=5, out_channels=8\n",
      "starting training for detroit with model_name=gat, head=8, nb_conv=5, out_channels=8\n",
      "starting training for paris with model_name=gat, head=8, nb_conv=5, out_channels=8\n",
      "starting training for adelaide with model_name=gat, head=8, nb_conv=5, out_channels=8\n",
      "starting training for turku with model_name=gat, head=8, nb_conv=5, out_channels=16\n"
     ]
    },
    {
     "name": "stderr",
     "output_type": "stream",
     "text": [
      "/home/cpittet/anaconda3/envs/ma4/lib/python3.10/site-packages/sklearn/metrics/_classification.py:1344: UndefinedMetricWarning: Precision is ill-defined and being set to 0.0 due to no predicted samples. Use `zero_division` parameter to control this behavior.\n",
      "  _warn_prf(average, modifier, msg_start, len(result))\n"
     ]
    },
    {
     "name": "stdout",
     "output_type": "stream",
     "text": [
      "starting training for detroit with model_name=gat, head=8, nb_conv=5, out_channels=16\n",
      "starting training for paris with model_name=gat, head=8, nb_conv=5, out_channels=16\n",
      "starting training for adelaide with model_name=gat, head=8, nb_conv=5, out_channels=16\n",
      "starting training for turku with model_name=gat, head=8, nb_conv=5, out_channels=32\n"
     ]
    },
    {
     "name": "stderr",
     "output_type": "stream",
     "text": [
      "/home/cpittet/anaconda3/envs/ma4/lib/python3.10/site-packages/sklearn/metrics/_classification.py:1344: UndefinedMetricWarning: Precision is ill-defined and being set to 0.0 due to no predicted samples. Use `zero_division` parameter to control this behavior.\n",
      "  _warn_prf(average, modifier, msg_start, len(result))\n"
     ]
    },
    {
     "name": "stdout",
     "output_type": "stream",
     "text": [
      "starting training for detroit with model_name=gat, head=8, nb_conv=5, out_channels=32\n",
      "starting training for paris with model_name=gat, head=8, nb_conv=5, out_channels=32\n",
      "starting training for adelaide with model_name=gat, head=8, nb_conv=5, out_channels=32\n",
      "best parameters with model_name=gat, head=8, nb_conv=5, out_channels=32\n",
      "starting training for turku with model_name=gnn, head=0, nb_conv=3, out_channels=16\n",
      "starting training for detroit with model_name=gnn, head=0, nb_conv=3, out_channels=16\n",
      "starting training for paris with model_name=gnn, head=0, nb_conv=3, out_channels=16\n",
      "starting training for adelaide with model_name=gnn, head=0, nb_conv=3, out_channels=16\n",
      "starting training for turku with model_name=gnn, head=0, nb_conv=3, out_channels=32\n",
      "starting training for detroit with model_name=gnn, head=0, nb_conv=3, out_channels=32\n",
      "starting training for paris with model_name=gnn, head=0, nb_conv=3, out_channels=32\n",
      "starting training for adelaide with model_name=gnn, head=0, nb_conv=3, out_channels=32\n",
      "starting training for turku with model_name=gnn, head=0, nb_conv=3, out_channels=64\n",
      "starting training for detroit with model_name=gnn, head=0, nb_conv=3, out_channels=64\n",
      "starting training for paris with model_name=gnn, head=0, nb_conv=3, out_channels=64\n",
      "starting training for adelaide with model_name=gnn, head=0, nb_conv=3, out_channels=64\n",
      "starting training for turku with model_name=gnn, head=0, nb_conv=3, out_channels=128\n"
     ]
    },
    {
     "name": "stderr",
     "output_type": "stream",
     "text": [
      "/home/cpittet/anaconda3/envs/ma4/lib/python3.10/site-packages/sklearn/metrics/_classification.py:1344: UndefinedMetricWarning: Precision is ill-defined and being set to 0.0 due to no predicted samples. Use `zero_division` parameter to control this behavior.\n",
      "  _warn_prf(average, modifier, msg_start, len(result))\n",
      "/home/cpittet/anaconda3/envs/ma4/lib/python3.10/site-packages/sklearn/metrics/_classification.py:1344: UndefinedMetricWarning: Precision is ill-defined and being set to 0.0 due to no predicted samples. Use `zero_division` parameter to control this behavior.\n",
      "  _warn_prf(average, modifier, msg_start, len(result))\n"
     ]
    },
    {
     "name": "stdout",
     "output_type": "stream",
     "text": [
      "starting training for detroit with model_name=gnn, head=0, nb_conv=3, out_channels=128\n"
     ]
    },
    {
     "name": "stderr",
     "output_type": "stream",
     "text": [
      "/home/cpittet/anaconda3/envs/ma4/lib/python3.10/site-packages/sklearn/metrics/_classification.py:1344: UndefinedMetricWarning: Precision is ill-defined and being set to 0.0 due to no predicted samples. Use `zero_division` parameter to control this behavior.\n",
      "  _warn_prf(average, modifier, msg_start, len(result))\n",
      "/home/cpittet/anaconda3/envs/ma4/lib/python3.10/site-packages/sklearn/metrics/_classification.py:1344: UndefinedMetricWarning: Precision is ill-defined and being set to 0.0 due to no predicted samples. Use `zero_division` parameter to control this behavior.\n",
      "  _warn_prf(average, modifier, msg_start, len(result))\n"
     ]
    },
    {
     "name": "stdout",
     "output_type": "stream",
     "text": [
      "starting training for paris with model_name=gnn, head=0, nb_conv=3, out_channels=128\n"
     ]
    },
    {
     "name": "stderr",
     "output_type": "stream",
     "text": [
      "/home/cpittet/anaconda3/envs/ma4/lib/python3.10/site-packages/sklearn/metrics/_classification.py:1344: UndefinedMetricWarning: Precision is ill-defined and being set to 0.0 due to no predicted samples. Use `zero_division` parameter to control this behavior.\n",
      "  _warn_prf(average, modifier, msg_start, len(result))\n",
      "/home/cpittet/anaconda3/envs/ma4/lib/python3.10/site-packages/sklearn/metrics/_classification.py:1344: UndefinedMetricWarning: Precision is ill-defined and being set to 0.0 due to no predicted samples. Use `zero_division` parameter to control this behavior.\n",
      "  _warn_prf(average, modifier, msg_start, len(result))\n"
     ]
    },
    {
     "name": "stdout",
     "output_type": "stream",
     "text": [
      "starting training for adelaide with model_name=gnn, head=0, nb_conv=3, out_channels=128\n"
     ]
    },
    {
     "name": "stderr",
     "output_type": "stream",
     "text": [
      "/home/cpittet/anaconda3/envs/ma4/lib/python3.10/site-packages/sklearn/metrics/_classification.py:1344: UndefinedMetricWarning: Precision is ill-defined and being set to 0.0 due to no predicted samples. Use `zero_division` parameter to control this behavior.\n",
      "  _warn_prf(average, modifier, msg_start, len(result))\n",
      "/home/cpittet/anaconda3/envs/ma4/lib/python3.10/site-packages/sklearn/metrics/_classification.py:1344: UndefinedMetricWarning: Precision is ill-defined and being set to 0.0 due to no predicted samples. Use `zero_division` parameter to control this behavior.\n",
      "  _warn_prf(average, modifier, msg_start, len(result))\n"
     ]
    },
    {
     "name": "stdout",
     "output_type": "stream",
     "text": [
      "starting training for turku with model_name=gnn, head=0, nb_conv=5, out_channels=16\n",
      "starting training for detroit with model_name=gnn, head=0, nb_conv=5, out_channels=16\n",
      "starting training for paris with model_name=gnn, head=0, nb_conv=5, out_channels=16\n",
      "starting training for adelaide with model_name=gnn, head=0, nb_conv=5, out_channels=16\n",
      "starting training for turku with model_name=gnn, head=0, nb_conv=5, out_channels=32\n",
      "starting training for detroit with model_name=gnn, head=0, nb_conv=5, out_channels=32\n",
      "starting training for paris with model_name=gnn, head=0, nb_conv=5, out_channels=32\n",
      "starting training for adelaide with model_name=gnn, head=0, nb_conv=5, out_channels=32\n",
      "starting training for turku with model_name=gnn, head=0, nb_conv=5, out_channels=64\n",
      "starting training for detroit with model_name=gnn, head=0, nb_conv=5, out_channels=64\n",
      "starting training for paris with model_name=gnn, head=0, nb_conv=5, out_channels=64\n",
      "starting training for adelaide with model_name=gnn, head=0, nb_conv=5, out_channels=64\n",
      "starting training for turku with model_name=gnn, head=0, nb_conv=5, out_channels=128\n"
     ]
    },
    {
     "name": "stderr",
     "output_type": "stream",
     "text": [
      "/home/cpittet/anaconda3/envs/ma4/lib/python3.10/site-packages/sklearn/metrics/_classification.py:1344: UndefinedMetricWarning: Precision is ill-defined and being set to 0.0 due to no predicted samples. Use `zero_division` parameter to control this behavior.\n",
      "  _warn_prf(average, modifier, msg_start, len(result))\n"
     ]
    },
    {
     "name": "stdout",
     "output_type": "stream",
     "text": [
      "starting training for detroit with model_name=gnn, head=0, nb_conv=5, out_channels=128\n",
      "starting training for paris with model_name=gnn, head=0, nb_conv=5, out_channels=128\n",
      "starting training for adelaide with model_name=gnn, head=0, nb_conv=5, out_channels=128\n",
      "starting training for turku with model_name=gnn, head=0, nb_conv=10, out_channels=16\n",
      "starting training for detroit with model_name=gnn, head=0, nb_conv=10, out_channels=16\n",
      "starting training for paris with model_name=gnn, head=0, nb_conv=10, out_channels=16\n",
      "starting training for adelaide with model_name=gnn, head=0, nb_conv=10, out_channels=16\n",
      "starting training for turku with model_name=gnn, head=0, nb_conv=10, out_channels=32\n",
      "starting training for detroit with model_name=gnn, head=0, nb_conv=10, out_channels=32\n",
      "starting training for paris with model_name=gnn, head=0, nb_conv=10, out_channels=32\n",
      "starting training for adelaide with model_name=gnn, head=0, nb_conv=10, out_channels=32\n",
      "starting training for turku with model_name=gnn, head=0, nb_conv=10, out_channels=64\n"
     ]
    },
    {
     "name": "stderr",
     "output_type": "stream",
     "text": [
      "/home/cpittet/anaconda3/envs/ma4/lib/python3.10/site-packages/sklearn/metrics/_classification.py:1344: UndefinedMetricWarning: Precision is ill-defined and being set to 0.0 due to no predicted samples. Use `zero_division` parameter to control this behavior.\n",
      "  _warn_prf(average, modifier, msg_start, len(result))\n"
     ]
    },
    {
     "name": "stdout",
     "output_type": "stream",
     "text": [
      "starting training for detroit with model_name=gnn, head=0, nb_conv=10, out_channels=64\n",
      "starting training for paris with model_name=gnn, head=0, nb_conv=10, out_channels=64\n"
     ]
    },
    {
     "name": "stderr",
     "output_type": "stream",
     "text": [
      "/home/cpittet/anaconda3/envs/ma4/lib/python3.10/site-packages/sklearn/metrics/_classification.py:1344: UndefinedMetricWarning: Precision is ill-defined and being set to 0.0 due to no predicted samples. Use `zero_division` parameter to control this behavior.\n",
      "  _warn_prf(average, modifier, msg_start, len(result))\n",
      "/home/cpittet/anaconda3/envs/ma4/lib/python3.10/site-packages/sklearn/metrics/_classification.py:1344: UndefinedMetricWarning: Precision is ill-defined and being set to 0.0 due to no predicted samples. Use `zero_division` parameter to control this behavior.\n",
      "  _warn_prf(average, modifier, msg_start, len(result))\n"
     ]
    },
    {
     "name": "stdout",
     "output_type": "stream",
     "text": [
      "starting training for adelaide with model_name=gnn, head=0, nb_conv=10, out_channels=64\n",
      "starting training for turku with model_name=gnn, head=0, nb_conv=10, out_channels=128\n"
     ]
    },
    {
     "name": "stderr",
     "output_type": "stream",
     "text": [
      "/home/cpittet/anaconda3/envs/ma4/lib/python3.10/site-packages/sklearn/metrics/_classification.py:1344: UndefinedMetricWarning: Precision is ill-defined and being set to 0.0 due to no predicted samples. Use `zero_division` parameter to control this behavior.\n",
      "  _warn_prf(average, modifier, msg_start, len(result))\n",
      "/home/cpittet/anaconda3/envs/ma4/lib/python3.10/site-packages/sklearn/metrics/_classification.py:1344: UndefinedMetricWarning: Precision is ill-defined and being set to 0.0 due to no predicted samples. Use `zero_division` parameter to control this behavior.\n",
      "  _warn_prf(average, modifier, msg_start, len(result))\n",
      "/home/cpittet/anaconda3/envs/ma4/lib/python3.10/site-packages/sklearn/metrics/_classification.py:1344: UndefinedMetricWarning: Precision is ill-defined and being set to 0.0 due to no predicted samples. Use `zero_division` parameter to control this behavior.\n",
      "  _warn_prf(average, modifier, msg_start, len(result))\n"
     ]
    },
    {
     "name": "stdout",
     "output_type": "stream",
     "text": [
      "starting training for detroit with model_name=gnn, head=0, nb_conv=10, out_channels=128\n",
      "starting training for paris with model_name=gnn, head=0, nb_conv=10, out_channels=128\n"
     ]
    },
    {
     "name": "stderr",
     "output_type": "stream",
     "text": [
      "/home/cpittet/anaconda3/envs/ma4/lib/python3.10/site-packages/sklearn/metrics/_classification.py:1344: UndefinedMetricWarning: Precision is ill-defined and being set to 0.0 due to no predicted samples. Use `zero_division` parameter to control this behavior.\n",
      "  _warn_prf(average, modifier, msg_start, len(result))\n",
      "/home/cpittet/anaconda3/envs/ma4/lib/python3.10/site-packages/sklearn/metrics/_classification.py:1344: UndefinedMetricWarning: Precision is ill-defined and being set to 0.0 due to no predicted samples. Use `zero_division` parameter to control this behavior.\n",
      "  _warn_prf(average, modifier, msg_start, len(result))\n",
      "/home/cpittet/anaconda3/envs/ma4/lib/python3.10/site-packages/sklearn/metrics/_classification.py:1344: UndefinedMetricWarning: Precision is ill-defined and being set to 0.0 due to no predicted samples. Use `zero_division` parameter to control this behavior.\n",
      "  _warn_prf(average, modifier, msg_start, len(result))\n"
     ]
    },
    {
     "name": "stdout",
     "output_type": "stream",
     "text": [
      "starting training for adelaide with model_name=gnn, head=0, nb_conv=10, out_channels=128\n"
     ]
    },
    {
     "name": "stderr",
     "output_type": "stream",
     "text": [
      "/home/cpittet/anaconda3/envs/ma4/lib/python3.10/site-packages/sklearn/metrics/_classification.py:1344: UndefinedMetricWarning: Precision is ill-defined and being set to 0.0 due to no predicted samples. Use `zero_division` parameter to control this behavior.\n",
      "  _warn_prf(average, modifier, msg_start, len(result))\n",
      "/home/cpittet/anaconda3/envs/ma4/lib/python3.10/site-packages/sklearn/metrics/_classification.py:1344: UndefinedMetricWarning: Precision is ill-defined and being set to 0.0 due to no predicted samples. Use `zero_division` parameter to control this behavior.\n",
      "  _warn_prf(average, modifier, msg_start, len(result))\n",
      "/home/cpittet/anaconda3/envs/ma4/lib/python3.10/site-packages/sklearn/metrics/_classification.py:1344: UndefinedMetricWarning: Precision is ill-defined and being set to 0.0 due to no predicted samples. Use `zero_division` parameter to control this behavior.\n",
      "  _warn_prf(average, modifier, msg_start, len(result))\n",
      "/home/cpittet/anaconda3/envs/ma4/lib/python3.10/site-packages/sklearn/metrics/_classification.py:1344: UndefinedMetricWarning: Precision is ill-defined and being set to 0.0 due to no predicted samples. Use `zero_division` parameter to control this behavior.\n",
      "  _warn_prf(average, modifier, msg_start, len(result))\n",
      "/home/cpittet/anaconda3/envs/ma4/lib/python3.10/site-packages/sklearn/metrics/_classification.py:1344: UndefinedMetricWarning: Precision is ill-defined and being set to 0.0 due to no predicted samples. Use `zero_division` parameter to control this behavior.\n",
      "  _warn_prf(average, modifier, msg_start, len(result))\n",
      "/home/cpittet/anaconda3/envs/ma4/lib/python3.10/site-packages/sklearn/metrics/_classification.py:1344: UndefinedMetricWarning: Precision is ill-defined and being set to 0.0 due to no predicted samples. Use `zero_division` parameter to control this behavior.\n",
      "  _warn_prf(average, modifier, msg_start, len(result))\n"
     ]
    },
    {
     "name": "stdout",
     "output_type": "stream",
     "text": [
      "best parameters with model_name=gnn, head=0, nb_conv=3, out_channels=128\n"
     ]
    }
   ],
   "source": [
    "\n",
    "import random\n",
    "\n",
    "model_attempts = []\n",
    "\n",
    "seed = 42\n",
    "\n",
    "for model_name in ['gat', 'gnn']:\n",
    "    best_heads = -1\n",
    "    best_nb_graph_conv = -1\n",
    "    best_out_channels = -1\n",
    "    best_score = -1\n",
    "    attempts = []\n",
    "\n",
    "    if model_name == 'gat':\n",
    "        heads = [2, 4, 8]\n",
    "        nb_convs = [3, 5]\n",
    "        out_channels = [8, 16, 32]\n",
    "    else:\n",
    "        heads = [0]\n",
    "        nb_convs = [3, 5, 10]\n",
    "        out_channels = [16, 32, 64, 128]\n",
    "    for head in heads:\n",
    "        for nb_conv in nb_convs:\n",
    "            for out_channel in out_channels:\n",
    "                f1_train = []\n",
    "                f1_val = []\n",
    "                for city in [\"turku\",\"detroit\",\"paris\",\"adelaide\"]:\n",
    "\n",
    "                    random.seed(seed)\n",
    "                    np.random.seed(seed)\n",
    "                    torch.manual_seed(seed)\n",
    "                    torch.cuda.manual_seed_all(seed)\n",
    "                    print(f\"starting training for {city} with model_name={model_name}, head={head}, nb_conv={nb_conv}, out_channels={out_channel}\")\n",
    "                    city_name = city\n",
    "                    data_dir = 'data'\n",
    "                    df_features = pd.read_csv(os.path.join(data_dir,\"handcrafted_features.csv\"))\n",
    "                    df_features = df_features[df_features[\"city\"]==city]\n",
    "                    targets_handcrafted = df_features[\"city_center\"].values\n",
    "                    features_handcrafted = df_features.drop([\"stop_I\", \"name\", \"city_center\", \"city\",\"Unnamed: 0\"],axis=1).values\n",
    "                    graph = nx.read_edgelist(os.path.join(data_dir, city_name, 'adj_mat.edg'), create_using=nx.DiGraph)\n",
    "\n",
    "                    adj_mat = nx.adjacency_matrix(graph, weight=None) # not weighted\n",
    "                    edge_index, _ = pyg.utils.from_scipy_sparse_matrix(adj_mat)\n",
    "                    d = Data(\n",
    "                        x=torch.from_numpy(features_handcrafted),\n",
    "                        y=torch.tensor(targets_handcrafted, dtype=torch.float).clone(),\n",
    "                        edge_index=edge_index.clone(),\n",
    "                    )\n",
    "\n",
    "                    train_ids, test_ids = train_test_split(\n",
    "                        np.arange(features_handcrafted.shape[0]), test_size=0.2, stratify=targets_handcrafted, random_state=seed\n",
    "                    )\n",
    "\n",
    "                    train_ids, val_ids = train_test_split(\n",
    "                        train_ids, test_size=0.2, stratify=targets_handcrafted[train_ids], random_state=seed\n",
    "                    )\n",
    "\n",
    "                    pos_weight = np.sum(targets_handcrafted[train_ids] == 0) / np.sum(targets_handcrafted[train_ids] == 1)\n",
    "\n",
    "                    results_gat = train_gnn(\n",
    "                        [d],\n",
    "                        train_ids,\n",
    "                        val_ids,\n",
    "                        test_ids,\n",
    "                        pos_weight=pos_weight,\n",
    "                        model_name=model_name,\n",
    "                        lr=1e-3,\n",
    "                        epochs=200,\n",
    "                        out_channels_graph=out_channel,\n",
    "                        in_channels_graph=18,\n",
    "                        heads=head,\n",
    "                        nb_graph_conv=nb_conv,\n",
    "                        dropout=0.0\n",
    "                    )\n",
    "\n",
    "                    f1_train.append(results_gat[0]['train'][\"1\"][\"f1-score\"])\n",
    "                    f1_val.append(results_gat[1])\n",
    "                \n",
    "                avg_f1_train = np.mean(f1_train)\n",
    "                avg_f1_val = np.mean(f1_val)\n",
    "                attempts.append({\"model_name\":model_name,\"head\":head,\"nb_conv\":nb_conv,\"out_channel\":out_channel,\"train_f1\": avg_f1_train, \"val_f1\": avg_f1_val})\n",
    "\n",
    "                if avg_f1_val  > best_score:\n",
    "                    best_score = avg_f1_val\n",
    "                    best_heads = head\n",
    "                    best_nb_graph_conv = nb_conv\n",
    "                    best_out_channels = out_channel\n",
    "\n",
    "    print(f\"best parameters with model_name={model_name}, head={best_heads}, nb_conv={best_nb_graph_conv}, out_channels={best_out_channels}\")\n",
    "    model_attempts.append(attempts)\n"
   ]
  },
  {
   "cell_type": "code",
   "execution_count": 73,
   "metadata": {},
   "outputs": [],
   "source": [
    "import json\n",
    "with open(\"save_gnns.json\",\"w\") as f:\n",
    "    json.dump(model_attempts,f)"
   ]
  },
  {
   "cell_type": "code",
   "execution_count": 210,
   "metadata": {},
   "outputs": [],
   "source": []
  },
  {
   "cell_type": "code",
   "execution_count": 211,
   "metadata": {},
   "outputs": [
    {
     "data": {
      "text/plain": [
       "(1850, 256)"
      ]
     },
     "execution_count": 211,
     "metadata": {},
     "output_type": "execute_result"
    }
   ],
   "source": [
    "embeddings.shape"
   ]
  },
  {
   "cell_type": "code",
   "execution_count": 17,
   "metadata": {},
   "outputs": [
    {
     "data": {
      "text/plain": [
       "<matplotlib.legend.Legend at 0x7f81909d54b0>"
      ]
     },
     "execution_count": 17,
     "metadata": {},
     "output_type": "execute_result"
    },
    {
     "data": {
      "image/png": "[encoded data removed]",
      "text/plain": [
       "<Figure size 640x480 with 1 Axes>"
      ]
     },
     "metadata": {},
     "output_type": "display_data"
    }
   ],
   "source": [
    "import seaborn as sns\n",
    "lst = []\n",
    "for entry in sorted(os.scandir(\"data\"),key=lambda x: x.name):\n",
    "    if entry.is_dir():\n",
    "        city = entry.name\n",
    "        with open(os.path.join(entry.path, 'results', 'results.json'), 'r') as f:\n",
    "            res_dict = json.load(f)\n",
    "\n",
    "        lst.append((city,\"node2vec\",res_dict[\"baseline_svm\"][\"test\"][\"1\"][\"f1-score\"]))\n",
    "        lst.append((city,\"handcrafted\",res_dict[\"handcrafted_svm\"][\"test\"][\"1\"][\"f1-score\"]))\n",
    "df = pd.DataFrame(lst,columns=[\"city\",\"type\",\"score\"])\n",
    "ax = sns.barplot(df, x=\"city\",y=\"score\",hue=\"type\")\n",
    "ax.tick_params(labelrotation=90) \n",
    "ax.legend(bbox_to_anchor=(1.1, 1.05),loc=\"upper left\")"
   ]
  },
  {
   "cell_type": "code",
   "execution_count": 213,
   "metadata": {},
   "outputs": [],
   "source": []
  },
  {
   "cell_type": "code",
   "execution_count": 214,
   "metadata": {},
   "outputs": [],
   "source": []
  },
  {
   "cell_type": "code",
   "execution_count": 215,
   "metadata": {},
   "outputs": [
    {
     "data": {
      "text/html": [
       "<style>#sk-container-id-29 {color: black;background-color: white;}#sk-container-id-29 pre{padding: 0;}#sk-container-id-29 div.sk-toggleable {background-color: white;}#sk-container-id-29 label.sk-toggleable__label {cursor: pointer;display: block;width: 100%;margin-bottom: 0;padding: 0.3em;box-sizing: border-box;text-align: center;}#sk-container-id-29 label.sk-toggleable__label-arrow:before {content: \"▸\";float: left;margin-right: 0.25em;color: #696969;}#sk-container-id-29 label.sk-toggleable__label-arrow:hover:before {color: black;}#sk-container-id-29 div.sk-estimator:hover label.sk-toggleable__label-arrow:before {color: black;}#sk-container-id-29 div.sk-toggleable__content {max-height: 0;max-width: 0;overflow: hidden;text-align: left;background-color: #f0f8ff;}#sk-container-id-29 div.sk-toggleable__content pre {margin: 0.2em;color: black;border-radius: 0.25em;background-color: #f0f8ff;}#sk-container-id-29 input.sk-toggleable__control:checked~div.sk-toggleable__content {max-height: 200px;max-width: 100%;overflow: auto;}#sk-container-id-29 input.sk-toggleable__control:checked~label.sk-toggleable__label-arrow:before {content: \"▾\";}#sk-container-id-29 div.sk-estimator input.sk-toggleable__control:checked~label.sk-toggleable__label {background-color: #d4ebff;}#sk-container-id-29 div.sk-label input.sk-toggleable__control:checked~label.sk-toggleable__label {background-color: #d4ebff;}#sk-container-id-29 input.sk-hidden--visually {border: 0;clip: rect(1px 1px 1px 1px);clip: rect(1px, 1px, 1px, 1px);height: 1px;margin: -1px;overflow: hidden;padding: 0;position: absolute;width: 1px;}#sk-container-id-29 div.sk-estimator {font-family: monospace;background-color: #f0f8ff;border: 1px dotted black;border-radius: 0.25em;box-sizing: border-box;margin-bottom: 0.5em;}#sk-container-id-29 div.sk-estimator:hover {background-color: #d4ebff;}#sk-container-id-29 div.sk-parallel-item::after {content: \"\";width: 100%;border-bottom: 1px solid gray;flex-grow: 1;}#sk-container-id-29 div.sk-label:hover label.sk-toggleable__label {background-color: #d4ebff;}#sk-container-id-29 div.sk-serial::before {content: \"\";position: absolute;border-left: 1px solid gray;box-sizing: border-box;top: 0;bottom: 0;left: 50%;z-index: 0;}#sk-container-id-29 div.sk-serial {display: flex;flex-direction: column;align-items: center;background-color: white;padding-right: 0.2em;padding-left: 0.2em;position: relative;}#sk-container-id-29 div.sk-item {position: relative;z-index: 1;}#sk-container-id-29 div.sk-parallel {display: flex;align-items: stretch;justify-content: center;background-color: white;position: relative;}#sk-container-id-29 div.sk-item::before, #sk-container-id-29 div.sk-parallel-item::before {content: \"\";position: absolute;border-left: 1px solid gray;box-sizing: border-box;top: 0;bottom: 0;left: 50%;z-index: -1;}#sk-container-id-29 div.sk-parallel-item {display: flex;flex-direction: column;z-index: 1;position: relative;background-color: white;}#sk-container-id-29 div.sk-parallel-item:first-child::after {align-self: flex-end;width: 50%;}#sk-container-id-29 div.sk-parallel-item:last-child::after {align-self: flex-start;width: 50%;}#sk-container-id-29 div.sk-parallel-item:only-child::after {width: 0;}#sk-container-id-29 div.sk-dashed-wrapped {border: 1px dashed gray;margin: 0 0.4em 0.5em 0.4em;box-sizing: border-box;padding-bottom: 0.4em;background-color: white;}#sk-container-id-29 div.sk-label label {font-family: monospace;font-weight: bold;display: inline-block;line-height: 1.2em;}#sk-container-id-29 div.sk-label-container {text-align: center;}#sk-container-id-29 div.sk-container {/* jupyter's `normalize.less` sets `[hidden] { display: none; }` but bootstrap.min.css set `[hidden] { display: none !important; }` so we also need the `!important` here to be able to override the default hidden behavior on the sphinx rendered scikit-learn.org. See: https://github.com/scikit-learn/scikit-learn/issues/21755 */display: inline-block !important;position: relative;}#sk-container-id-29 div.sk-text-repr-fallback {display: none;}</style><div id=\"sk-container-id-29\" class=\"sk-top-container\"><div class=\"sk-text-repr-fallback\"><pre>SVC(C=1, class_weight=&#x27;balanced&#x27;)</pre><b>In a Jupyter environment, please rerun this cell to show the HTML representation or trust the notebook. <br />On GitHub, the HTML representation is unable to render, please try loading this page with nbviewer.org.</b></div><div class=\"sk-container\" hidden><div class=\"sk-item\"><div class=\"sk-estimator sk-toggleable\"><input class=\"sk-toggleable__control sk-hidden--visually\" id=\"sk-estimator-id-29\" type=\"checkbox\" checked><label for=\"sk-estimator-id-29\" class=\"sk-toggleable__label sk-toggleable__label-arrow\">SVC</label><div class=\"sk-toggleable__content\"><pre>SVC(C=1, class_weight=&#x27;balanced&#x27;)</pre></div></div></div></div></div>"
      ],
      "text/plain": [
       "SVC(C=1, class_weight='balanced')"
      ]
     },
     "execution_count": 215,
     "metadata": {},
     "output_type": "execute_result"
    }
   ],
   "source": []
  },
  {
   "cell_type": "code",
   "execution_count": 216,
   "metadata": {},
   "outputs": [
    {
     "name": "stdout",
     "output_type": "stream",
     "text": [
      "              precision    recall  f1-score   support\n",
      "\n",
      "           0       0.97      0.79      0.87      1212\n",
      "           1       0.49      0.90      0.63       268\n",
      "\n",
      "    accuracy                           0.81      1480\n",
      "   macro avg       0.73      0.85      0.75      1480\n",
      "weighted avg       0.88      0.81      0.83      1480\n",
      "\n"
     ]
    }
   ],
   "source": []
  },
  {
   "cell_type": "code",
   "execution_count": 217,
   "metadata": {},
   "outputs": [
    {
     "name": "stdout",
     "output_type": "stream",
     "text": [
      "              precision    recall  f1-score   support\n",
      "\n",
      "           0       0.82      0.67      0.74       303\n",
      "           1       0.18      0.33      0.23        67\n",
      "\n",
      "    accuracy                           0.61       370\n",
      "   macro avg       0.50      0.50      0.49       370\n",
      "weighted avg       0.70      0.61      0.65       370\n",
      "\n"
     ]
    }
   ],
   "source": []
  },
  {
   "cell_type": "code",
   "execution_count": null,
   "metadata": {},
   "outputs": [],
   "source": []
  }
 ],
 "metadata": {
  "kernelspec": {
   "display_name": "ma4",
   "language": "python",
   "name": "python3"
  },
  "language_info": {
   "codemirror_mode": {
    "name": "ipython",
    "version": 3
   },
   "file_extension": ".py",
   "mimetype": "text/x-python",
   "name": "python",
   "nbconvert_exporter": "python",
   "pygments_lexer": "ipython3",
   "version": "3.10.9"
  },
  "orig_nbformat": 4
 },
 "nbformat": 4,
 "nbformat_minor": 2
}
