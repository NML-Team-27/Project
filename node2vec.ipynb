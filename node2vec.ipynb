{
 "cells": [
  {
   "cell_type": "code",
   "execution_count": 1,
   "metadata": {},
   "outputs": [
    {
     "name": "stderr",
     "output_type": "stream",
     "text": [
      "/home/cpittet/anaconda3/envs/ma4/lib/python3.10/site-packages/tqdm/auto.py:22: TqdmWarning: IProgress not found. Please update jupyter and ipywidgets. See https://ipywidgets.readthedocs.io/en/stable/user_install.html\n",
      "  from .autonotebook import tqdm as notebook_tqdm\n"
     ]
    }
   ],
   "source": [
    "from pecanpy import pecanpy as pp\n",
    "import utils\n",
    "import networkx as nx\n",
    "import os\n",
    "from sklearn.model_selection import train_test_split\n",
    "import numpy as np\n",
    "from sklearn.preprocessing import StandardScaler\n",
    "from sklearn.metrics import classification_report\n",
    "from sklearn.svm import SVC\n",
    "import json\n",
    "from numpy.typing import NDArray\n",
    "from typing import Dict\n",
    "import pandas as pd\n",
    "from sklearn.feature_selection import SelectPercentile, f_classif\n",
    "from training import train_gnn\n",
    "from torch_geometric.data import Data\n",
    "import torch\n",
    "import torch_geometric as pyg"
   ]
  },
  {
   "cell_type": "code",
   "execution_count": 11,
   "metadata": {},
   "outputs": [],
   "source": [
    "def init_result_folder(path: str) -> nx.Graph:\n",
    "    if not os.path.exists(os.path.join(path, 'results')):\n",
    "        os.mkdir(os.path.join(path, 'results'))\n",
    "\n",
    "    with open(os.path.join(path, 'results', 'results.json'), 'w') as f:\n",
    "        json.dump(dict(), f)\n",
    "\n",
    "    path_split = path.split('/')\n",
    "    city_name = path_split[-1]\n",
    "    data_dir = os.path.join(*path_split[:-1])\n",
    "    graph, _ = utils.create_city_graph(city_name, data_dir)\n",
    "    graph = nx.DiGraph(graph)\n",
    "\n",
    "    mapping = {k: i for i, k in enumerate(sorted(graph.nodes()))}\n",
    "    graph = nx.relabel_nodes(graph, mapping)\n",
    "\n",
    "    path_edg_file = os.path.join(path, 'adj_mat.edg')\n",
    "    nx.write_edgelist(graph, path_edg_file, data=False, delimiter='\\t')\n",
    "\n",
    "    return graph\n",
    "\n",
    "\n",
    "def save_embeddings(path: str, p: float, q: float, num_walks: int, dim: int = 256) -> NDArray[np.float_]:\n",
    "    path_edg_file = os.path.join(path, 'adj_mat.edg')\n",
    "\n",
    "    g = pp.SparseOTF(p=p, q=q, verbose=False, workers=16)\n",
    "    g.read_edg(path_edg_file, weighted=False, directed=True)\n",
    "\n",
    "    embeddings = g.embed(dim=dim, num_walks=num_walks)\n",
    "\n",
    "    np.save(os.path.join(path, 'results', 'node2vec_embeddings.npy'), embeddings)\n",
    "\n",
    "    return embeddings\n",
    "\n",
    "\n",
    "def train_svm(features: NDArray[np.float_], targets: NDArray[np.float_], seed: int = 42,scale_features=False) -> Dict:\n",
    "    X_train, X_test, y_train, y_test = train_test_split(features, targets, test_size=0.2, stratify=targets, random_state=seed)\n",
    "\n",
    "    model = SVC(class_weight='balanced', C=1)\n",
    "    if scale_features:\n",
    "        standard_scaler = StandardScaler()\n",
    "        standard_scaler.fit(X_train)\n",
    "        X_train = standard_scaler.transform(X_train)\n",
    "        X_test = standard_scaler.transform(X_test)\n",
    "\n",
    "        score = f_classif(X_train,y_train)\n",
    "        #print(score[0])\n",
    "\n",
    "    model.fit(X_train, y_train)\n",
    "\n",
    "    train_preds = model.predict(X_train)\n",
    "    test_preds = model.predict(X_test)\n",
    "\n",
    "    results = {}\n",
    "    results['train'] = classification_report(y_train, train_preds, output_dict=True)\n",
    "    results['test'] = classification_report(y_test, test_preds, output_dict=True)\n",
    "\n",
    "    return results\n",
    "\n",
    "\n",
    "def cities_loop(data_path: str, p: float, q: float, num_walks: int, dim: int) -> None:\n",
    "\n",
    "    for entry in os.scandir(data_path):\n",
    "        if entry.is_dir():\n",
    "            city = entry.name\n",
    "            graph = init_result_folder(entry.path)\n",
    "            embeddings = save_embeddings(entry.path, p, q, num_walks=num_walks, dim=dim)\n",
    "            \n",
    "            targets = dict(graph.nodes(data='city_center'))\n",
    "            targets = np.array([targets[v] for v in range(len(targets))])\n",
    "            \n",
    "            results = train_svm(embeddings, targets)\n",
    "            df_features = pd.read_csv(os.path.join(data_path,\"handcrafted_features.csv\"))\n",
    "            df_features = df_features[df_features[\"city\"]==city]\n",
    "            targets_handcrafted = df_features[\"city_center\"].values\n",
    "            features_handcrafted = df_features.drop([\"stop_I\",\"name\",\"city_center\",\"city\",\"Unnamed: 0\"],axis=1)\n",
    "\n",
    "            results_handcrafted =  train_svm(features_handcrafted, targets_handcrafted,scale_features=True)\n",
    "\n",
    "            with open(os.path.join(entry.path, 'results', 'results.json'), 'r') as f:\n",
    "                res_dict = json.load(f)\n",
    "            print()\n",
    "            res_dict['baseline_svm'] = results\n",
    "            res_dict[\"handcrafted_svm\"] = results_handcrafted\n",
    "\n",
    "            with open(os.path.join(entry.path, 'results', 'results.json'), 'w') as f:\n",
    "                json.dump(res_dict, f)\n",
    "\n",
    "\n",
    "def cities_loop_gnn(data_path: str, seed: int = 42) -> None:\n",
    "\n",
    "    for entry in os.scandir(data_path):\n",
    "        if entry.is_dir():\n",
    "            city = entry.name\n",
    "            print(city)\n",
    "            \n",
    "            df_features = pd.read_csv(os.path.join(data_path,\"handcrafted_features.csv\"))\n",
    "            df_features = df_features[df_features[\"city\"]==city]\n",
    "            targets_handcrafted = df_features[\"city_center\"].values\n",
    "            features_handcrafted = df_features.drop([\"stop_I\", \"name\", \"city_center\", \"city\",\"Unnamed: 0\"],axis=1).values\n",
    "            graph = nx.read_edgelist(os.path.join(entry.path, 'adj_mat.edg'), create_using=nx.DiGraph)\n",
    "\n",
    "            print(targets_handcrafted.shape)\n",
    "            print(features_handcrafted.shape)\n",
    "            \n",
    "            print(f'number of edges in nx graph : {graph.number_of_edges()}')\n",
    "            adj_mat = nx.adjacency_matrix(graph, weight=None) # not weighted\n",
    "            print(f'adj mat shape : {adj_mat.shape}')\n",
    "            edge_index, _ = pyg.utils.from_scipy_sparse_matrix(adj_mat)\n",
    "            print(f'adj mat shape sparse tensor : {edge_index.shape}')\n",
    "\n",
    "            d = Data(\n",
    "                x=torch.from_numpy(features_handcrafted),\n",
    "                y=torch.tensor(targets_handcrafted).clone(),\n",
    "                edge_index=edge_index.clone(),\n",
    "            )\n",
    "\n",
    "            train_ids, test_ids = train_test_split(\n",
    "                np.arange(features_handcrafted.shape[0]), test_size=0.2, stratify=targets_handcrafted, random_state=seed\n",
    "            )\n",
    "\n",
    "            train_ids, val_ids = train_test_split(\n",
    "                train_ids, test_size=0.2, stratify=targets_handcrafted[train_ids], random_state=seed\n",
    "            )\n",
    "\n",
    "            pos_weight = np.sum(targets_handcrafted[train_ids] == 0) / np.sum(targets_handcrafted[train_ids] == 1)\n",
    "            print(f'Pos weight : {pos_weight}')\n",
    "\n",
    "            results_gnn = train_gnn(\n",
    "                [d],\n",
    "                train_ids,\n",
    "                val_ids,\n",
    "                test_ids,\n",
    "                pos_weight=pos_weight,\n",
    "                model_name='gnn',\n",
    "                lr=1e-3,\n",
    "                epochs=20,\n",
    "                out_channels_graph=16,\n",
    "                in_channels_graph=18,\n",
    "                heads=5,\n",
    "                dropout=0.0\n",
    "            )\n",
    "            results_gat = train_gnn(\n",
    "                [d],\n",
    "                train_ids,\n",
    "                val_ids,\n",
    "                test_ids,\n",
    "                pos_weight=pos_weight,\n",
    "                model_name='gat',\n",
    "                lr=1e-3,\n",
    "                epochs=20,\n",
    "                out_channels_graph=16,\n",
    "                in_channels_graph=18,\n",
    "                heads=5,\n",
    "                dropout=0.0\n",
    "            )\n",
    "\n",
    "            with open(os.path.join(entry.path, 'results', 'results.json'), 'r') as f:\n",
    "                res_dict = json.load(f)\n",
    "            print()\n",
    "            res_dict['gnn'] = results_gnn\n",
    "            res_dict[\"gat\"] = results_gat\n",
    "\n",
    "            with open(os.path.join(entry.path, 'results', 'results.json'), 'w') as f:\n",
    "                json.dump(res_dict, f)"
   ]
  },
  {
   "cell_type": "code",
   "execution_count": 12,
   "metadata": {},
   "outputs": [
    {
     "name": "stdout",
     "output_type": "stream",
     "text": [
      "bordeaux\n",
      "(3414,)\n",
      "(3414, 18)\n",
      "number of edges in nx graph : 4039\n",
      "adj mat shape : (3435, 3435)\n",
      "adj mat shape sparse tensor : torch.Size([2, 4039])\n",
      "Pos weight : 5.480712166172107\n"
     ]
    },
    {
     "name": "stderr",
     "output_type": "stream",
     "text": [
      "Epoch 1 / 20: 0it [00:00, ?it/s]\n"
     ]
    },
    {
     "ename": "IndexError",
     "evalue": "Encountered an index error. Please ensure that all indices in 'edge_index' point to valid indices in the interval [0, 3413] (got interval [0, 3434])",
     "output_type": "error",
     "traceback": [
      "\u001b[0;31m---------------------------------------------------------------------------\u001b[0m",
      "\u001b[0;31mIndexError\u001b[0m                                Traceback (most recent call last)",
      "File \u001b[0;32m~/anaconda3/envs/ma4/lib/python3.10/site-packages/torch_geometric/nn/conv/message_passing.py:266\u001b[0m, in \u001b[0;36mMessagePassing._lift\u001b[0;34m(self, src, edge_index, dim)\u001b[0m\n\u001b[1;32m    265\u001b[0m     index \u001b[39m=\u001b[39m edge_index[dim]\n\u001b[0;32m--> 266\u001b[0m     \u001b[39mreturn\u001b[39;00m src\u001b[39m.\u001b[39;49mindex_select(\u001b[39mself\u001b[39;49m\u001b[39m.\u001b[39;49mnode_dim, index)\n\u001b[1;32m    267\u001b[0m \u001b[39mexcept\u001b[39;00m (\u001b[39mIndexError\u001b[39;00m, \u001b[39mRuntimeError\u001b[39;00m) \u001b[39mas\u001b[39;00m e:\n",
      "\u001b[0;31mIndexError\u001b[0m: index out of range in self",
      "\nDuring handling of the above exception, another exception occurred:\n",
      "\u001b[0;31mIndexError\u001b[0m                                Traceback (most recent call last)",
      "Cell \u001b[0;32mIn[12], line 1\u001b[0m\n\u001b[0;32m----> 1\u001b[0m cities_loop_gnn(\u001b[39m'\u001b[39;49m\u001b[39mdata\u001b[39;49m\u001b[39m'\u001b[39;49m)\n",
      "Cell \u001b[0;32mIn[11], line 129\u001b[0m, in \u001b[0;36mcities_loop_gnn\u001b[0;34m(data_path, seed)\u001b[0m\n\u001b[1;32m    126\u001b[0m pos_weight \u001b[39m=\u001b[39m np\u001b[39m.\u001b[39msum(targets_handcrafted[train_ids] \u001b[39m==\u001b[39m \u001b[39m0\u001b[39m) \u001b[39m/\u001b[39m np\u001b[39m.\u001b[39msum(targets_handcrafted[train_ids] \u001b[39m==\u001b[39m \u001b[39m1\u001b[39m)\n\u001b[1;32m    127\u001b[0m \u001b[39mprint\u001b[39m(\u001b[39mf\u001b[39m\u001b[39m'\u001b[39m\u001b[39mPos weight : \u001b[39m\u001b[39m{\u001b[39;00mpos_weight\u001b[39m}\u001b[39;00m\u001b[39m'\u001b[39m)\n\u001b[0;32m--> 129\u001b[0m results_gnn \u001b[39m=\u001b[39m train_gnn(\n\u001b[1;32m    130\u001b[0m     [d],\n\u001b[1;32m    131\u001b[0m     train_ids,\n\u001b[1;32m    132\u001b[0m     val_ids,\n\u001b[1;32m    133\u001b[0m     test_ids,\n\u001b[1;32m    134\u001b[0m     pos_weight\u001b[39m=\u001b[39;49mpos_weight,\n\u001b[1;32m    135\u001b[0m     model_name\u001b[39m=\u001b[39;49m\u001b[39m'\u001b[39;49m\u001b[39mgnn\u001b[39;49m\u001b[39m'\u001b[39;49m,\n\u001b[1;32m    136\u001b[0m     lr\u001b[39m=\u001b[39;49m\u001b[39m1e-3\u001b[39;49m,\n\u001b[1;32m    137\u001b[0m     epochs\u001b[39m=\u001b[39;49m\u001b[39m20\u001b[39;49m,\n\u001b[1;32m    138\u001b[0m     out_channels_graph\u001b[39m=\u001b[39;49m\u001b[39m16\u001b[39;49m,\n\u001b[1;32m    139\u001b[0m     in_channels_graph\u001b[39m=\u001b[39;49m\u001b[39m18\u001b[39;49m,\n\u001b[1;32m    140\u001b[0m     heads\u001b[39m=\u001b[39;49m\u001b[39m5\u001b[39;49m,\n\u001b[1;32m    141\u001b[0m     dropout\u001b[39m=\u001b[39;49m\u001b[39m0.0\u001b[39;49m\n\u001b[1;32m    142\u001b[0m )\n\u001b[1;32m    143\u001b[0m results_gat \u001b[39m=\u001b[39m train_gnn(\n\u001b[1;32m    144\u001b[0m     [d],\n\u001b[1;32m    145\u001b[0m     train_ids,\n\u001b[0;32m   (...)\u001b[0m\n\u001b[1;32m    155\u001b[0m     dropout\u001b[39m=\u001b[39m\u001b[39m0.0\u001b[39m\n\u001b[1;32m    156\u001b[0m )\n\u001b[1;32m    159\u001b[0m \u001b[39mwith\u001b[39;00m \u001b[39mopen\u001b[39m(os\u001b[39m.\u001b[39mpath\u001b[39m.\u001b[39mjoin(entry\u001b[39m.\u001b[39mpath, \u001b[39m'\u001b[39m\u001b[39mresults\u001b[39m\u001b[39m'\u001b[39m, \u001b[39m'\u001b[39m\u001b[39mresults.json\u001b[39m\u001b[39m'\u001b[39m), \u001b[39m'\u001b[39m\u001b[39mr\u001b[39m\u001b[39m'\u001b[39m) \u001b[39mas\u001b[39;00m f:\n",
      "File \u001b[0;32m~/MA4/nml/github/Project/training.py:197\u001b[0m, in \u001b[0;36mtrain_gnn\u001b[0;34m(dataset, train_ids, val_ids, test_ids, pos_weight, model_name, lr, epochs, out_channels_graph, in_channels_graph, heads, dropout)\u001b[0m\n\u001b[1;32m    193\u001b[0m     device \u001b[39m=\u001b[39m \u001b[39m\"\u001b[39m\u001b[39mcpu\u001b[39m\u001b[39m\"\u001b[39m\n\u001b[1;32m    195\u001b[0m model \u001b[39m=\u001b[39m instantiate_model(model_name, out_channels_graph, in_channels_graph, heads, dropout)\n\u001b[0;32m--> 197\u001b[0m model \u001b[39m=\u001b[39m fit(\n\u001b[1;32m    198\u001b[0m     model, dataset, train_ids, val_ids, pos_weight, device, lr, epochs\n\u001b[1;32m    199\u001b[0m )\n\u001b[1;32m    201\u001b[0m preds, label_gt \u001b[39m=\u001b[39m predict(model, dataset, device\u001b[39m=\u001b[39mdevice)\n\u001b[1;32m    203\u001b[0m train_label_np \u001b[39m=\u001b[39m label_gt[train_ids]\n",
      "File \u001b[0;32m~/MA4/nml/github/Project/training.py:126\u001b[0m, in \u001b[0;36mfit\u001b[0;34m(model, dataset, train_ids, val_ids, pos_weight, device, lr, epochs)\u001b[0m\n\u001b[1;32m    121\u001b[0m \u001b[39mfor\u001b[39;00m i, batch \u001b[39min\u001b[39;00m tqdm(\n\u001b[1;32m    122\u001b[0m     \u001b[39menumerate\u001b[39m(dataloader), desc\u001b[39m=\u001b[39m\u001b[39mf\u001b[39m\u001b[39m\"\u001b[39m\u001b[39mEpoch \u001b[39m\u001b[39m{\u001b[39;00mep\u001b[39m \u001b[39m\u001b[39m+\u001b[39m\u001b[39m \u001b[39m\u001b[39m1\u001b[39m\u001b[39m}\u001b[39;00m\u001b[39m / \u001b[39m\u001b[39m{\u001b[39;00mepochs\u001b[39m}\u001b[39;00m\u001b[39m\"\u001b[39m\n\u001b[1;32m    123\u001b[0m ):\n\u001b[1;32m    124\u001b[0m     batch \u001b[39m=\u001b[39m batch\u001b[39m.\u001b[39mto(device)\n\u001b[0;32m--> 126\u001b[0m     outputs \u001b[39m=\u001b[39m model(batch\u001b[39m.\u001b[39;49mx, batch\u001b[39m.\u001b[39;49medge_index)\n\u001b[1;32m    128\u001b[0m     train_outputs \u001b[39m=\u001b[39m outputs[train_ids]\n\u001b[1;32m    130\u001b[0m     loss \u001b[39m=\u001b[39m criterion(train_outputs, batch\u001b[39m.\u001b[39my[train_ids])\n",
      "File \u001b[0;32m~/anaconda3/envs/ma4/lib/python3.10/site-packages/torch/nn/modules/module.py:1194\u001b[0m, in \u001b[0;36mModule._call_impl\u001b[0;34m(self, *input, **kwargs)\u001b[0m\n\u001b[1;32m   1190\u001b[0m \u001b[39m# If we don't have any hooks, we want to skip the rest of the logic in\u001b[39;00m\n\u001b[1;32m   1191\u001b[0m \u001b[39m# this function, and just call forward.\u001b[39;00m\n\u001b[1;32m   1192\u001b[0m \u001b[39mif\u001b[39;00m \u001b[39mnot\u001b[39;00m (\u001b[39mself\u001b[39m\u001b[39m.\u001b[39m_backward_hooks \u001b[39mor\u001b[39;00m \u001b[39mself\u001b[39m\u001b[39m.\u001b[39m_forward_hooks \u001b[39mor\u001b[39;00m \u001b[39mself\u001b[39m\u001b[39m.\u001b[39m_forward_pre_hooks \u001b[39mor\u001b[39;00m _global_backward_hooks\n\u001b[1;32m   1193\u001b[0m         \u001b[39mor\u001b[39;00m _global_forward_hooks \u001b[39mor\u001b[39;00m _global_forward_pre_hooks):\n\u001b[0;32m-> 1194\u001b[0m     \u001b[39mreturn\u001b[39;00m forward_call(\u001b[39m*\u001b[39;49m\u001b[39minput\u001b[39;49m, \u001b[39m*\u001b[39;49m\u001b[39m*\u001b[39;49mkwargs)\n\u001b[1;32m   1195\u001b[0m \u001b[39m# Do not call functions when jit is used\u001b[39;00m\n\u001b[1;32m   1196\u001b[0m full_backward_hooks, non_full_backward_hooks \u001b[39m=\u001b[39m [], []\n",
      "File \u001b[0;32m~/MA4/nml/github/Project/gnn.py:66\u001b[0m, in \u001b[0;36mGNN.forward\u001b[0;34m(self, x, edge_index)\u001b[0m\n\u001b[1;32m     63\u001b[0m \u001b[39mdef\u001b[39;00m \u001b[39mforward\u001b[39m(\n\u001b[1;32m     64\u001b[0m     \u001b[39mself\u001b[39m, x: Tensor, edge_index: Tensor\n\u001b[1;32m     65\u001b[0m ):\n\u001b[0;32m---> 66\u001b[0m     x \u001b[39m=\u001b[39m \u001b[39mself\u001b[39;49m\u001b[39m.\u001b[39;49mconv(x, edge_index)\n\u001b[1;32m     68\u001b[0m     \u001b[39mreturn\u001b[39;00m \u001b[39mself\u001b[39m\u001b[39m.\u001b[39mfc1(x)\u001b[39m.\u001b[39msqueeze(\u001b[39m1\u001b[39m)\n",
      "File \u001b[0;32m~/anaconda3/envs/ma4/lib/python3.10/site-packages/torch/nn/modules/module.py:1194\u001b[0m, in \u001b[0;36mModule._call_impl\u001b[0;34m(self, *input, **kwargs)\u001b[0m\n\u001b[1;32m   1190\u001b[0m \u001b[39m# If we don't have any hooks, we want to skip the rest of the logic in\u001b[39;00m\n\u001b[1;32m   1191\u001b[0m \u001b[39m# this function, and just call forward.\u001b[39;00m\n\u001b[1;32m   1192\u001b[0m \u001b[39mif\u001b[39;00m \u001b[39mnot\u001b[39;00m (\u001b[39mself\u001b[39m\u001b[39m.\u001b[39m_backward_hooks \u001b[39mor\u001b[39;00m \u001b[39mself\u001b[39m\u001b[39m.\u001b[39m_forward_hooks \u001b[39mor\u001b[39;00m \u001b[39mself\u001b[39m\u001b[39m.\u001b[39m_forward_pre_hooks \u001b[39mor\u001b[39;00m _global_backward_hooks\n\u001b[1;32m   1193\u001b[0m         \u001b[39mor\u001b[39;00m _global_forward_hooks \u001b[39mor\u001b[39;00m _global_forward_pre_hooks):\n\u001b[0;32m-> 1194\u001b[0m     \u001b[39mreturn\u001b[39;00m forward_call(\u001b[39m*\u001b[39;49m\u001b[39minput\u001b[39;49m, \u001b[39m*\u001b[39;49m\u001b[39m*\u001b[39;49mkwargs)\n\u001b[1;32m   1195\u001b[0m \u001b[39m# Do not call functions when jit is used\u001b[39;00m\n\u001b[1;32m   1196\u001b[0m full_backward_hooks, non_full_backward_hooks \u001b[39m=\u001b[39m [], []\n",
      "File \u001b[0;32m~/MA4/nml/github/Project/gnn.py:38\u001b[0m, in \u001b[0;36mConvBlock.forward\u001b[0;34m(self, x, edge_index)\u001b[0m\n\u001b[1;32m     31\u001b[0m \u001b[39mdef\u001b[39;00m \u001b[39mforward\u001b[39m(\u001b[39mself\u001b[39m, x: Tensor, edge_index: Tensor):\n\u001b[1;32m     32\u001b[0m \u001b[39m    \u001b[39m\u001b[39m\"\"\"Forward pass\u001b[39;00m\n\u001b[1;32m     33\u001b[0m \n\u001b[1;32m     34\u001b[0m \u001b[39m    Args:\u001b[39;00m\n\u001b[1;32m     35\u001b[0m \u001b[39m        x (Tensor): tensor (batch size x channels x in_channels)\u001b[39;00m\n\u001b[1;32m     36\u001b[0m \u001b[39m        edge_index (Tensor): tensor (2 x nb edges)\u001b[39;00m\n\u001b[1;32m     37\u001b[0m \u001b[39m    \"\"\"\u001b[39;00m\n\u001b[0;32m---> 38\u001b[0m     \u001b[39mreturn\u001b[39;00m \u001b[39mself\u001b[39;49m\u001b[39m.\u001b[39;49mlayers(x, edge_index)\n",
      "File \u001b[0;32m~/anaconda3/envs/ma4/lib/python3.10/site-packages/torch/nn/modules/module.py:1194\u001b[0m, in \u001b[0;36mModule._call_impl\u001b[0;34m(self, *input, **kwargs)\u001b[0m\n\u001b[1;32m   1190\u001b[0m \u001b[39m# If we don't have any hooks, we want to skip the rest of the logic in\u001b[39;00m\n\u001b[1;32m   1191\u001b[0m \u001b[39m# this function, and just call forward.\u001b[39;00m\n\u001b[1;32m   1192\u001b[0m \u001b[39mif\u001b[39;00m \u001b[39mnot\u001b[39;00m (\u001b[39mself\u001b[39m\u001b[39m.\u001b[39m_backward_hooks \u001b[39mor\u001b[39;00m \u001b[39mself\u001b[39m\u001b[39m.\u001b[39m_forward_hooks \u001b[39mor\u001b[39;00m \u001b[39mself\u001b[39m\u001b[39m.\u001b[39m_forward_pre_hooks \u001b[39mor\u001b[39;00m _global_backward_hooks\n\u001b[1;32m   1193\u001b[0m         \u001b[39mor\u001b[39;00m _global_forward_hooks \u001b[39mor\u001b[39;00m _global_forward_pre_hooks):\n\u001b[0;32m-> 1194\u001b[0m     \u001b[39mreturn\u001b[39;00m forward_call(\u001b[39m*\u001b[39;49m\u001b[39minput\u001b[39;49m, \u001b[39m*\u001b[39;49m\u001b[39m*\u001b[39;49mkwargs)\n\u001b[1;32m   1195\u001b[0m \u001b[39m# Do not call functions when jit is used\u001b[39;00m\n\u001b[1;32m   1196\u001b[0m full_backward_hooks, non_full_backward_hooks \u001b[39m=\u001b[39m [], []\n",
      "File \u001b[0;32m/tmp/cpittet_pyg/tmpsujwaxmr.py:17\u001b[0m, in \u001b[0;36mSequential_287f75.forward\u001b[0;34m(self, x, edge_index)\u001b[0m\n\u001b[1;32m     15\u001b[0m \u001b[39mdef\u001b[39;00m \u001b[39mforward\u001b[39m(\u001b[39mself\u001b[39m, x, edge_index):\n\u001b[1;32m     16\u001b[0m \u001b[39m    \u001b[39m\u001b[39m\"\"\"\"\"\"\u001b[39;00m\n\u001b[0;32m---> 17\u001b[0m     x \u001b[39m=\u001b[39m \u001b[39mself\u001b[39;49m\u001b[39m.\u001b[39;49mmodule_0(x, edge_index)\n\u001b[1;32m     18\u001b[0m     \u001b[39mreturn\u001b[39;00m x\n",
      "File \u001b[0;32m~/anaconda3/envs/ma4/lib/python3.10/site-packages/torch/nn/modules/module.py:1194\u001b[0m, in \u001b[0;36mModule._call_impl\u001b[0;34m(self, *input, **kwargs)\u001b[0m\n\u001b[1;32m   1190\u001b[0m \u001b[39m# If we don't have any hooks, we want to skip the rest of the logic in\u001b[39;00m\n\u001b[1;32m   1191\u001b[0m \u001b[39m# this function, and just call forward.\u001b[39;00m\n\u001b[1;32m   1192\u001b[0m \u001b[39mif\u001b[39;00m \u001b[39mnot\u001b[39;00m (\u001b[39mself\u001b[39m\u001b[39m.\u001b[39m_backward_hooks \u001b[39mor\u001b[39;00m \u001b[39mself\u001b[39m\u001b[39m.\u001b[39m_forward_hooks \u001b[39mor\u001b[39;00m \u001b[39mself\u001b[39m\u001b[39m.\u001b[39m_forward_pre_hooks \u001b[39mor\u001b[39;00m _global_backward_hooks\n\u001b[1;32m   1193\u001b[0m         \u001b[39mor\u001b[39;00m _global_forward_hooks \u001b[39mor\u001b[39;00m _global_forward_pre_hooks):\n\u001b[0;32m-> 1194\u001b[0m     \u001b[39mreturn\u001b[39;00m forward_call(\u001b[39m*\u001b[39;49m\u001b[39minput\u001b[39;49m, \u001b[39m*\u001b[39;49m\u001b[39m*\u001b[39;49mkwargs)\n\u001b[1;32m   1195\u001b[0m \u001b[39m# Do not call functions when jit is used\u001b[39;00m\n\u001b[1;32m   1196\u001b[0m full_backward_hooks, non_full_backward_hooks \u001b[39m=\u001b[39m [], []\n",
      "File \u001b[0;32m~/anaconda3/envs/ma4/lib/python3.10/site-packages/torch_geometric/nn/conv/graph_conv.py:86\u001b[0m, in \u001b[0;36mGraphConv.forward\u001b[0;34m(self, x, edge_index, edge_weight, size)\u001b[0m\n\u001b[1;32m     83\u001b[0m     x: OptPairTensor \u001b[39m=\u001b[39m (x, x)\n\u001b[1;32m     85\u001b[0m \u001b[39m# propagate_type: (x: OptPairTensor, edge_weight: OptTensor)\u001b[39;00m\n\u001b[0;32m---> 86\u001b[0m out \u001b[39m=\u001b[39m \u001b[39mself\u001b[39;49m\u001b[39m.\u001b[39;49mpropagate(edge_index, x\u001b[39m=\u001b[39;49mx, edge_weight\u001b[39m=\u001b[39;49medge_weight,\n\u001b[1;32m     87\u001b[0m                      size\u001b[39m=\u001b[39;49msize)\n\u001b[1;32m     88\u001b[0m out \u001b[39m=\u001b[39m \u001b[39mself\u001b[39m\u001b[39m.\u001b[39mlin_rel(out)\n\u001b[1;32m     90\u001b[0m x_r \u001b[39m=\u001b[39m x[\u001b[39m1\u001b[39m]\n",
      "File \u001b[0;32m~/anaconda3/envs/ma4/lib/python3.10/site-packages/torch_geometric/nn/conv/message_passing.py:455\u001b[0m, in \u001b[0;36mMessagePassing.propagate\u001b[0;34m(self, edge_index, size, **kwargs)\u001b[0m\n\u001b[1;32m    452\u001b[0m     \u001b[39mfor\u001b[39;00m arg \u001b[39min\u001b[39;00m decomp_args:\n\u001b[1;32m    453\u001b[0m         kwargs[arg] \u001b[39m=\u001b[39m decomp_kwargs[arg][i]\n\u001b[0;32m--> 455\u001b[0m coll_dict \u001b[39m=\u001b[39m \u001b[39mself\u001b[39;49m\u001b[39m.\u001b[39;49m_collect(\u001b[39mself\u001b[39;49m\u001b[39m.\u001b[39;49m_user_args, edge_index, size,\n\u001b[1;32m    456\u001b[0m                           kwargs)\n\u001b[1;32m    458\u001b[0m msg_kwargs \u001b[39m=\u001b[39m \u001b[39mself\u001b[39m\u001b[39m.\u001b[39minspector\u001b[39m.\u001b[39mdistribute(\u001b[39m'\u001b[39m\u001b[39mmessage\u001b[39m\u001b[39m'\u001b[39m, coll_dict)\n\u001b[1;32m    459\u001b[0m \u001b[39mfor\u001b[39;00m hook \u001b[39min\u001b[39;00m \u001b[39mself\u001b[39m\u001b[39m.\u001b[39m_message_forward_pre_hooks\u001b[39m.\u001b[39mvalues():\n",
      "File \u001b[0;32m~/anaconda3/envs/ma4/lib/python3.10/site-packages/torch_geometric/nn/conv/message_passing.py:329\u001b[0m, in \u001b[0;36mMessagePassing._collect\u001b[0;34m(self, args, edge_index, size, kwargs)\u001b[0m\n\u001b[1;32m    327\u001b[0m         \u001b[39mif\u001b[39;00m \u001b[39misinstance\u001b[39m(data, Tensor):\n\u001b[1;32m    328\u001b[0m             \u001b[39mself\u001b[39m\u001b[39m.\u001b[39m_set_size(size, dim, data)\n\u001b[0;32m--> 329\u001b[0m             data \u001b[39m=\u001b[39m \u001b[39mself\u001b[39;49m\u001b[39m.\u001b[39;49m_lift(data, edge_index, dim)\n\u001b[1;32m    331\u001b[0m         out[arg] \u001b[39m=\u001b[39m data\n\u001b[1;32m    333\u001b[0m \u001b[39mif\u001b[39;00m is_torch_sparse_tensor(edge_index):\n",
      "File \u001b[0;32m~/anaconda3/envs/ma4/lib/python3.10/site-packages/torch_geometric/nn/conv/message_passing.py:269\u001b[0m, in \u001b[0;36mMessagePassing._lift\u001b[0;34m(self, src, edge_index, dim)\u001b[0m\n\u001b[1;32m    267\u001b[0m \u001b[39mexcept\u001b[39;00m (\u001b[39mIndexError\u001b[39;00m, \u001b[39mRuntimeError\u001b[39;00m) \u001b[39mas\u001b[39;00m e:\n\u001b[1;32m    268\u001b[0m     \u001b[39mif\u001b[39;00m index\u001b[39m.\u001b[39mmin() \u001b[39m<\u001b[39m \u001b[39m0\u001b[39m \u001b[39mor\u001b[39;00m index\u001b[39m.\u001b[39mmax() \u001b[39m>\u001b[39m\u001b[39m=\u001b[39m src\u001b[39m.\u001b[39msize(\u001b[39mself\u001b[39m\u001b[39m.\u001b[39mnode_dim):\n\u001b[0;32m--> 269\u001b[0m         \u001b[39mraise\u001b[39;00m \u001b[39mIndexError\u001b[39;00m(\n\u001b[1;32m    270\u001b[0m             \u001b[39mf\u001b[39m\u001b[39m\"\u001b[39m\u001b[39mEncountered an index error. Please ensure that all \u001b[39m\u001b[39m\"\u001b[39m\n\u001b[1;32m    271\u001b[0m             \u001b[39mf\u001b[39m\u001b[39m\"\u001b[39m\u001b[39mindices in \u001b[39m\u001b[39m'\u001b[39m\u001b[39medge_index\u001b[39m\u001b[39m'\u001b[39m\u001b[39m point to valid indices in \u001b[39m\u001b[39m\"\u001b[39m\n\u001b[1;32m    272\u001b[0m             \u001b[39mf\u001b[39m\u001b[39m\"\u001b[39m\u001b[39mthe interval [0, \u001b[39m\u001b[39m{\u001b[39;00msrc\u001b[39m.\u001b[39msize(\u001b[39mself\u001b[39m\u001b[39m.\u001b[39mnode_dim)\u001b[39m \u001b[39m\u001b[39m-\u001b[39m\u001b[39m \u001b[39m\u001b[39m1\u001b[39m\u001b[39m}\u001b[39;00m\u001b[39m] \u001b[39m\u001b[39m\"\u001b[39m\n\u001b[1;32m    273\u001b[0m             \u001b[39mf\u001b[39m\u001b[39m\"\u001b[39m\u001b[39m(got interval \u001b[39m\u001b[39m\"\u001b[39m\n\u001b[1;32m    274\u001b[0m             \u001b[39mf\u001b[39m\u001b[39m\"\u001b[39m\u001b[39m[\u001b[39m\u001b[39m{\u001b[39;00m\u001b[39mint\u001b[39m(index\u001b[39m.\u001b[39mmin())\u001b[39m}\u001b[39;00m\u001b[39m, \u001b[39m\u001b[39m{\u001b[39;00m\u001b[39mint\u001b[39m(index\u001b[39m.\u001b[39mmax())\u001b[39m}\u001b[39;00m\u001b[39m])\u001b[39m\u001b[39m\"\u001b[39m)\n\u001b[1;32m    275\u001b[0m     \u001b[39melse\u001b[39;00m:\n\u001b[1;32m    276\u001b[0m         \u001b[39mraise\u001b[39;00m e\n",
      "\u001b[0;31mIndexError\u001b[0m: Encountered an index error. Please ensure that all indices in 'edge_index' point to valid indices in the interval [0, 3413] (got interval [0, 3434])"
     ]
    }
   ],
   "source": [
    "cities_loop_gnn('data')"
   ]
  },
  {
   "cell_type": "code",
   "execution_count": 9,
   "metadata": {},
   "outputs": [
    {
     "name": "stderr",
     "output_type": "stream",
     "text": [
      "/opt/anaconda3/envs/ma4/lib/python3.10/site-packages/sklearn/feature_selection/_univariate_selection.py:112: UserWarning: Features [11] are constant.\n",
      "  warnings.warn(\"Features %s are constant.\" % constant_features_idx, UserWarning)\n",
      "/opt/anaconda3/envs/ma4/lib/python3.10/site-packages/sklearn/feature_selection/_univariate_selection.py:113: RuntimeWarning: invalid value encountered in divide\n",
      "  f = msb / msw\n"
     ]
    },
    {
     "name": "stdout",
     "output_type": "stream",
     "text": [
      "\n"
     ]
    },
    {
     "name": "stderr",
     "output_type": "stream",
     "text": [
      "/opt/anaconda3/envs/ma4/lib/python3.10/site-packages/sklearn/feature_selection/_univariate_selection.py:112: UserWarning: Features [ 7  8  9 10 11] are constant.\n",
      "  warnings.warn(\"Features %s are constant.\" % constant_features_idx, UserWarning)\n",
      "/opt/anaconda3/envs/ma4/lib/python3.10/site-packages/sklearn/feature_selection/_univariate_selection.py:113: RuntimeWarning: invalid value encountered in divide\n",
      "  f = msb / msw\n"
     ]
    },
    {
     "name": "stdout",
     "output_type": "stream",
     "text": [
      "\n"
     ]
    },
    {
     "name": "stderr",
     "output_type": "stream",
     "text": [
      "/opt/anaconda3/envs/ma4/lib/python3.10/site-packages/sklearn/feature_selection/_univariate_selection.py:112: UserWarning: Features [ 8 11] are constant.\n",
      "  warnings.warn(\"Features %s are constant.\" % constant_features_idx, UserWarning)\n",
      "/opt/anaconda3/envs/ma4/lib/python3.10/site-packages/sklearn/feature_selection/_univariate_selection.py:113: RuntimeWarning: invalid value encountered in divide\n",
      "  f = msb / msw\n"
     ]
    },
    {
     "name": "stdout",
     "output_type": "stream",
     "text": [
      "\n"
     ]
    },
    {
     "name": "stderr",
     "output_type": "stream",
     "text": [
      "/opt/anaconda3/envs/ma4/lib/python3.10/site-packages/sklearn/feature_selection/_univariate_selection.py:112: UserWarning: Features [ 7  8 11] are constant.\n",
      "  warnings.warn(\"Features %s are constant.\" % constant_features_idx, UserWarning)\n",
      "/opt/anaconda3/envs/ma4/lib/python3.10/site-packages/sklearn/feature_selection/_univariate_selection.py:113: RuntimeWarning: invalid value encountered in divide\n",
      "  f = msb / msw\n"
     ]
    },
    {
     "name": "stdout",
     "output_type": "stream",
     "text": [
      "\n",
      "\n"
     ]
    },
    {
     "name": "stderr",
     "output_type": "stream",
     "text": [
      "/opt/anaconda3/envs/ma4/lib/python3.10/site-packages/sklearn/feature_selection/_univariate_selection.py:112: UserWarning: Features [ 8 11] are constant.\n",
      "  warnings.warn(\"Features %s are constant.\" % constant_features_idx, UserWarning)\n",
      "/opt/anaconda3/envs/ma4/lib/python3.10/site-packages/sklearn/feature_selection/_univariate_selection.py:113: RuntimeWarning: invalid value encountered in divide\n",
      "  f = msb / msw\n"
     ]
    },
    {
     "name": "stdout",
     "output_type": "stream",
     "text": [
      "\n"
     ]
    },
    {
     "name": "stderr",
     "output_type": "stream",
     "text": [
      "/opt/anaconda3/envs/ma4/lib/python3.10/site-packages/sklearn/feature_selection/_univariate_selection.py:112: UserWarning: Features [ 8 11] are constant.\n",
      "  warnings.warn(\"Features %s are constant.\" % constant_features_idx, UserWarning)\n",
      "/opt/anaconda3/envs/ma4/lib/python3.10/site-packages/sklearn/feature_selection/_univariate_selection.py:113: RuntimeWarning: invalid value encountered in divide\n",
      "  f = msb / msw\n"
     ]
    },
    {
     "name": "stdout",
     "output_type": "stream",
     "text": [
      "\n"
     ]
    },
    {
     "name": "stderr",
     "output_type": "stream",
     "text": [
      "/opt/anaconda3/envs/ma4/lib/python3.10/site-packages/sklearn/feature_selection/_univariate_selection.py:112: UserWarning: Features [ 7  8  9 10 11] are constant.\n",
      "  warnings.warn(\"Features %s are constant.\" % constant_features_idx, UserWarning)\n",
      "/opt/anaconda3/envs/ma4/lib/python3.10/site-packages/sklearn/feature_selection/_univariate_selection.py:113: RuntimeWarning: invalid value encountered in divide\n",
      "  f = msb / msw\n"
     ]
    },
    {
     "name": "stdout",
     "output_type": "stream",
     "text": [
      "\n"
     ]
    },
    {
     "name": "stderr",
     "output_type": "stream",
     "text": [
      "/opt/anaconda3/envs/ma4/lib/python3.10/site-packages/sklearn/feature_selection/_univariate_selection.py:112: UserWarning: Features [ 7  8  9 10 11] are constant.\n",
      "  warnings.warn(\"Features %s are constant.\" % constant_features_idx, UserWarning)\n",
      "/opt/anaconda3/envs/ma4/lib/python3.10/site-packages/sklearn/feature_selection/_univariate_selection.py:113: RuntimeWarning: invalid value encountered in divide\n",
      "  f = msb / msw\n"
     ]
    },
    {
     "name": "stdout",
     "output_type": "stream",
     "text": [
      "\n"
     ]
    },
    {
     "name": "stderr",
     "output_type": "stream",
     "text": [
      "/opt/anaconda3/envs/ma4/lib/python3.10/site-packages/sklearn/feature_selection/_univariate_selection.py:112: UserWarning: Features [ 9 11] are constant.\n",
      "  warnings.warn(\"Features %s are constant.\" % constant_features_idx, UserWarning)\n",
      "/opt/anaconda3/envs/ma4/lib/python3.10/site-packages/sklearn/feature_selection/_univariate_selection.py:113: RuntimeWarning: invalid value encountered in divide\n",
      "  f = msb / msw\n"
     ]
    },
    {
     "name": "stdout",
     "output_type": "stream",
     "text": [
      "\n"
     ]
    },
    {
     "name": "stderr",
     "output_type": "stream",
     "text": [
      "/opt/anaconda3/envs/ma4/lib/python3.10/site-packages/sklearn/feature_selection/_univariate_selection.py:112: UserWarning: Features [ 7  8 11] are constant.\n",
      "  warnings.warn(\"Features %s are constant.\" % constant_features_idx, UserWarning)\n",
      "/opt/anaconda3/envs/ma4/lib/python3.10/site-packages/sklearn/feature_selection/_univariate_selection.py:113: RuntimeWarning: invalid value encountered in divide\n",
      "  f = msb / msw\n"
     ]
    },
    {
     "name": "stdout",
     "output_type": "stream",
     "text": [
      "\n"
     ]
    },
    {
     "name": "stderr",
     "output_type": "stream",
     "text": [
      "/opt/anaconda3/envs/ma4/lib/python3.10/site-packages/sklearn/feature_selection/_univariate_selection.py:112: UserWarning: Features [ 8  9 11] are constant.\n",
      "  warnings.warn(\"Features %s are constant.\" % constant_features_idx, UserWarning)\n",
      "/opt/anaconda3/envs/ma4/lib/python3.10/site-packages/sklearn/feature_selection/_univariate_selection.py:113: RuntimeWarning: invalid value encountered in divide\n",
      "  f = msb / msw\n"
     ]
    },
    {
     "name": "stdout",
     "output_type": "stream",
     "text": [
      "\n"
     ]
    },
    {
     "name": "stderr",
     "output_type": "stream",
     "text": [
      "/opt/anaconda3/envs/ma4/lib/python3.10/site-packages/sklearn/feature_selection/_univariate_selection.py:112: UserWarning: Features [ 7  8  9 10 11] are constant.\n",
      "  warnings.warn(\"Features %s are constant.\" % constant_features_idx, UserWarning)\n",
      "/opt/anaconda3/envs/ma4/lib/python3.10/site-packages/sklearn/feature_selection/_univariate_selection.py:113: RuntimeWarning: invalid value encountered in divide\n",
      "  f = msb / msw\n"
     ]
    },
    {
     "name": "stdout",
     "output_type": "stream",
     "text": [
      "\n"
     ]
    },
    {
     "name": "stderr",
     "output_type": "stream",
     "text": [
      "/opt/anaconda3/envs/ma4/lib/python3.10/site-packages/sklearn/feature_selection/_univariate_selection.py:112: UserWarning: Features [8] are constant.\n",
      "  warnings.warn(\"Features %s are constant.\" % constant_features_idx, UserWarning)\n",
      "/opt/anaconda3/envs/ma4/lib/python3.10/site-packages/sklearn/feature_selection/_univariate_selection.py:113: RuntimeWarning: invalid value encountered in divide\n",
      "  f = msb / msw\n"
     ]
    },
    {
     "name": "stdout",
     "output_type": "stream",
     "text": [
      "\n"
     ]
    },
    {
     "name": "stderr",
     "output_type": "stream",
     "text": [
      "/opt/anaconda3/envs/ma4/lib/python3.10/site-packages/sklearn/feature_selection/_univariate_selection.py:112: UserWarning: Features [7] are constant.\n",
      "  warnings.warn(\"Features %s are constant.\" % constant_features_idx, UserWarning)\n",
      "/opt/anaconda3/envs/ma4/lib/python3.10/site-packages/sklearn/feature_selection/_univariate_selection.py:113: RuntimeWarning: invalid value encountered in divide\n",
      "  f = msb / msw\n"
     ]
    },
    {
     "name": "stdout",
     "output_type": "stream",
     "text": [
      "\n"
     ]
    },
    {
     "name": "stderr",
     "output_type": "stream",
     "text": [
      "/opt/anaconda3/envs/ma4/lib/python3.10/site-packages/sklearn/feature_selection/_univariate_selection.py:112: UserWarning: Features [ 7  9 11] are constant.\n",
      "  warnings.warn(\"Features %s are constant.\" % constant_features_idx, UserWarning)\n",
      "/opt/anaconda3/envs/ma4/lib/python3.10/site-packages/sklearn/feature_selection/_univariate_selection.py:113: RuntimeWarning: invalid value encountered in divide\n",
      "  f = msb / msw\n"
     ]
    },
    {
     "name": "stdout",
     "output_type": "stream",
     "text": [
      "\n"
     ]
    },
    {
     "name": "stderr",
     "output_type": "stream",
     "text": [
      "/opt/anaconda3/envs/ma4/lib/python3.10/site-packages/sklearn/feature_selection/_univariate_selection.py:112: UserWarning: Features [ 7  8  9 10 11] are constant.\n",
      "  warnings.warn(\"Features %s are constant.\" % constant_features_idx, UserWarning)\n",
      "/opt/anaconda3/envs/ma4/lib/python3.10/site-packages/sklearn/feature_selection/_univariate_selection.py:113: RuntimeWarning: invalid value encountered in divide\n",
      "  f = msb / msw\n"
     ]
    },
    {
     "name": "stdout",
     "output_type": "stream",
     "text": [
      "\n"
     ]
    },
    {
     "name": "stderr",
     "output_type": "stream",
     "text": [
      "/opt/anaconda3/envs/ma4/lib/python3.10/site-packages/sklearn/feature_selection/_univariate_selection.py:112: UserWarning: Features [7 8] are constant.\n",
      "  warnings.warn(\"Features %s are constant.\" % constant_features_idx, UserWarning)\n",
      "/opt/anaconda3/envs/ma4/lib/python3.10/site-packages/sklearn/feature_selection/_univariate_selection.py:113: RuntimeWarning: invalid value encountered in divide\n",
      "  f = msb / msw\n"
     ]
    },
    {
     "name": "stdout",
     "output_type": "stream",
     "text": [
      "\n"
     ]
    },
    {
     "name": "stderr",
     "output_type": "stream",
     "text": [
      "/opt/anaconda3/envs/ma4/lib/python3.10/site-packages/sklearn/feature_selection/_univariate_selection.py:112: UserWarning: Features [8 9] are constant.\n",
      "  warnings.warn(\"Features %s are constant.\" % constant_features_idx, UserWarning)\n",
      "/opt/anaconda3/envs/ma4/lib/python3.10/site-packages/sklearn/feature_selection/_univariate_selection.py:113: RuntimeWarning: invalid value encountered in divide\n",
      "  f = msb / msw\n"
     ]
    },
    {
     "name": "stdout",
     "output_type": "stream",
     "text": [
      "\n"
     ]
    },
    {
     "name": "stderr",
     "output_type": "stream",
     "text": [
      "/opt/anaconda3/envs/ma4/lib/python3.10/site-packages/sklearn/feature_selection/_univariate_selection.py:112: UserWarning: Features [8 9] are constant.\n",
      "  warnings.warn(\"Features %s are constant.\" % constant_features_idx, UserWarning)\n",
      "/opt/anaconda3/envs/ma4/lib/python3.10/site-packages/sklearn/feature_selection/_univariate_selection.py:113: RuntimeWarning: invalid value encountered in divide\n",
      "  f = msb / msw\n"
     ]
    },
    {
     "name": "stdout",
     "output_type": "stream",
     "text": [
      "\n"
     ]
    },
    {
     "name": "stderr",
     "output_type": "stream",
     "text": [
      "/opt/anaconda3/envs/ma4/lib/python3.10/site-packages/sklearn/feature_selection/_univariate_selection.py:112: UserWarning: Features [ 8  9 11] are constant.\n",
      "  warnings.warn(\"Features %s are constant.\" % constant_features_idx, UserWarning)\n",
      "/opt/anaconda3/envs/ma4/lib/python3.10/site-packages/sklearn/feature_selection/_univariate_selection.py:113: RuntimeWarning: invalid value encountered in divide\n",
      "  f = msb / msw\n"
     ]
    },
    {
     "name": "stdout",
     "output_type": "stream",
     "text": [
      "\n"
     ]
    },
    {
     "name": "stderr",
     "output_type": "stream",
     "text": [
      "/opt/anaconda3/envs/ma4/lib/python3.10/site-packages/sklearn/feature_selection/_univariate_selection.py:112: UserWarning: Features [ 7  8  9 10 11] are constant.\n",
      "  warnings.warn(\"Features %s are constant.\" % constant_features_idx, UserWarning)\n",
      "/opt/anaconda3/envs/ma4/lib/python3.10/site-packages/sklearn/feature_selection/_univariate_selection.py:113: RuntimeWarning: invalid value encountered in divide\n",
      "  f = msb / msw\n"
     ]
    },
    {
     "name": "stdout",
     "output_type": "stream",
     "text": [
      "\n"
     ]
    },
    {
     "name": "stderr",
     "output_type": "stream",
     "text": [
      "/opt/anaconda3/envs/ma4/lib/python3.10/site-packages/sklearn/feature_selection/_univariate_selection.py:112: UserWarning: Features [9] are constant.\n",
      "  warnings.warn(\"Features %s are constant.\" % constant_features_idx, UserWarning)\n",
      "/opt/anaconda3/envs/ma4/lib/python3.10/site-packages/sklearn/feature_selection/_univariate_selection.py:113: RuntimeWarning: invalid value encountered in divide\n",
      "  f = msb / msw\n"
     ]
    },
    {
     "name": "stdout",
     "output_type": "stream",
     "text": [
      "\n",
      "\n"
     ]
    },
    {
     "name": "stderr",
     "output_type": "stream",
     "text": [
      "/opt/anaconda3/envs/ma4/lib/python3.10/site-packages/sklearn/feature_selection/_univariate_selection.py:112: UserWarning: Features [11] are constant.\n",
      "  warnings.warn(\"Features %s are constant.\" % constant_features_idx, UserWarning)\n",
      "/opt/anaconda3/envs/ma4/lib/python3.10/site-packages/sklearn/feature_selection/_univariate_selection.py:113: RuntimeWarning: invalid value encountered in divide\n",
      "  f = msb / msw\n"
     ]
    },
    {
     "name": "stdout",
     "output_type": "stream",
     "text": [
      "\n"
     ]
    }
   ],
   "source": [
    "cities_loop(\"data\",p=5.0, q=0.1, num_walks=100,dim=256)"
   ]
  },
  {
   "cell_type": "code",
   "execution_count": 7,
   "metadata": {},
   "outputs": [
    {
     "name": "stdout",
     "output_type": "stream",
     "text": [
      "starting training for turku with p=0.1 and q=0.1\n",
      "starting training for detroit with p=0.1 and q=0.1\n",
      "starting training for paris with p=0.1 and q=0.1\n",
      "starting training for adelaide with p=0.1 and q=0.1\n",
      "starting training for turku with p=0.1 and q=0.5\n",
      "starting training for detroit with p=0.1 and q=0.5\n",
      "starting training for paris with p=0.1 and q=0.5\n",
      "starting training for adelaide with p=0.1 and q=0.5\n",
      "starting training for turku with p=0.1 and q=1.0\n",
      "starting training for detroit with p=0.1 and q=1.0\n",
      "starting training for paris with p=0.1 and q=1.0\n",
      "starting training for adelaide with p=0.1 and q=1.0\n",
      "starting training for turku with p=0.1 and q=2.0\n",
      "starting training for detroit with p=0.1 and q=2.0\n",
      "starting training for paris with p=0.1 and q=2.0\n",
      "starting training for adelaide with p=0.1 and q=2.0\n",
      "starting training for turku with p=0.1 and q=5.0\n",
      "starting training for detroit with p=0.1 and q=5.0\n",
      "starting training for paris with p=0.1 and q=5.0\n",
      "starting training for adelaide with p=0.1 and q=5.0\n",
      "starting training for turku with p=1.0 and q=0.1\n",
      "starting training for detroit with p=1.0 and q=0.1\n",
      "starting training for paris with p=1.0 and q=0.1\n",
      "starting training for adelaide with p=1.0 and q=0.1\n",
      "starting training for turku with p=1.0 and q=0.5\n",
      "starting training for detroit with p=1.0 and q=0.5\n",
      "starting training for paris with p=1.0 and q=0.5\n",
      "starting training for adelaide with p=1.0 and q=0.5\n",
      "starting training for turku with p=1.0 and q=1.0\n",
      "starting training for detroit with p=1.0 and q=1.0\n",
      "starting training for paris with p=1.0 and q=1.0\n",
      "starting training for adelaide with p=1.0 and q=1.0\n",
      "starting training for turku with p=1.0 and q=2.0\n",
      "starting training for detroit with p=1.0 and q=2.0\n",
      "starting training for paris with p=1.0 and q=2.0\n",
      "starting training for adelaide with p=1.0 and q=2.0\n",
      "starting training for turku with p=1.0 and q=5.0\n",
      "starting training for detroit with p=1.0 and q=5.0\n",
      "starting training for paris with p=1.0 and q=5.0\n",
      "starting training for adelaide with p=1.0 and q=5.0\n",
      "starting training for turku with p=5.0 and q=0.1\n",
      "starting training for detroit with p=5.0 and q=0.1\n",
      "starting training for paris with p=5.0 and q=0.1\n",
      "starting training for adelaide with p=5.0 and q=0.1\n",
      "starting training for turku with p=5.0 and q=0.5\n",
      "starting training for detroit with p=5.0 and q=0.5\n",
      "starting training for paris with p=5.0 and q=0.5\n",
      "starting training for adelaide with p=5.0 and q=0.5\n",
      "starting training for turku with p=5.0 and q=1.0\n",
      "starting training for detroit with p=5.0 and q=1.0\n",
      "starting training for paris with p=5.0 and q=1.0\n",
      "starting training for adelaide with p=5.0 and q=1.0\n",
      "starting training for turku with p=5.0 and q=2.0\n",
      "starting training for detroit with p=5.0 and q=2.0\n",
      "starting training for paris with p=5.0 and q=2.0\n",
      "starting training for adelaide with p=5.0 and q=2.0\n",
      "starting training for turku with p=5.0 and q=5.0\n",
      "starting training for detroit with p=5.0 and q=5.0\n",
      "starting training for paris with p=5.0 and q=5.0\n",
      "starting training for adelaide with p=5.0 and q=5.0\n",
      "best parameters with p=5.0 and q=0.1 and f1 0.4916539654532579\n"
     ]
    }
   ],
   "source": [
    "\n",
    "best_p = -1\n",
    "best_q = -1\n",
    "best_score = -1\n",
    "attempts = []\n",
    "for p in [0.1, 1.0, 5.0]:\n",
    "    for q in [0.1, 0.5, 1.0, 2.0, 5.0]:\n",
    "        f1_train = []\n",
    "        f1_val = []\n",
    "        for city in [\"turku\",\"detroit\",\"paris\",\"adelaide\"]:\n",
    "            print(f\"starting training for {city} with p={p} and q={q}\")\n",
    "            city_name = city\n",
    "            data_dir = 'data'\n",
    "            graph, _ = utils.create_city_graph(city_name, data_dir)\n",
    "            graph = nx.DiGraph(graph)\n",
    "\n",
    "            mapping = {k: i for i, k in enumerate(sorted(graph.nodes()))}\n",
    "            graph = nx.relabel_nodes(graph, mapping)\n",
    "\n",
    "            path_edg_file = os.path.join(data_dir, city_name, 'adj_mat.edg')\n",
    "            nx.write_edgelist(graph, path_edg_file, data=False, delimiter='\\t')\n",
    "            g = pp.SparseOTF(p=p, q=q, verbose=False, workers=16)\n",
    "            g.read_edg(path_edg_file, weighted=False, directed=True)\n",
    "\n",
    "            embeddings = g.embed(dim=256, num_walks=100)\n",
    "\n",
    "            targets = dict(graph.nodes(data='city_center'))\n",
    "            targets = np.array([targets[v] for v in range(len(targets))])\n",
    "            X_train, X_test, y_train, y_test = train_test_split(embeddings, targets, test_size=0.2, stratify=targets,random_state=42)\n",
    "            X_train, X_val, y_train, y_val = train_test_split(X_train,y_train,test_size=0.15,stratify=y_train,random_state=42)\n",
    "            model = SVC(class_weight='balanced', C=1)\n",
    "            model.fit(X_train, y_train)\n",
    "\n",
    "            train_preds = model.predict(X_train)\n",
    "            train_rep = classification_report(y_train, train_preds,output_dict=True)\n",
    "            val_preds = model.predict(X_val)\n",
    "            val_rep = classification_report(y_val, val_preds,output_dict=True)\n",
    "\n",
    "            f1_train.append(train_rep[\"1\"][\"f1-score\"])\n",
    "            f1_val.append(val_rep[\"1\"][\"f1-score\"])\n",
    "           \n",
    "        avg_f1_train = np.mean(f1_train)\n",
    "        avg_f1_val = np.mean(f1_val)\n",
    "        attempts.append({\"p\":p,\"q\":q,\"score_train\":avg_f1_train,\"score_val\":avg_f1_val})\n",
    "\n",
    "        if avg_f1_val  > best_score:\n",
    "            best_score = avg_f1_val\n",
    "            best_p = p\n",
    "            best_q = q\n",
    "print(f\"best parameters with p={best_p} and q={best_q} and f1 {best_score}\")\n"
   ]
  },
  {
   "cell_type": "code",
   "execution_count": 8,
   "metadata": {},
   "outputs": [],
   "source": [
    "import json\n",
    "with open(\"save_p_q.json\",\"w\") as f:\n",
    "    json.dump(attempts,f)"
   ]
  },
  {
   "cell_type": "code",
   "execution_count": 210,
   "metadata": {},
   "outputs": [],
   "source": []
  },
  {
   "cell_type": "code",
   "execution_count": 211,
   "metadata": {},
   "outputs": [
    {
     "data": {
      "text/plain": [
       "(1850, 256)"
      ]
     },
     "execution_count": 211,
     "metadata": {},
     "output_type": "execute_result"
    }
   ],
   "source": [
    "embeddings.shape"
   ]
  },
  {
   "cell_type": "code",
   "execution_count": 17,
   "metadata": {},
   "outputs": [
    {
     "data": {
      "text/plain": [
       "<matplotlib.legend.Legend at 0x7f81909d54b0>"
      ]
     },
     "execution_count": 17,
     "metadata": {},
     "output_type": "execute_result"
    },
    {
     "data": {
      "image/png": "[encoded data removed]",
      "text/plain": [
       "<Figure size 640x480 with 1 Axes>"
      ]
     },
     "metadata": {},
     "output_type": "display_data"
    }
   ],
   "source": [
    "import seaborn as sns\n",
    "lst = []\n",
    "for entry in sorted(os.scandir(\"data\"),key=lambda x: x.name):\n",
    "    if entry.is_dir():\n",
    "        city = entry.name\n",
    "        with open(os.path.join(entry.path, 'results', 'results.json'), 'r') as f:\n",
    "            res_dict = json.load(f)\n",
    "\n",
    "        lst.append((city,\"node2vec\",res_dict[\"baseline_svm\"][\"test\"][\"1\"][\"f1-score\"]))\n",
    "        lst.append((city,\"handcrafted\",res_dict[\"handcrafted_svm\"][\"test\"][\"1\"][\"f1-score\"]))\n",
    "df = pd.DataFrame(lst,columns=[\"city\",\"type\",\"score\"])\n",
    "ax = sns.barplot(df, x=\"city\",y=\"score\",hue=\"type\")\n",
    "ax.tick_params(labelrotation=90) \n",
    "ax.legend(bbox_to_anchor=(1.1, 1.05),loc=\"upper left\")"
   ]
  },
  {
   "cell_type": "code",
   "execution_count": 213,
   "metadata": {},
   "outputs": [],
   "source": []
  },
  {
   "cell_type": "code",
   "execution_count": 214,
   "metadata": {},
   "outputs": [],
   "source": []
  },
  {
   "cell_type": "code",
   "execution_count": 215,
   "metadata": {},
   "outputs": [
    {
     "data": {
      "text/html": [
       "<style>#sk-container-id-29 {color: black;background-color: white;}#sk-container-id-29 pre{padding: 0;}#sk-container-id-29 div.sk-toggleable {background-color: white;}#sk-container-id-29 label.sk-toggleable__label {cursor: pointer;display: block;width: 100%;margin-bottom: 0;padding: 0.3em;box-sizing: border-box;text-align: center;}#sk-container-id-29 label.sk-toggleable__label-arrow:before {content: \"▸\";float: left;margin-right: 0.25em;color: #696969;}#sk-container-id-29 label.sk-toggleable__label-arrow:hover:before {color: black;}#sk-container-id-29 div.sk-estimator:hover label.sk-toggleable__label-arrow:before {color: black;}#sk-container-id-29 div.sk-toggleable__content {max-height: 0;max-width: 0;overflow: hidden;text-align: left;background-color: #f0f8ff;}#sk-container-id-29 div.sk-toggleable__content pre {margin: 0.2em;color: black;border-radius: 0.25em;background-color: #f0f8ff;}#sk-container-id-29 input.sk-toggleable__control:checked~div.sk-toggleable__content {max-height: 200px;max-width: 100%;overflow: auto;}#sk-container-id-29 input.sk-toggleable__control:checked~label.sk-toggleable__label-arrow:before {content: \"▾\";}#sk-container-id-29 div.sk-estimator input.sk-toggleable__control:checked~label.sk-toggleable__label {background-color: #d4ebff;}#sk-container-id-29 div.sk-label input.sk-toggleable__control:checked~label.sk-toggleable__label {background-color: #d4ebff;}#sk-container-id-29 input.sk-hidden--visually {border: 0;clip: rect(1px 1px 1px 1px);clip: rect(1px, 1px, 1px, 1px);height: 1px;margin: -1px;overflow: hidden;padding: 0;position: absolute;width: 1px;}#sk-container-id-29 div.sk-estimator {font-family: monospace;background-color: #f0f8ff;border: 1px dotted black;border-radius: 0.25em;box-sizing: border-box;margin-bottom: 0.5em;}#sk-container-id-29 div.sk-estimator:hover {background-color: #d4ebff;}#sk-container-id-29 div.sk-parallel-item::after {content: \"\";width: 100%;border-bottom: 1px solid gray;flex-grow: 1;}#sk-container-id-29 div.sk-label:hover label.sk-toggleable__label {background-color: #d4ebff;}#sk-container-id-29 div.sk-serial::before {content: \"\";position: absolute;border-left: 1px solid gray;box-sizing: border-box;top: 0;bottom: 0;left: 50%;z-index: 0;}#sk-container-id-29 div.sk-serial {display: flex;flex-direction: column;align-items: center;background-color: white;padding-right: 0.2em;padding-left: 0.2em;position: relative;}#sk-container-id-29 div.sk-item {position: relative;z-index: 1;}#sk-container-id-29 div.sk-parallel {display: flex;align-items: stretch;justify-content: center;background-color: white;position: relative;}#sk-container-id-29 div.sk-item::before, #sk-container-id-29 div.sk-parallel-item::before {content: \"\";position: absolute;border-left: 1px solid gray;box-sizing: border-box;top: 0;bottom: 0;left: 50%;z-index: -1;}#sk-container-id-29 div.sk-parallel-item {display: flex;flex-direction: column;z-index: 1;position: relative;background-color: white;}#sk-container-id-29 div.sk-parallel-item:first-child::after {align-self: flex-end;width: 50%;}#sk-container-id-29 div.sk-parallel-item:last-child::after {align-self: flex-start;width: 50%;}#sk-container-id-29 div.sk-parallel-item:only-child::after {width: 0;}#sk-container-id-29 div.sk-dashed-wrapped {border: 1px dashed gray;margin: 0 0.4em 0.5em 0.4em;box-sizing: border-box;padding-bottom: 0.4em;background-color: white;}#sk-container-id-29 div.sk-label label {font-family: monospace;font-weight: bold;display: inline-block;line-height: 1.2em;}#sk-container-id-29 div.sk-label-container {text-align: center;}#sk-container-id-29 div.sk-container {/* jupyter's `normalize.less` sets `[hidden] { display: none; }` but bootstrap.min.css set `[hidden] { display: none !important; }` so we also need the `!important` here to be able to override the default hidden behavior on the sphinx rendered scikit-learn.org. See: https://github.com/scikit-learn/scikit-learn/issues/21755 */display: inline-block !important;position: relative;}#sk-container-id-29 div.sk-text-repr-fallback {display: none;}</style><div id=\"sk-container-id-29\" class=\"sk-top-container\"><div class=\"sk-text-repr-fallback\"><pre>SVC(C=1, class_weight=&#x27;balanced&#x27;)</pre><b>In a Jupyter environment, please rerun this cell to show the HTML representation or trust the notebook. <br />On GitHub, the HTML representation is unable to render, please try loading this page with nbviewer.org.</b></div><div class=\"sk-container\" hidden><div class=\"sk-item\"><div class=\"sk-estimator sk-toggleable\"><input class=\"sk-toggleable__control sk-hidden--visually\" id=\"sk-estimator-id-29\" type=\"checkbox\" checked><label for=\"sk-estimator-id-29\" class=\"sk-toggleable__label sk-toggleable__label-arrow\">SVC</label><div class=\"sk-toggleable__content\"><pre>SVC(C=1, class_weight=&#x27;balanced&#x27;)</pre></div></div></div></div></div>"
      ],
      "text/plain": [
       "SVC(C=1, class_weight='balanced')"
      ]
     },
     "execution_count": 215,
     "metadata": {},
     "output_type": "execute_result"
    }
   ],
   "source": []
  },
  {
   "cell_type": "code",
   "execution_count": 216,
   "metadata": {},
   "outputs": [
    {
     "name": "stdout",
     "output_type": "stream",
     "text": [
      "              precision    recall  f1-score   support\n",
      "\n",
      "           0       0.97      0.79      0.87      1212\n",
      "           1       0.49      0.90      0.63       268\n",
      "\n",
      "    accuracy                           0.81      1480\n",
      "   macro avg       0.73      0.85      0.75      1480\n",
      "weighted avg       0.88      0.81      0.83      1480\n",
      "\n"
     ]
    }
   ],
   "source": []
  },
  {
   "cell_type": "code",
   "execution_count": 217,
   "metadata": {},
   "outputs": [
    {
     "name": "stdout",
     "output_type": "stream",
     "text": [
      "              precision    recall  f1-score   support\n",
      "\n",
      "           0       0.82      0.67      0.74       303\n",
      "           1       0.18      0.33      0.23        67\n",
      "\n",
      "    accuracy                           0.61       370\n",
      "   macro avg       0.50      0.50      0.49       370\n",
      "weighted avg       0.70      0.61      0.65       370\n",
      "\n"
     ]
    }
   ],
   "source": []
  },
  {
   "cell_type": "code",
   "execution_count": null,
   "metadata": {},
   "outputs": [],
   "source": []
  }
 ],
 "metadata": {
  "kernelspec": {
   "display_name": "ma4",
   "language": "python",
   "name": "python3"
  },
  "language_info": {
   "codemirror_mode": {
    "name": "ipython",
    "version": 3
   },
   "file_extension": ".py",
   "mimetype": "text/x-python",
   "name": "python",
   "nbconvert_exporter": "python",
   "pygments_lexer": "ipython3",
   "version": "3.10.9"
  },
  "orig_nbformat": 4
 },
 "nbformat": 4,
 "nbformat_minor": 2
}
